{
  "nbformat": 4,
  "nbformat_minor": 0,
  "metadata": {
    "colab": {
      "name": "Автоэнкодер_проект.ipynb",
      "provenance": [],
      "collapsed_sections": [
        "LQ7i1HkmYY68"
      ],
      "toc_visible": true
    },
    "kernelspec": {
      "name": "python3",
      "display_name": "Python 3"
    },
    "accelerator": "GPU",
    "widgets": {
      "application/vnd.jupyter.widget-state+json": {
        "b1f8dd772e7543fe9da659afc5dc8be0": {
          "model_module": "@jupyter-widgets/controls",
          "model_name": "HBoxModel",
          "state": {
            "_view_name": "HBoxView",
            "_dom_classes": [],
            "_model_name": "HBoxModel",
            "_view_module": "@jupyter-widgets/controls",
            "_model_module_version": "1.5.0",
            "_view_count": null,
            "_view_module_version": "1.5.0",
            "box_style": "",
            "layout": "IPY_MODEL_eac41a5fb30343189783e28c9c311f96",
            "_model_module": "@jupyter-widgets/controls",
            "children": [
              "IPY_MODEL_349b7d046cca40f98fe4720929ed6e91",
              "IPY_MODEL_f1f5cddcf1fa4424bf4d51e654f23c89"
            ]
          }
        },
        "eac41a5fb30343189783e28c9c311f96": {
          "model_module": "@jupyter-widgets/base",
          "model_name": "LayoutModel",
          "state": {
            "_view_name": "LayoutView",
            "grid_template_rows": null,
            "right": null,
            "justify_content": null,
            "_view_module": "@jupyter-widgets/base",
            "overflow": null,
            "_model_module_version": "1.2.0",
            "_view_count": null,
            "flex_flow": null,
            "width": null,
            "min_width": null,
            "border": null,
            "align_items": null,
            "bottom": null,
            "_model_module": "@jupyter-widgets/base",
            "top": null,
            "grid_column": null,
            "overflow_y": null,
            "overflow_x": null,
            "grid_auto_flow": null,
            "grid_area": null,
            "grid_template_columns": null,
            "flex": null,
            "_model_name": "LayoutModel",
            "justify_items": null,
            "grid_row": null,
            "max_height": null,
            "align_content": null,
            "visibility": null,
            "align_self": null,
            "height": null,
            "min_height": null,
            "padding": null,
            "grid_auto_rows": null,
            "grid_gap": null,
            "max_width": null,
            "order": null,
            "_view_module_version": "1.2.0",
            "grid_template_areas": null,
            "object_position": null,
            "object_fit": null,
            "grid_auto_columns": null,
            "margin": null,
            "display": null,
            "left": null
          }
        },
        "349b7d046cca40f98fe4720929ed6e91": {
          "model_module": "@jupyter-widgets/controls",
          "model_name": "FloatProgressModel",
          "state": {
            "_view_name": "ProgressView",
            "style": "IPY_MODEL_1a9214aa800b4506b9532d13ac0a6f96",
            "_dom_classes": [],
            "description": "",
            "_model_name": "FloatProgressModel",
            "bar_style": "info",
            "max": 1,
            "_view_module": "@jupyter-widgets/controls",
            "_model_module_version": "1.5.0",
            "value": 1,
            "_view_count": null,
            "_view_module_version": "1.5.0",
            "orientation": "horizontal",
            "min": 0,
            "description_tooltip": null,
            "_model_module": "@jupyter-widgets/controls",
            "layout": "IPY_MODEL_a859699912d04027b4ab8fd75c26e1bb"
          }
        },
        "f1f5cddcf1fa4424bf4d51e654f23c89": {
          "model_module": "@jupyter-widgets/controls",
          "model_name": "HTMLModel",
          "state": {
            "_view_name": "HTMLView",
            "style": "IPY_MODEL_fec382fb73514b20a0ce4629f453028b",
            "_dom_classes": [],
            "description": "",
            "_model_name": "HTMLModel",
            "placeholder": "​",
            "_view_module": "@jupyter-widgets/controls",
            "_model_module_version": "1.5.0",
            "value": " 9920512/? [00:20&lt;00:00, 1114708.24it/s]",
            "_view_count": null,
            "_view_module_version": "1.5.0",
            "description_tooltip": null,
            "_model_module": "@jupyter-widgets/controls",
            "layout": "IPY_MODEL_44552c4bb21b43d2919119f39ac03e7e"
          }
        },
        "1a9214aa800b4506b9532d13ac0a6f96": {
          "model_module": "@jupyter-widgets/controls",
          "model_name": "ProgressStyleModel",
          "state": {
            "_view_name": "StyleView",
            "_model_name": "ProgressStyleModel",
            "description_width": "initial",
            "_view_module": "@jupyter-widgets/base",
            "_model_module_version": "1.5.0",
            "_view_count": null,
            "_view_module_version": "1.2.0",
            "bar_color": null,
            "_model_module": "@jupyter-widgets/controls"
          }
        },
        "a859699912d04027b4ab8fd75c26e1bb": {
          "model_module": "@jupyter-widgets/base",
          "model_name": "LayoutModel",
          "state": {
            "_view_name": "LayoutView",
            "grid_template_rows": null,
            "right": null,
            "justify_content": null,
            "_view_module": "@jupyter-widgets/base",
            "overflow": null,
            "_model_module_version": "1.2.0",
            "_view_count": null,
            "flex_flow": null,
            "width": null,
            "min_width": null,
            "border": null,
            "align_items": null,
            "bottom": null,
            "_model_module": "@jupyter-widgets/base",
            "top": null,
            "grid_column": null,
            "overflow_y": null,
            "overflow_x": null,
            "grid_auto_flow": null,
            "grid_area": null,
            "grid_template_columns": null,
            "flex": null,
            "_model_name": "LayoutModel",
            "justify_items": null,
            "grid_row": null,
            "max_height": null,
            "align_content": null,
            "visibility": null,
            "align_self": null,
            "height": null,
            "min_height": null,
            "padding": null,
            "grid_auto_rows": null,
            "grid_gap": null,
            "max_width": null,
            "order": null,
            "_view_module_version": "1.2.0",
            "grid_template_areas": null,
            "object_position": null,
            "object_fit": null,
            "grid_auto_columns": null,
            "margin": null,
            "display": null,
            "left": null
          }
        },
        "fec382fb73514b20a0ce4629f453028b": {
          "model_module": "@jupyter-widgets/controls",
          "model_name": "DescriptionStyleModel",
          "state": {
            "_view_name": "StyleView",
            "_model_name": "DescriptionStyleModel",
            "description_width": "",
            "_view_module": "@jupyter-widgets/base",
            "_model_module_version": "1.5.0",
            "_view_count": null,
            "_view_module_version": "1.2.0",
            "_model_module": "@jupyter-widgets/controls"
          }
        },
        "44552c4bb21b43d2919119f39ac03e7e": {
          "model_module": "@jupyter-widgets/base",
          "model_name": "LayoutModel",
          "state": {
            "_view_name": "LayoutView",
            "grid_template_rows": null,
            "right": null,
            "justify_content": null,
            "_view_module": "@jupyter-widgets/base",
            "overflow": null,
            "_model_module_version": "1.2.0",
            "_view_count": null,
            "flex_flow": null,
            "width": null,
            "min_width": null,
            "border": null,
            "align_items": null,
            "bottom": null,
            "_model_module": "@jupyter-widgets/base",
            "top": null,
            "grid_column": null,
            "overflow_y": null,
            "overflow_x": null,
            "grid_auto_flow": null,
            "grid_area": null,
            "grid_template_columns": null,
            "flex": null,
            "_model_name": "LayoutModel",
            "justify_items": null,
            "grid_row": null,
            "max_height": null,
            "align_content": null,
            "visibility": null,
            "align_self": null,
            "height": null,
            "min_height": null,
            "padding": null,
            "grid_auto_rows": null,
            "grid_gap": null,
            "max_width": null,
            "order": null,
            "_view_module_version": "1.2.0",
            "grid_template_areas": null,
            "object_position": null,
            "object_fit": null,
            "grid_auto_columns": null,
            "margin": null,
            "display": null,
            "left": null
          }
        },
        "ed16f8d3aa6d46d1812f288e5f20ee95": {
          "model_module": "@jupyter-widgets/controls",
          "model_name": "HBoxModel",
          "state": {
            "_view_name": "HBoxView",
            "_dom_classes": [],
            "_model_name": "HBoxModel",
            "_view_module": "@jupyter-widgets/controls",
            "_model_module_version": "1.5.0",
            "_view_count": null,
            "_view_module_version": "1.5.0",
            "box_style": "",
            "layout": "IPY_MODEL_46d05db3d6c249b6a9c2b8b04576eb6a",
            "_model_module": "@jupyter-widgets/controls",
            "children": [
              "IPY_MODEL_82d489c9f6164d188bfd394342e89f08",
              "IPY_MODEL_5487bfa44d7c48528d3ed4e74fec1516"
            ]
          }
        },
        "46d05db3d6c249b6a9c2b8b04576eb6a": {
          "model_module": "@jupyter-widgets/base",
          "model_name": "LayoutModel",
          "state": {
            "_view_name": "LayoutView",
            "grid_template_rows": null,
            "right": null,
            "justify_content": null,
            "_view_module": "@jupyter-widgets/base",
            "overflow": null,
            "_model_module_version": "1.2.0",
            "_view_count": null,
            "flex_flow": null,
            "width": null,
            "min_width": null,
            "border": null,
            "align_items": null,
            "bottom": null,
            "_model_module": "@jupyter-widgets/base",
            "top": null,
            "grid_column": null,
            "overflow_y": null,
            "overflow_x": null,
            "grid_auto_flow": null,
            "grid_area": null,
            "grid_template_columns": null,
            "flex": null,
            "_model_name": "LayoutModel",
            "justify_items": null,
            "grid_row": null,
            "max_height": null,
            "align_content": null,
            "visibility": null,
            "align_self": null,
            "height": null,
            "min_height": null,
            "padding": null,
            "grid_auto_rows": null,
            "grid_gap": null,
            "max_width": null,
            "order": null,
            "_view_module_version": "1.2.0",
            "grid_template_areas": null,
            "object_position": null,
            "object_fit": null,
            "grid_auto_columns": null,
            "margin": null,
            "display": null,
            "left": null
          }
        },
        "82d489c9f6164d188bfd394342e89f08": {
          "model_module": "@jupyter-widgets/controls",
          "model_name": "FloatProgressModel",
          "state": {
            "_view_name": "ProgressView",
            "style": "IPY_MODEL_21c9e17a7496465fa40dafe65e6bd2bf",
            "_dom_classes": [],
            "description": "",
            "_model_name": "FloatProgressModel",
            "bar_style": "success",
            "max": 1,
            "_view_module": "@jupyter-widgets/controls",
            "_model_module_version": "1.5.0",
            "value": 1,
            "_view_count": null,
            "_view_module_version": "1.5.0",
            "orientation": "horizontal",
            "min": 0,
            "description_tooltip": null,
            "_model_module": "@jupyter-widgets/controls",
            "layout": "IPY_MODEL_d378a6c6570a4a68842d76651ea4b286"
          }
        },
        "5487bfa44d7c48528d3ed4e74fec1516": {
          "model_module": "@jupyter-widgets/controls",
          "model_name": "HTMLModel",
          "state": {
            "_view_name": "HTMLView",
            "style": "IPY_MODEL_6b6102585a614049ae9f35475e8c29ee",
            "_dom_classes": [],
            "description": "",
            "_model_name": "HTMLModel",
            "placeholder": "​",
            "_view_module": "@jupyter-widgets/controls",
            "_model_module_version": "1.5.0",
            "value": " 32768/? [00:01&lt;00:00, 24157.08it/s]",
            "_view_count": null,
            "_view_module_version": "1.5.0",
            "description_tooltip": null,
            "_model_module": "@jupyter-widgets/controls",
            "layout": "IPY_MODEL_beec10697cf545a2b2a57e2d2a0d749d"
          }
        },
        "21c9e17a7496465fa40dafe65e6bd2bf": {
          "model_module": "@jupyter-widgets/controls",
          "model_name": "ProgressStyleModel",
          "state": {
            "_view_name": "StyleView",
            "_model_name": "ProgressStyleModel",
            "description_width": "initial",
            "_view_module": "@jupyter-widgets/base",
            "_model_module_version": "1.5.0",
            "_view_count": null,
            "_view_module_version": "1.2.0",
            "bar_color": null,
            "_model_module": "@jupyter-widgets/controls"
          }
        },
        "d378a6c6570a4a68842d76651ea4b286": {
          "model_module": "@jupyter-widgets/base",
          "model_name": "LayoutModel",
          "state": {
            "_view_name": "LayoutView",
            "grid_template_rows": null,
            "right": null,
            "justify_content": null,
            "_view_module": "@jupyter-widgets/base",
            "overflow": null,
            "_model_module_version": "1.2.0",
            "_view_count": null,
            "flex_flow": null,
            "width": null,
            "min_width": null,
            "border": null,
            "align_items": null,
            "bottom": null,
            "_model_module": "@jupyter-widgets/base",
            "top": null,
            "grid_column": null,
            "overflow_y": null,
            "overflow_x": null,
            "grid_auto_flow": null,
            "grid_area": null,
            "grid_template_columns": null,
            "flex": null,
            "_model_name": "LayoutModel",
            "justify_items": null,
            "grid_row": null,
            "max_height": null,
            "align_content": null,
            "visibility": null,
            "align_self": null,
            "height": null,
            "min_height": null,
            "padding": null,
            "grid_auto_rows": null,
            "grid_gap": null,
            "max_width": null,
            "order": null,
            "_view_module_version": "1.2.0",
            "grid_template_areas": null,
            "object_position": null,
            "object_fit": null,
            "grid_auto_columns": null,
            "margin": null,
            "display": null,
            "left": null
          }
        },
        "6b6102585a614049ae9f35475e8c29ee": {
          "model_module": "@jupyter-widgets/controls",
          "model_name": "DescriptionStyleModel",
          "state": {
            "_view_name": "StyleView",
            "_model_name": "DescriptionStyleModel",
            "description_width": "",
            "_view_module": "@jupyter-widgets/base",
            "_model_module_version": "1.5.0",
            "_view_count": null,
            "_view_module_version": "1.2.0",
            "_model_module": "@jupyter-widgets/controls"
          }
        },
        "beec10697cf545a2b2a57e2d2a0d749d": {
          "model_module": "@jupyter-widgets/base",
          "model_name": "LayoutModel",
          "state": {
            "_view_name": "LayoutView",
            "grid_template_rows": null,
            "right": null,
            "justify_content": null,
            "_view_module": "@jupyter-widgets/base",
            "overflow": null,
            "_model_module_version": "1.2.0",
            "_view_count": null,
            "flex_flow": null,
            "width": null,
            "min_width": null,
            "border": null,
            "align_items": null,
            "bottom": null,
            "_model_module": "@jupyter-widgets/base",
            "top": null,
            "grid_column": null,
            "overflow_y": null,
            "overflow_x": null,
            "grid_auto_flow": null,
            "grid_area": null,
            "grid_template_columns": null,
            "flex": null,
            "_model_name": "LayoutModel",
            "justify_items": null,
            "grid_row": null,
            "max_height": null,
            "align_content": null,
            "visibility": null,
            "align_self": null,
            "height": null,
            "min_height": null,
            "padding": null,
            "grid_auto_rows": null,
            "grid_gap": null,
            "max_width": null,
            "order": null,
            "_view_module_version": "1.2.0",
            "grid_template_areas": null,
            "object_position": null,
            "object_fit": null,
            "grid_auto_columns": null,
            "margin": null,
            "display": null,
            "left": null
          }
        },
        "c4f57b4ea26f4e00abfebca6df5853b7": {
          "model_module": "@jupyter-widgets/controls",
          "model_name": "HBoxModel",
          "state": {
            "_view_name": "HBoxView",
            "_dom_classes": [],
            "_model_name": "HBoxModel",
            "_view_module": "@jupyter-widgets/controls",
            "_model_module_version": "1.5.0",
            "_view_count": null,
            "_view_module_version": "1.5.0",
            "box_style": "",
            "layout": "IPY_MODEL_74a1ca6946f94b9c853ea77cd8c7bb29",
            "_model_module": "@jupyter-widgets/controls",
            "children": [
              "IPY_MODEL_638d2534caef4a64b8a5ab37645a1a34",
              "IPY_MODEL_6186f51335434212aaa317db25494e74"
            ]
          }
        },
        "74a1ca6946f94b9c853ea77cd8c7bb29": {
          "model_module": "@jupyter-widgets/base",
          "model_name": "LayoutModel",
          "state": {
            "_view_name": "LayoutView",
            "grid_template_rows": null,
            "right": null,
            "justify_content": null,
            "_view_module": "@jupyter-widgets/base",
            "overflow": null,
            "_model_module_version": "1.2.0",
            "_view_count": null,
            "flex_flow": null,
            "width": null,
            "min_width": null,
            "border": null,
            "align_items": null,
            "bottom": null,
            "_model_module": "@jupyter-widgets/base",
            "top": null,
            "grid_column": null,
            "overflow_y": null,
            "overflow_x": null,
            "grid_auto_flow": null,
            "grid_area": null,
            "grid_template_columns": null,
            "flex": null,
            "_model_name": "LayoutModel",
            "justify_items": null,
            "grid_row": null,
            "max_height": null,
            "align_content": null,
            "visibility": null,
            "align_self": null,
            "height": null,
            "min_height": null,
            "padding": null,
            "grid_auto_rows": null,
            "grid_gap": null,
            "max_width": null,
            "order": null,
            "_view_module_version": "1.2.0",
            "grid_template_areas": null,
            "object_position": null,
            "object_fit": null,
            "grid_auto_columns": null,
            "margin": null,
            "display": null,
            "left": null
          }
        },
        "638d2534caef4a64b8a5ab37645a1a34": {
          "model_module": "@jupyter-widgets/controls",
          "model_name": "FloatProgressModel",
          "state": {
            "_view_name": "ProgressView",
            "style": "IPY_MODEL_6c2111f7507a4ba8b0f84fcc6d685591",
            "_dom_classes": [],
            "description": "",
            "_model_name": "FloatProgressModel",
            "bar_style": "success",
            "max": 1,
            "_view_module": "@jupyter-widgets/controls",
            "_model_module_version": "1.5.0",
            "value": 1,
            "_view_count": null,
            "_view_module_version": "1.5.0",
            "orientation": "horizontal",
            "min": 0,
            "description_tooltip": null,
            "_model_module": "@jupyter-widgets/controls",
            "layout": "IPY_MODEL_0cabfb47b20c432c833f1efaa5f404aa"
          }
        },
        "6186f51335434212aaa317db25494e74": {
          "model_module": "@jupyter-widgets/controls",
          "model_name": "HTMLModel",
          "state": {
            "_view_name": "HTMLView",
            "style": "IPY_MODEL_33a4821cddbd461aafc202a6702c3b25",
            "_dom_classes": [],
            "description": "",
            "_model_name": "HTMLModel",
            "placeholder": "​",
            "_view_module": "@jupyter-widgets/controls",
            "_model_module_version": "1.5.0",
            "value": " 1654784/? [00:01&lt;00:00, 1562279.82it/s]",
            "_view_count": null,
            "_view_module_version": "1.5.0",
            "description_tooltip": null,
            "_model_module": "@jupyter-widgets/controls",
            "layout": "IPY_MODEL_1919cb9eca5b4fc6a8c70f8feccff09e"
          }
        },
        "6c2111f7507a4ba8b0f84fcc6d685591": {
          "model_module": "@jupyter-widgets/controls",
          "model_name": "ProgressStyleModel",
          "state": {
            "_view_name": "StyleView",
            "_model_name": "ProgressStyleModel",
            "description_width": "initial",
            "_view_module": "@jupyter-widgets/base",
            "_model_module_version": "1.5.0",
            "_view_count": null,
            "_view_module_version": "1.2.0",
            "bar_color": null,
            "_model_module": "@jupyter-widgets/controls"
          }
        },
        "0cabfb47b20c432c833f1efaa5f404aa": {
          "model_module": "@jupyter-widgets/base",
          "model_name": "LayoutModel",
          "state": {
            "_view_name": "LayoutView",
            "grid_template_rows": null,
            "right": null,
            "justify_content": null,
            "_view_module": "@jupyter-widgets/base",
            "overflow": null,
            "_model_module_version": "1.2.0",
            "_view_count": null,
            "flex_flow": null,
            "width": null,
            "min_width": null,
            "border": null,
            "align_items": null,
            "bottom": null,
            "_model_module": "@jupyter-widgets/base",
            "top": null,
            "grid_column": null,
            "overflow_y": null,
            "overflow_x": null,
            "grid_auto_flow": null,
            "grid_area": null,
            "grid_template_columns": null,
            "flex": null,
            "_model_name": "LayoutModel",
            "justify_items": null,
            "grid_row": null,
            "max_height": null,
            "align_content": null,
            "visibility": null,
            "align_self": null,
            "height": null,
            "min_height": null,
            "padding": null,
            "grid_auto_rows": null,
            "grid_gap": null,
            "max_width": null,
            "order": null,
            "_view_module_version": "1.2.0",
            "grid_template_areas": null,
            "object_position": null,
            "object_fit": null,
            "grid_auto_columns": null,
            "margin": null,
            "display": null,
            "left": null
          }
        },
        "33a4821cddbd461aafc202a6702c3b25": {
          "model_module": "@jupyter-widgets/controls",
          "model_name": "DescriptionStyleModel",
          "state": {
            "_view_name": "StyleView",
            "_model_name": "DescriptionStyleModel",
            "description_width": "",
            "_view_module": "@jupyter-widgets/base",
            "_model_module_version": "1.5.0",
            "_view_count": null,
            "_view_module_version": "1.2.0",
            "_model_module": "@jupyter-widgets/controls"
          }
        },
        "1919cb9eca5b4fc6a8c70f8feccff09e": {
          "model_module": "@jupyter-widgets/base",
          "model_name": "LayoutModel",
          "state": {
            "_view_name": "LayoutView",
            "grid_template_rows": null,
            "right": null,
            "justify_content": null,
            "_view_module": "@jupyter-widgets/base",
            "overflow": null,
            "_model_module_version": "1.2.0",
            "_view_count": null,
            "flex_flow": null,
            "width": null,
            "min_width": null,
            "border": null,
            "align_items": null,
            "bottom": null,
            "_model_module": "@jupyter-widgets/base",
            "top": null,
            "grid_column": null,
            "overflow_y": null,
            "overflow_x": null,
            "grid_auto_flow": null,
            "grid_area": null,
            "grid_template_columns": null,
            "flex": null,
            "_model_name": "LayoutModel",
            "justify_items": null,
            "grid_row": null,
            "max_height": null,
            "align_content": null,
            "visibility": null,
            "align_self": null,
            "height": null,
            "min_height": null,
            "padding": null,
            "grid_auto_rows": null,
            "grid_gap": null,
            "max_width": null,
            "order": null,
            "_view_module_version": "1.2.0",
            "grid_template_areas": null,
            "object_position": null,
            "object_fit": null,
            "grid_auto_columns": null,
            "margin": null,
            "display": null,
            "left": null
          }
        },
        "8dd7868c82664b4197ab615d7cfca3fe": {
          "model_module": "@jupyter-widgets/controls",
          "model_name": "HBoxModel",
          "state": {
            "_view_name": "HBoxView",
            "_dom_classes": [],
            "_model_name": "HBoxModel",
            "_view_module": "@jupyter-widgets/controls",
            "_model_module_version": "1.5.0",
            "_view_count": null,
            "_view_module_version": "1.5.0",
            "box_style": "",
            "layout": "IPY_MODEL_3228a710843c4123986623868bfa3b63",
            "_model_module": "@jupyter-widgets/controls",
            "children": [
              "IPY_MODEL_62801cb34b5047baba15ffed3e72c316",
              "IPY_MODEL_e2a5e71649ca4c69951d30c88fe5fae3"
            ]
          }
        },
        "3228a710843c4123986623868bfa3b63": {
          "model_module": "@jupyter-widgets/base",
          "model_name": "LayoutModel",
          "state": {
            "_view_name": "LayoutView",
            "grid_template_rows": null,
            "right": null,
            "justify_content": null,
            "_view_module": "@jupyter-widgets/base",
            "overflow": null,
            "_model_module_version": "1.2.0",
            "_view_count": null,
            "flex_flow": null,
            "width": null,
            "min_width": null,
            "border": null,
            "align_items": null,
            "bottom": null,
            "_model_module": "@jupyter-widgets/base",
            "top": null,
            "grid_column": null,
            "overflow_y": null,
            "overflow_x": null,
            "grid_auto_flow": null,
            "grid_area": null,
            "grid_template_columns": null,
            "flex": null,
            "_model_name": "LayoutModel",
            "justify_items": null,
            "grid_row": null,
            "max_height": null,
            "align_content": null,
            "visibility": null,
            "align_self": null,
            "height": null,
            "min_height": null,
            "padding": null,
            "grid_auto_rows": null,
            "grid_gap": null,
            "max_width": null,
            "order": null,
            "_view_module_version": "1.2.0",
            "grid_template_areas": null,
            "object_position": null,
            "object_fit": null,
            "grid_auto_columns": null,
            "margin": null,
            "display": null,
            "left": null
          }
        },
        "62801cb34b5047baba15ffed3e72c316": {
          "model_module": "@jupyter-widgets/controls",
          "model_name": "FloatProgressModel",
          "state": {
            "_view_name": "ProgressView",
            "style": "IPY_MODEL_e3b9e32fa7f34731ad62b1d7aff6a756",
            "_dom_classes": [],
            "description": "",
            "_model_name": "FloatProgressModel",
            "bar_style": "success",
            "max": 1,
            "_view_module": "@jupyter-widgets/controls",
            "_model_module_version": "1.5.0",
            "value": 1,
            "_view_count": null,
            "_view_module_version": "1.5.0",
            "orientation": "horizontal",
            "min": 0,
            "description_tooltip": null,
            "_model_module": "@jupyter-widgets/controls",
            "layout": "IPY_MODEL_bc4db64cc326402d916fa96c1f6130c0"
          }
        },
        "e2a5e71649ca4c69951d30c88fe5fae3": {
          "model_module": "@jupyter-widgets/controls",
          "model_name": "HTMLModel",
          "state": {
            "_view_name": "HTMLView",
            "style": "IPY_MODEL_1283957241854dc3a30f6d8e824048b3",
            "_dom_classes": [],
            "description": "",
            "_model_name": "HTMLModel",
            "placeholder": "​",
            "_view_module": "@jupyter-widgets/controls",
            "_model_module_version": "1.5.0",
            "value": " 8192/? [00:00&lt;00:00, 24563.41it/s]",
            "_view_count": null,
            "_view_module_version": "1.5.0",
            "description_tooltip": null,
            "_model_module": "@jupyter-widgets/controls",
            "layout": "IPY_MODEL_aea41cf4576d4f809f20307fbfd2b2b4"
          }
        },
        "e3b9e32fa7f34731ad62b1d7aff6a756": {
          "model_module": "@jupyter-widgets/controls",
          "model_name": "ProgressStyleModel",
          "state": {
            "_view_name": "StyleView",
            "_model_name": "ProgressStyleModel",
            "description_width": "initial",
            "_view_module": "@jupyter-widgets/base",
            "_model_module_version": "1.5.0",
            "_view_count": null,
            "_view_module_version": "1.2.0",
            "bar_color": null,
            "_model_module": "@jupyter-widgets/controls"
          }
        },
        "bc4db64cc326402d916fa96c1f6130c0": {
          "model_module": "@jupyter-widgets/base",
          "model_name": "LayoutModel",
          "state": {
            "_view_name": "LayoutView",
            "grid_template_rows": null,
            "right": null,
            "justify_content": null,
            "_view_module": "@jupyter-widgets/base",
            "overflow": null,
            "_model_module_version": "1.2.0",
            "_view_count": null,
            "flex_flow": null,
            "width": null,
            "min_width": null,
            "border": null,
            "align_items": null,
            "bottom": null,
            "_model_module": "@jupyter-widgets/base",
            "top": null,
            "grid_column": null,
            "overflow_y": null,
            "overflow_x": null,
            "grid_auto_flow": null,
            "grid_area": null,
            "grid_template_columns": null,
            "flex": null,
            "_model_name": "LayoutModel",
            "justify_items": null,
            "grid_row": null,
            "max_height": null,
            "align_content": null,
            "visibility": null,
            "align_self": null,
            "height": null,
            "min_height": null,
            "padding": null,
            "grid_auto_rows": null,
            "grid_gap": null,
            "max_width": null,
            "order": null,
            "_view_module_version": "1.2.0",
            "grid_template_areas": null,
            "object_position": null,
            "object_fit": null,
            "grid_auto_columns": null,
            "margin": null,
            "display": null,
            "left": null
          }
        },
        "1283957241854dc3a30f6d8e824048b3": {
          "model_module": "@jupyter-widgets/controls",
          "model_name": "DescriptionStyleModel",
          "state": {
            "_view_name": "StyleView",
            "_model_name": "DescriptionStyleModel",
            "description_width": "",
            "_view_module": "@jupyter-widgets/base",
            "_model_module_version": "1.5.0",
            "_view_count": null,
            "_view_module_version": "1.2.0",
            "_model_module": "@jupyter-widgets/controls"
          }
        },
        "aea41cf4576d4f809f20307fbfd2b2b4": {
          "model_module": "@jupyter-widgets/base",
          "model_name": "LayoutModel",
          "state": {
            "_view_name": "LayoutView",
            "grid_template_rows": null,
            "right": null,
            "justify_content": null,
            "_view_module": "@jupyter-widgets/base",
            "overflow": null,
            "_model_module_version": "1.2.0",
            "_view_count": null,
            "flex_flow": null,
            "width": null,
            "min_width": null,
            "border": null,
            "align_items": null,
            "bottom": null,
            "_model_module": "@jupyter-widgets/base",
            "top": null,
            "grid_column": null,
            "overflow_y": null,
            "overflow_x": null,
            "grid_auto_flow": null,
            "grid_area": null,
            "grid_template_columns": null,
            "flex": null,
            "_model_name": "LayoutModel",
            "justify_items": null,
            "grid_row": null,
            "max_height": null,
            "align_content": null,
            "visibility": null,
            "align_self": null,
            "height": null,
            "min_height": null,
            "padding": null,
            "grid_auto_rows": null,
            "grid_gap": null,
            "max_width": null,
            "order": null,
            "_view_module_version": "1.2.0",
            "grid_template_areas": null,
            "object_position": null,
            "object_fit": null,
            "grid_auto_columns": null,
            "margin": null,
            "display": null,
            "left": null
          }
        }
      }
    }
  },
  "cells": [
    {
      "cell_type": "markdown",
      "metadata": {
        "id": "LQ7i1HkmYY68",
        "colab_type": "text"
      },
      "source": [
        "# Autoencoders"
      ]
    },
    {
      "cell_type": "markdown",
      "metadata": {
        "id": "7rYVufslYY7D",
        "colab_type": "text"
      },
      "source": [
        "В этом ноутбуке мы будем тренировать автоэнкодеры кодировать лица людей. Для этого возьмем следующий датасет: \"Labeled Faces in the Wild\" (LFW) (http://vis-www.cs.umass.edu/lfw/). Код для скачивания и загрузки датасета написан за вас в файле get_dataset.py\n"
      ]
    },
    {
      "cell_type": "markdown",
      "metadata": {
        "id": "Wru2LNFuL2Iq",
        "colab_type": "text"
      },
      "source": [
        "# Vanilla Autoencoder (3 балла)"
      ]
    },
    {
      "cell_type": "markdown",
      "metadata": {
        "id": "kr3STtdpYY7G",
        "colab_type": "text"
      },
      "source": [
        "## Prepare the data\n"
      ]
    },
    {
      "cell_type": "code",
      "metadata": {
        "id": "Q6H9t8Te4QL2",
        "colab_type": "code",
        "colab": {
          "base_uri": "https://localhost:8080/",
          "height": 35
        },
        "outputId": "d869543f-85d3-4727-b415-22c206c5a9b0"
      },
      "source": [
        "!pip install Pillow"
      ],
      "execution_count": 1,
      "outputs": [
        {
          "output_type": "stream",
          "text": [
            "Requirement already satisfied: Pillow in /usr/local/lib/python3.6/dist-packages (7.0.0)\n"
          ],
          "name": "stdout"
        }
      ]
    },
    {
      "cell_type": "code",
      "metadata": {
        "id": "KXJSSU4c9wEw",
        "colab_type": "code",
        "colab": {
          "base_uri": "https://localhost:8080/",
          "height": 268
        },
        "outputId": "6529d1a1-b509-4e8b-cffa-17ad888bd21b"
      },
      "source": [
        "!pip install scipy==1.1.0"
      ],
      "execution_count": 2,
      "outputs": [
        {
          "output_type": "stream",
          "text": [
            "Collecting scipy==1.1.0\n",
            "\u001b[?25l  Downloading https://files.pythonhosted.org/packages/a8/0b/f163da98d3a01b3e0ef1cab8dd2123c34aee2bafbb1c5bffa354cc8a1730/scipy-1.1.0-cp36-cp36m-manylinux1_x86_64.whl (31.2MB)\n",
            "\u001b[K     |████████████████████████████████| 31.2MB 101kB/s \n",
            "\u001b[?25hRequirement already satisfied: numpy>=1.8.2 in /usr/local/lib/python3.6/dist-packages (from scipy==1.1.0) (1.18.5)\n",
            "\u001b[31mERROR: umap-learn 0.4.4 has requirement scipy>=1.3.1, but you'll have scipy 1.1.0 which is incompatible.\u001b[0m\n",
            "\u001b[31mERROR: tensorflow 2.2.0 has requirement scipy==1.4.1; python_version >= \"3\", but you'll have scipy 1.1.0 which is incompatible.\u001b[0m\n",
            "\u001b[31mERROR: plotnine 0.6.0 has requirement scipy>=1.2.0, but you'll have scipy 1.1.0 which is incompatible.\u001b[0m\n",
            "\u001b[31mERROR: albumentations 0.1.12 has requirement imgaug<0.2.7,>=0.2.5, but you'll have imgaug 0.2.9 which is incompatible.\u001b[0m\n",
            "Installing collected packages: scipy\n",
            "  Found existing installation: scipy 1.4.1\n",
            "    Uninstalling scipy-1.4.1:\n",
            "      Successfully uninstalled scipy-1.4.1\n",
            "Successfully installed scipy-1.1.0\n"
          ],
          "name": "stdout"
        }
      ]
    },
    {
      "cell_type": "code",
      "metadata": {
        "id": "xTNi9JLRYY7I",
        "colab_type": "code",
        "colab": {}
      },
      "source": [
        "import numpy as np\n",
        "from torch.autograd import Variable\n",
        "import torch.nn as nn\n",
        "import torch.nn.functional as F\n",
        "import torch.optim as optim\n",
        "from copy import deepcopy\n",
        "import torch.utils.data as data_utils\n",
        "from torchsummary import summary\n",
        "from torch.utils.data import Dataset, DataLoader\n",
        "import torch\n",
        "from torchvision import transforms, datasets\n",
        "from sklearn.model_selection import train_test_split\n",
        "import matplotlib.pyplot as plt\n",
        "import pandas as pd\n",
        "\n",
        "%matplotlib inline"
      ],
      "execution_count": 3,
      "outputs": []
    },
    {
      "cell_type": "code",
      "metadata": {
        "id": "MQa9HIq89dfj",
        "colab_type": "code",
        "colab": {}
      },
      "source": [
        "import os\n",
        "from scipy.misc.pilutil import imread,imresize\n",
        "import pandas as pd\n",
        "\n",
        "def fetch_dataset(attrs_name = \"lfw_attributes.txt\",\n",
        "                      images_name = \"lfw-deepfunneled\",\n",
        "                      dx=80,dy=80,\n",
        "                      dimx=45,dimy=45\n",
        "    ):\n",
        "\n",
        "    #download if not exists\n",
        "    if not os.path.exists(images_name):\n",
        "        print(\"images not found, donwloading...\")\n",
        "        os.system(\"wget http://vis-www.cs.umass.edu/lfw/lfw-deepfunneled.tgz -O tmp.tgz\")\n",
        "        print(\"extracting...\")\n",
        "        os.system(\"tar xvzf tmp.tgz && rm tmp.tgz\")\n",
        "        print(\"done\")\n",
        "        assert os.path.exists(images_name)\n",
        "\n",
        "    if not os.path.exists(attrs_name):\n",
        "        print(\"attributes not found, downloading...\")\n",
        "        os.system(\"wget http://www.cs.columbia.edu/CAVE/databases/pubfig/download/%s\" % attrs_name)\n",
        "        print(\"done\")\n",
        "\n",
        "    #read attrs\n",
        "    df_attrs = pd.read_csv(\"lfw_attributes.txt\",sep='\\t',skiprows=1,) \n",
        "    df_attrs = pd.DataFrame(df_attrs.iloc[:,:-1].values, columns = df_attrs.columns[1:])\n",
        "\n",
        "\n",
        "    #read photos\n",
        "    photo_ids = []\n",
        "    for dirpath, dirnames, filenames in os.walk(images_name):\n",
        "        for fname in filenames:\n",
        "            if fname.endswith(\".jpg\"):\n",
        "                fpath = os.path.join(dirpath,fname)\n",
        "                photo_id = fname[:-4].replace('_',' ').split()\n",
        "                person_id = ' '.join(photo_id[:-1])\n",
        "                photo_number = int(photo_id[-1])\n",
        "                photo_ids.append({'person':person_id,'imagenum':photo_number,'photo_path':fpath})\n",
        "\n",
        "    photo_ids = pd.DataFrame(photo_ids)\n",
        "    # print(photo_ids)\n",
        "    #mass-merge\n",
        "    #(photos now have same order as attributes)\n",
        "    df = pd.merge(df_attrs,photo_ids,on=('person','imagenum'))\n",
        "\n",
        "    assert len(df)==len(df_attrs),\"lost some data when merging dataframes\"\n",
        "\n",
        "    # print(df.shape)\n",
        "    #image preprocessing\n",
        "    all_photos =df['photo_path'].apply(imread)\\\n",
        "                                .apply(lambda img:img[dy:-dy,dx:-dx])\\\n",
        "                                .apply(lambda img: imresize(img,[dimx,dimy]))\n",
        "\n",
        "    all_photos = np.stack(all_photos.values).astype('uint8')\n",
        "    all_attrs = df.drop([\"photo_path\",\"person\",\"imagenum\"],axis=1)\n",
        "    \n",
        "    return all_photos,all_attrs"
      ],
      "execution_count": 4,
      "outputs": []
    },
    {
      "cell_type": "code",
      "metadata": {
        "id": "W3KhlblLYY7P",
        "colab_type": "code",
        "colab": {
          "base_uri": "https://localhost:8080/",
          "height": 159
        },
        "outputId": "c796cb86-2b60-47a0-ea32-555f20236265"
      },
      "source": [
        "# The following line fetches you two datasets: images, usable for autoencoder training and attributes.\n",
        "# Those attributes will be required for the final part of the assignment (applying smiles), so please keep them in mind\n",
        "# from get_dataset_correct import fetch_dataset\n",
        "data, attrs = fetch_dataset()"
      ],
      "execution_count": 5,
      "outputs": [
        {
          "output_type": "stream",
          "text": [
            "images not found, donwloading...\n",
            "extracting...\n",
            "done\n",
            "attributes not found, downloading...\n",
            "done\n"
          ],
          "name": "stdout"
        },
        {
          "output_type": "stream",
          "text": [
            "/usr/local/lib/python3.6/dist-packages/ipykernel_launcher.py:51: DeprecationWarning: `imresize` is deprecated!\n",
            "`imresize` is deprecated in SciPy 1.0.0, and will be removed in 1.2.0.\n",
            "Use ``skimage.transform.resize`` instead.\n"
          ],
          "name": "stderr"
        }
      ]
    },
    {
      "cell_type": "code",
      "metadata": {
        "id": "oW_Jsi42YY7T",
        "colab_type": "code",
        "colab": {}
      },
      "source": [
        "IMAGE_H = data.shape[1]\n",
        "IMAGE_W = data.shape[2]\n",
        "# у нас цветные изображения\n",
        "N_CHANNELS = 3\n",
        "\n",
        "TRAIN_SIZE = 10000\n",
        "VAL_SIZE = data.shape[0] - TRAIN_SIZE"
      ],
      "execution_count": 6,
      "outputs": []
    },
    {
      "cell_type": "markdown",
      "metadata": {
        "id": "8MSzXXGoYY7X",
        "colab_type": "text"
      },
      "source": [
        "\n",
        "Разбейте выборку картинок на train и val и приведите значения элементов в интервал [0, 1] типа float"
      ]
    },
    {
      "cell_type": "code",
      "metadata": {
        "id": "cjV-kGgwRGIw",
        "colab_type": "code",
        "colab": {}
      },
      "source": [
        "class AutoEncode(Dataset):\n",
        "  def __init__(self, data):\n",
        "    super().__init__()\n",
        "    self.data = data\n",
        "    self.len_ = len(data)\n",
        "\n",
        "\n",
        "  def __len__(self):\n",
        "        return self.len_\n",
        "\n",
        "  def __getitem__(self, index):\n",
        "    transform = transforms.Compose([\n",
        "            transforms.ToTensor(),\n",
        "        ])\n",
        "    X = np.array(self.data[index]/255., dtype = 'float32')\n",
        "    return transform(X)"
      ],
      "execution_count": 7,
      "outputs": []
    },
    {
      "cell_type": "code",
      "metadata": {
        "id": "el-qVrA_TLk2",
        "colab_type": "code",
        "colab": {
          "base_uri": "https://localhost:8080/",
          "height": 35
        },
        "outputId": "59167895-9af5-4b3f-c492-0eea7dea2eec"
      },
      "source": [
        "X_train, X_val = train_test_split(data, train_size=TRAIN_SIZE)\n",
        "print(X_train.shape, X_val.shape)\n",
        "X_train = AutoEncode(X_train)\n",
        "X_val = AutoEncode(X_val)"
      ],
      "execution_count": 8,
      "outputs": [
        {
          "output_type": "stream",
          "text": [
            "(10000, 45, 45, 3) (3143, 45, 45, 3)\n"
          ],
          "name": "stdout"
        }
      ]
    },
    {
      "cell_type": "code",
      "metadata": {
        "scrolled": true,
        "id": "dFc8lTm_YY7Y",
        "colab_type": "code",
        "colab": {}
      },
      "source": [
        "data = data.transpose(0, 3, 1, 2) #переводим в тензорный вид (batch, C, H, W)\n",
        "transform = transforms.ToTensor()\n",
        "X_train = np.float32(data[:10000]/255.) # приводим к [0, 1], transforms.ToTensor() сделает это все за нас\n",
        "X_val = np.float32(data[10000:]/255.)"
      ],
      "execution_count": 9,
      "outputs": []
    },
    {
      "cell_type": "markdown",
      "metadata": {
        "id": "nRPicfzZ-E0T",
        "colab_type": "text"
      },
      "source": [
        "Посмотрим первые 5 аттрибутов"
      ]
    },
    {
      "cell_type": "code",
      "metadata": {
        "id": "NWwkUXjf9mVa",
        "colab_type": "code",
        "colab": {
          "base_uri": "https://localhost:8080/",
          "height": 264
        },
        "outputId": "e5d2332c-55c8-49ac-a0cb-c1c6da6157fe"
      },
      "source": [
        "attrs.head()"
      ],
      "execution_count": 10,
      "outputs": [
        {
          "output_type": "execute_result",
          "data": {
            "text/html": [
              "<div>\n",
              "<style scoped>\n",
              "    .dataframe tbody tr th:only-of-type {\n",
              "        vertical-align: middle;\n",
              "    }\n",
              "\n",
              "    .dataframe tbody tr th {\n",
              "        vertical-align: top;\n",
              "    }\n",
              "\n",
              "    .dataframe thead th {\n",
              "        text-align: right;\n",
              "    }\n",
              "</style>\n",
              "<table border=\"1\" class=\"dataframe\">\n",
              "  <thead>\n",
              "    <tr style=\"text-align: right;\">\n",
              "      <th></th>\n",
              "      <th>Male</th>\n",
              "      <th>Asian</th>\n",
              "      <th>White</th>\n",
              "      <th>Black</th>\n",
              "      <th>Baby</th>\n",
              "      <th>Child</th>\n",
              "      <th>Youth</th>\n",
              "      <th>Middle Aged</th>\n",
              "      <th>Senior</th>\n",
              "      <th>Black Hair</th>\n",
              "      <th>Blond Hair</th>\n",
              "      <th>Brown Hair</th>\n",
              "      <th>Bald</th>\n",
              "      <th>No Eyewear</th>\n",
              "      <th>Eyeglasses</th>\n",
              "      <th>Sunglasses</th>\n",
              "      <th>Mustache</th>\n",
              "      <th>Smiling</th>\n",
              "      <th>Frowning</th>\n",
              "      <th>Chubby</th>\n",
              "      <th>Blurry</th>\n",
              "      <th>Harsh Lighting</th>\n",
              "      <th>Flash</th>\n",
              "      <th>Soft Lighting</th>\n",
              "      <th>Outdoor</th>\n",
              "      <th>Curly Hair</th>\n",
              "      <th>Wavy Hair</th>\n",
              "      <th>Straight Hair</th>\n",
              "      <th>Receding Hairline</th>\n",
              "      <th>Bangs</th>\n",
              "      <th>Sideburns</th>\n",
              "      <th>Fully Visible Forehead</th>\n",
              "      <th>Partially Visible Forehead</th>\n",
              "      <th>Obstructed Forehead</th>\n",
              "      <th>Bushy Eyebrows</th>\n",
              "      <th>Arched Eyebrows</th>\n",
              "      <th>Narrow Eyes</th>\n",
              "      <th>Eyes Open</th>\n",
              "      <th>Big Nose</th>\n",
              "      <th>Pointy Nose</th>\n",
              "      <th>Big Lips</th>\n",
              "      <th>Mouth Closed</th>\n",
              "      <th>Mouth Slightly Open</th>\n",
              "      <th>Mouth Wide Open</th>\n",
              "      <th>Teeth Not Visible</th>\n",
              "      <th>No Beard</th>\n",
              "      <th>Goatee</th>\n",
              "      <th>Round Jaw</th>\n",
              "      <th>Double Chin</th>\n",
              "      <th>Wearing Hat</th>\n",
              "      <th>Oval Face</th>\n",
              "      <th>Square Face</th>\n",
              "      <th>Round Face</th>\n",
              "      <th>Color Photo</th>\n",
              "      <th>Posed Photo</th>\n",
              "      <th>Attractive Man</th>\n",
              "      <th>Attractive Woman</th>\n",
              "      <th>Indian</th>\n",
              "      <th>Gray Hair</th>\n",
              "      <th>Bags Under Eyes</th>\n",
              "      <th>Heavy Makeup</th>\n",
              "      <th>Rosy Cheeks</th>\n",
              "      <th>Shiny Skin</th>\n",
              "      <th>Pale Skin</th>\n",
              "      <th>5 o' Clock Shadow</th>\n",
              "      <th>Strong Nose-Mouth Lines</th>\n",
              "      <th>Wearing Lipstick</th>\n",
              "      <th>Flushed Face</th>\n",
              "      <th>High Cheekbones</th>\n",
              "      <th>Brown Eyes</th>\n",
              "      <th>Wearing Earrings</th>\n",
              "      <th>Wearing Necktie</th>\n",
              "      <th>Wearing Necklace</th>\n",
              "    </tr>\n",
              "  </thead>\n",
              "  <tbody>\n",
              "    <tr>\n",
              "      <th>0</th>\n",
              "      <td>1.56835</td>\n",
              "      <td>-1.88904</td>\n",
              "      <td>1.7372</td>\n",
              "      <td>-0.929729</td>\n",
              "      <td>-1.4718</td>\n",
              "      <td>-0.19558</td>\n",
              "      <td>-0.835609</td>\n",
              "      <td>-0.351468</td>\n",
              "      <td>-1.01253</td>\n",
              "      <td>-0.719593</td>\n",
              "      <td>-0.632401</td>\n",
              "      <td>0.464839</td>\n",
              "      <td>-0.973528</td>\n",
              "      <td>1.56519</td>\n",
              "      <td>-1.2967</td>\n",
              "      <td>-1.54272</td>\n",
              "      <td>-0.684671</td>\n",
              "      <td>-0.86499</td>\n",
              "      <td>0.766886</td>\n",
              "      <td>-0.218952</td>\n",
              "      <td>-1.65567</td>\n",
              "      <td>-0.787044</td>\n",
              "      <td>-0.599665</td>\n",
              "      <td>0.458519</td>\n",
              "      <td>0.18976</td>\n",
              "      <td>0.851555</td>\n",
              "      <td>-0.38572</td>\n",
              "      <td>-0.497719</td>\n",
              "      <td>-0.161149</td>\n",
              "      <td>-0.257514</td>\n",
              "      <td>-0.0888388</td>\n",
              "      <td>0.455469</td>\n",
              "      <td>-0.839211</td>\n",
              "      <td>-0.0229481</td>\n",
              "      <td>-0.922568</td>\n",
              "      <td>-0.114539</td>\n",
              "      <td>1.46122</td>\n",
              "      <td>1.75848</td>\n",
              "      <td>0.0688935</td>\n",
              "      <td>1.26786</td>\n",
              "      <td>-1.12024</td>\n",
              "      <td>0.917617</td>\n",
              "      <td>-1.30796</td>\n",
              "      <td>-1.50041</td>\n",
              "      <td>1.02922</td>\n",
              "      <td>0.832363</td>\n",
              "      <td>-0.498657</td>\n",
              "      <td>0.251365</td>\n",
              "      <td>-0.705281</td>\n",
              "      <td>-0.515715</td>\n",
              "      <td>0.374239</td>\n",
              "      <td>-0.168675</td>\n",
              "      <td>-0.614143</td>\n",
              "      <td>3.0977</td>\n",
              "      <td>1.52386</td>\n",
              "      <td>0.779278</td>\n",
              "      <td>-0.0714539</td>\n",
              "      <td>-1.24648</td>\n",
              "      <td>-0.769283</td>\n",
              "      <td>-0.725597</td>\n",
              "      <td>-1.82061</td>\n",
              "      <td>-2.07298</td>\n",
              "      <td>-0.960759</td>\n",
              "      <td>0.361738</td>\n",
              "      <td>1.16612</td>\n",
              "      <td>-1.16492</td>\n",
              "      <td>-1.13999</td>\n",
              "      <td>-2.37175</td>\n",
              "      <td>-1.29993</td>\n",
              "      <td>-0.414682</td>\n",
              "      <td>-1.1449</td>\n",
              "      <td>0.694007</td>\n",
              "      <td>-0.826609</td>\n",
              "    </tr>\n",
              "    <tr>\n",
              "      <th>1</th>\n",
              "      <td>0.169851</td>\n",
              "      <td>-0.982408</td>\n",
              "      <td>0.422709</td>\n",
              "      <td>-1.28218</td>\n",
              "      <td>-1.36006</td>\n",
              "      <td>-0.867002</td>\n",
              "      <td>-0.452293</td>\n",
              "      <td>-0.197521</td>\n",
              "      <td>-0.956073</td>\n",
              "      <td>-0.802107</td>\n",
              "      <td>-0.736883</td>\n",
              "      <td>0.294554</td>\n",
              "      <td>-1.27765</td>\n",
              "      <td>0.954771</td>\n",
              "      <td>-0.990992</td>\n",
              "      <td>-1.16736</td>\n",
              "      <td>-0.835146</td>\n",
              "      <td>0.798544</td>\n",
              "      <td>-0.971679</td>\n",
              "      <td>0.342826</td>\n",
              "      <td>-1.32256</td>\n",
              "      <td>0.962937</td>\n",
              "      <td>-1.19936</td>\n",
              "      <td>-0.157307</td>\n",
              "      <td>0.443224</td>\n",
              "      <td>-0.00288156</td>\n",
              "      <td>-0.0211584</td>\n",
              "      <td>-0.226563</td>\n",
              "      <td>-0.0810386</td>\n",
              "      <td>-0.827202</td>\n",
              "      <td>-0.106624</td>\n",
              "      <td>1.22759</td>\n",
              "      <td>-0.812223</td>\n",
              "      <td>-1.24126</td>\n",
              "      <td>0.0962725</td>\n",
              "      <td>-0.404544</td>\n",
              "      <td>0.325919</td>\n",
              "      <td>0.474452</td>\n",
              "      <td>1.13536</td>\n",
              "      <td>0.0587247</td>\n",
              "      <td>0.611176</td>\n",
              "      <td>-1.17251</td>\n",
              "      <td>0.428512</td>\n",
              "      <td>-0.874235</td>\n",
              "      <td>-1.19156</td>\n",
              "      <td>0.192359</td>\n",
              "      <td>-0.204166</td>\n",
              "      <td>0.342347</td>\n",
              "      <td>0.239512</td>\n",
              "      <td>-1.47469</td>\n",
              "      <td>0.236057</td>\n",
              "      <td>-0.565208</td>\n",
              "      <td>-0.712542</td>\n",
              "      <td>2.99708</td>\n",
              "      <td>-0.273306</td>\n",
              "      <td>-0.187722</td>\n",
              "      <td>-0.604608</td>\n",
              "      <td>-1.3217</td>\n",
              "      <td>-0.938559</td>\n",
              "      <td>0.494294</td>\n",
              "      <td>-0.659043</td>\n",
              "      <td>-1.14375</td>\n",
              "      <td>-0.775722</td>\n",
              "      <td>-0.832036</td>\n",
              "      <td>-0.39768</td>\n",
              "      <td>0.87416</td>\n",
              "      <td>-0.945431</td>\n",
              "      <td>-0.268649</td>\n",
              "      <td>-0.00624408</td>\n",
              "      <td>-0.0304057</td>\n",
              "      <td>-0.480128</td>\n",
              "      <td>0.66676</td>\n",
              "      <td>-0.496559</td>\n",
              "    </tr>\n",
              "    <tr>\n",
              "      <th>2</th>\n",
              "      <td>0.997749</td>\n",
              "      <td>-1.36419</td>\n",
              "      <td>-0.157377</td>\n",
              "      <td>-0.756447</td>\n",
              "      <td>-1.89183</td>\n",
              "      <td>-0.871526</td>\n",
              "      <td>-0.862893</td>\n",
              "      <td>0.0314447</td>\n",
              "      <td>-1.34152</td>\n",
              "      <td>-0.0900375</td>\n",
              "      <td>-1.20073</td>\n",
              "      <td>-0.33246</td>\n",
              "      <td>-0.537006</td>\n",
              "      <td>1.29836</td>\n",
              "      <td>-1.49847</td>\n",
              "      <td>-1.28582</td>\n",
              "      <td>1.14174</td>\n",
              "      <td>0.172817</td>\n",
              "      <td>0.106412</td>\n",
              "      <td>-0.788843</td>\n",
              "      <td>0.349295</td>\n",
              "      <td>-1.64372</td>\n",
              "      <td>0.454287</td>\n",
              "      <td>1.18946</td>\n",
              "      <td>-0.688414</td>\n",
              "      <td>-0.590574</td>\n",
              "      <td>-0.266673</td>\n",
              "      <td>0.467224</td>\n",
              "      <td>0.567348</td>\n",
              "      <td>-1.7191</td>\n",
              "      <td>0.124667</td>\n",
              "      <td>1.60274</td>\n",
              "      <td>-0.659399</td>\n",
              "      <td>-1.75376</td>\n",
              "      <td>1.20447</td>\n",
              "      <td>0.0221884</td>\n",
              "      <td>-1.13544</td>\n",
              "      <td>1.70286</td>\n",
              "      <td>-0.422144</td>\n",
              "      <td>0.587859</td>\n",
              "      <td>0.414363</td>\n",
              "      <td>0.344447</td>\n",
              "      <td>-1.26045</td>\n",
              "      <td>-0.577746</td>\n",
              "      <td>0.405567</td>\n",
              "      <td>-1.91655</td>\n",
              "      <td>0.92126</td>\n",
              "      <td>0.247437</td>\n",
              "      <td>-0.428451</td>\n",
              "      <td>-0.772273</td>\n",
              "      <td>0.370673</td>\n",
              "      <td>-0.509596</td>\n",
              "      <td>-0.768482</td>\n",
              "      <td>1.7069</td>\n",
              "      <td>0.126524</td>\n",
              "      <td>-0.497001</td>\n",
              "      <td>-0.393042</td>\n",
              "      <td>-0.178307</td>\n",
              "      <td>-1.18023</td>\n",
              "      <td>-0.596914</td>\n",
              "      <td>-1.80538</td>\n",
              "      <td>-0.951643</td>\n",
              "      <td>-0.838087</td>\n",
              "      <td>1.54974</td>\n",
              "      <td>1.88475</td>\n",
              "      <td>-0.999765</td>\n",
              "      <td>-1.35986</td>\n",
              "      <td>-1.91211</td>\n",
              "      <td>-1.09563</td>\n",
              "      <td>0.915126</td>\n",
              "      <td>-0.572332</td>\n",
              "      <td>0.144262</td>\n",
              "      <td>-0.841231</td>\n",
              "    </tr>\n",
              "    <tr>\n",
              "      <th>3</th>\n",
              "      <td>1.12272</td>\n",
              "      <td>-1.9978</td>\n",
              "      <td>1.91614</td>\n",
              "      <td>-2.51421</td>\n",
              "      <td>-2.58007</td>\n",
              "      <td>-1.40424</td>\n",
              "      <td>0.0575511</td>\n",
              "      <td>0.000195882</td>\n",
              "      <td>-1.27351</td>\n",
              "      <td>-1.43146</td>\n",
              "      <td>-0.0705188</td>\n",
              "      <td>-0.339239</td>\n",
              "      <td>-2.00415</td>\n",
              "      <td>0.665695</td>\n",
              "      <td>-0.77594</td>\n",
              "      <td>-1.47163</td>\n",
              "      <td>-1.17908</td>\n",
              "      <td>0.563327</td>\n",
              "      <td>-0.664429</td>\n",
              "      <td>-1.40793</td>\n",
              "      <td>0.435594</td>\n",
              "      <td>-0.589988</td>\n",
              "      <td>-1.6035</td>\n",
              "      <td>1.17074</td>\n",
              "      <td>0.760103</td>\n",
              "      <td>0.211498</td>\n",
              "      <td>-0.51618</td>\n",
              "      <td>-1.33115</td>\n",
              "      <td>0.20284</td>\n",
              "      <td>0.149645</td>\n",
              "      <td>-0.0464296</td>\n",
              "      <td>0.640885</td>\n",
              "      <td>-0.107616</td>\n",
              "      <td>-0.831271</td>\n",
              "      <td>-0.827005</td>\n",
              "      <td>-0.588725</td>\n",
              "      <td>0.429255</td>\n",
              "      <td>1.58766</td>\n",
              "      <td>0.499086</td>\n",
              "      <td>-0.0568692</td>\n",
              "      <td>-0.866643</td>\n",
              "      <td>-0.959689</td>\n",
              "      <td>0.35073</td>\n",
              "      <td>-1.33535</td>\n",
              "      <td>-0.42789</td>\n",
              "      <td>0.826817</td>\n",
              "      <td>-0.256779</td>\n",
              "      <td>0.149751</td>\n",
              "      <td>-1.20153</td>\n",
              "      <td>-1.08392</td>\n",
              "      <td>0.255363</td>\n",
              "      <td>-0.650423</td>\n",
              "      <td>-0.506293</td>\n",
              "      <td>1.10159</td>\n",
              "      <td>0.640783</td>\n",
              "      <td>1.57503</td>\n",
              "      <td>-0.484397</td>\n",
              "      <td>-1.55968</td>\n",
              "      <td>-1.43712</td>\n",
              "      <td>0.379363</td>\n",
              "      <td>-0.648233</td>\n",
              "      <td>-2.25735</td>\n",
              "      <td>-1.07561</td>\n",
              "      <td>0.567822</td>\n",
              "      <td>-0.176089</td>\n",
              "      <td>1.10812</td>\n",
              "      <td>-1.60094</td>\n",
              "      <td>-3.26461</td>\n",
              "      <td>0.813418</td>\n",
              "      <td>0.308631</td>\n",
              "      <td>-0.848693</td>\n",
              "      <td>0.475941</td>\n",
              "      <td>-0.447025</td>\n",
              "    </tr>\n",
              "    <tr>\n",
              "      <th>4</th>\n",
              "      <td>1.07821</td>\n",
              "      <td>-2.0081</td>\n",
              "      <td>1.67621</td>\n",
              "      <td>-2.27806</td>\n",
              "      <td>-2.65185</td>\n",
              "      <td>-1.34841</td>\n",
              "      <td>0.649089</td>\n",
              "      <td>0.0176564</td>\n",
              "      <td>-1.88911</td>\n",
              "      <td>-1.85721</td>\n",
              "      <td>-0.568057</td>\n",
              "      <td>0.840375</td>\n",
              "      <td>-1.98127</td>\n",
              "      <td>1.66671</td>\n",
              "      <td>-0.910723</td>\n",
              "      <td>-1.99351</td>\n",
              "      <td>-0.871335</td>\n",
              "      <td>0.507786</td>\n",
              "      <td>-0.488947</td>\n",
              "      <td>-0.88649</td>\n",
              "      <td>-0.990132</td>\n",
              "      <td>-0.750813</td>\n",
              "      <td>-0.378479</td>\n",
              "      <td>0.583086</td>\n",
              "      <td>-1.4796</td>\n",
              "      <td>0.250185</td>\n",
              "      <td>-0.381123</td>\n",
              "      <td>-0.611991</td>\n",
              "      <td>-0.143091</td>\n",
              "      <td>-1.07276</td>\n",
              "      <td>0.432094</td>\n",
              "      <td>1.08919</td>\n",
              "      <td>-0.470929</td>\n",
              "      <td>-1.17712</td>\n",
              "      <td>-0.111313</td>\n",
              "      <td>-0.154603</td>\n",
              "      <td>-1.03151</td>\n",
              "      <td>2.39246</td>\n",
              "      <td>-0.191576</td>\n",
              "      <td>1.2279</td>\n",
              "      <td>-1.3818</td>\n",
              "      <td>-1.52885</td>\n",
              "      <td>0.907964</td>\n",
              "      <td>-1.32429</td>\n",
              "      <td>-0.934644</td>\n",
              "      <td>0.686995</td>\n",
              "      <td>-0.149301</td>\n",
              "      <td>0.0336263</td>\n",
              "      <td>-0.911138</td>\n",
              "      <td>-1.24109</td>\n",
              "      <td>0.904177</td>\n",
              "      <td>-0.309967</td>\n",
              "      <td>-1.03889</td>\n",
              "      <td>3.75812</td>\n",
              "      <td>1.05837</td>\n",
              "      <td>1.50215</td>\n",
              "      <td>-0.649715</td>\n",
              "      <td>-1.07294</td>\n",
              "      <td>-1.77832</td>\n",
              "      <td>-0.0771244</td>\n",
              "      <td>-0.743271</td>\n",
              "      <td>-3.30071</td>\n",
              "      <td>-0.779219</td>\n",
              "      <td>-1.46147</td>\n",
              "      <td>-0.955283</td>\n",
              "      <td>0.119113</td>\n",
              "      <td>-1.12818</td>\n",
              "      <td>-3.16105</td>\n",
              "      <td>0.0826804</td>\n",
              "      <td>-0.439614</td>\n",
              "      <td>-0.359859</td>\n",
              "      <td>-0.760774</td>\n",
              "      <td>-0.410152</td>\n",
              "    </tr>\n",
              "  </tbody>\n",
              "</table>\n",
              "</div>"
            ],
            "text/plain": [
              "       Male     Asian  ... Wearing Necktie Wearing Necklace\n",
              "0   1.56835  -1.88904  ...        0.694007        -0.826609\n",
              "1  0.169851 -0.982408  ...         0.66676        -0.496559\n",
              "2  0.997749  -1.36419  ...        0.144262        -0.841231\n",
              "3   1.12272   -1.9978  ...        0.475941        -0.447025\n",
              "4   1.07821   -2.0081  ...       -0.760774        -0.410152\n",
              "\n",
              "[5 rows x 73 columns]"
            ]
          },
          "metadata": {
            "tags": []
          },
          "execution_count": 10
        }
      ]
    },
    {
      "cell_type": "markdown",
      "metadata": {
        "id": "MES0waD1YY7c",
        "colab_type": "text"
      },
      "source": [
        "Напишем вспомогательную функцию, которая будет выводить n_row $\\cdot$ n_col первых картинок в массиве images:"
      ]
    },
    {
      "cell_type": "code",
      "metadata": {
        "id": "3z2ZvgS0YY7d",
        "colab_type": "code",
        "colab": {}
      },
      "source": [
        "def plot_gallery(images, h, w, n_row=3, n_col=6):\n",
        "    \"\"\"Helper function to plot a gallery of portraits\"\"\"\n",
        "    plt.figure(figsize=(1.5 * n_col, 1.7 * n_row))\n",
        "    plt.subplots_adjust(bottom=0, left=.01, right=.99, top=.90, hspace=.35)\n",
        "    for i in range(n_row * n_col):\n",
        "        plt.subplot(n_row, n_col, i + 1)\n",
        "        try:\n",
        "            plt.imshow(images[i].reshape((h, w, 3)), cmap=plt.cm.gray, vmin=-1, vmax=1, interpolation='nearest') #для отрисовки тензора перевести к numpy\n",
        "            plt.xticks(())\n",
        "            plt.yticks(())\n",
        "        except:\n",
        "            pass"
      ],
      "execution_count": 11,
      "outputs": []
    },
    {
      "cell_type": "markdown",
      "metadata": {
        "id": "t-yV79BQYY7g",
        "colab_type": "text"
      },
      "source": [
        "Осталось привести картинки к тензорам из PyTorch, чтобы можно было потом скармливать их автоэнкодеру: "
      ]
    },
    {
      "cell_type": "code",
      "metadata": {
        "id": "H__1M-rKYY7h",
        "colab_type": "code",
        "colab": {}
      },
      "source": [
        "#X_train = torch.FloatTensor(X_train)\n",
        "#X_val = torch.FloatTensor(X_val)\n",
        "train_loader = DataLoader(X_train, batch_size=64, shuffle=True) # дата решафлится каждую эпоху\n",
        "val_loader = DataLoader(X_val, batch_size=64, shuffle=False)"
      ],
      "execution_count": 12,
      "outputs": []
    },
    {
      "cell_type": "code",
      "metadata": {
        "id": "p8UsNrJQAqZv",
        "colab_type": "code",
        "colab": {
          "base_uri": "https://localhost:8080/",
          "height": 35
        },
        "outputId": "e4ff47e0-b2e0-423c-b136-35ea08f2c585"
      },
      "source": [
        "next(iter(train_loader)).shape"
      ],
      "execution_count": 13,
      "outputs": [
        {
          "output_type": "execute_result",
          "data": {
            "text/plain": [
              "torch.Size([64, 3, 45, 45])"
            ]
          },
          "metadata": {
            "tags": []
          },
          "execution_count": 13
        }
      ]
    },
    {
      "cell_type": "code",
      "metadata": {
        "id": "p6TJZ4fRJnkj",
        "colab_type": "code",
        "colab": {
          "base_uri": "https://localhost:8080/",
          "height": 35
        },
        "outputId": "c994c71b-9eac-443c-b389-fcd7fcc306d7"
      },
      "source": [
        "type(X_train)"
      ],
      "execution_count": 14,
      "outputs": [
        {
          "output_type": "execute_result",
          "data": {
            "text/plain": [
              "numpy.ndarray"
            ]
          },
          "metadata": {
            "tags": []
          },
          "execution_count": 14
        }
      ]
    },
    {
      "cell_type": "markdown",
      "metadata": {
        "id": "z9CC-DUhYY7i",
        "colab_type": "text"
      },
      "source": [
        "## Autoencoder\n",
        "\n",
        "Why to use all this complicated formulaes and regularizations, what is the need for variational inference? To analyze the difference, let's first train just an autoencoder on the data:\n",
        "<img src=\"https://i.imgur.com/nVJAtMT.png\" alt=\"Autoencoder\">"
      ]
    },
    {
      "cell_type": "code",
      "metadata": {
        "id": "csrNCYh-YY7j",
        "colab_type": "code",
        "colab": {}
      },
      "source": [
        "inp_size=X_train.shape[1]\n",
        "hid_size=250\n",
        "dimZ = 100"
      ],
      "execution_count": 15,
      "outputs": []
    },
    {
      "cell_type": "markdown",
      "metadata": {
        "id": "Fjr-N8AWee-k",
        "colab_type": "text"
      },
      "source": [
        "Реализуем autoencoder. Архитектуру (conv, fully-connected, ReLu, etc) можете выбирать сами. Экспериментируйте!"
      ]
    },
    {
      "cell_type": "code",
      "metadata": {
        "id": "8SjHNX-rYY7k",
        "colab_type": "code",
        "colab": {}
      },
      "source": [
        "\n",
        "class Autoencoder(nn.Module):\n",
        "    def __init__(self):\n",
        "        super().__init__()\n",
        "        #на вход (3, 45, 45) выход (6, 45, 45)\n",
        "        self.conv1_down = nn.Sequential(nn.Conv2d(3, 20, 3, padding=1),\n",
        "                                        nn.BatchNorm2d(20),\n",
        "                                        nn.LeakyReLU(0.2)\n",
        "        )\n",
        "        self.conv2_down = nn.Sequential(nn.Conv2d(20, 40, 3),\n",
        "                                        nn.BatchNorm2d(40),\n",
        "                                        nn.LeakyReLU(0.2),\n",
        "                                        nn.MaxPool2d(2) #21\n",
        "        ) \n",
        "        self.conv3_down = nn.Sequential(nn.Conv2d(40, 60, 3), #19\n",
        "                                        nn.BatchNorm2d(60),\n",
        "                                        nn.LeakyReLU(0.2),\n",
        "        )\n",
        "        self.pool = nn.MaxPool2d(2) #9\n",
        "        self.fc1 = nn.Linear(60*9*9, 250)\n",
        "        #выход 250\n",
        "        self.fc2 = nn.Sequential(nn.Linear(250, 60*9*9),\n",
        "                                 nn.LeakyReLU(0.2)\n",
        "        )\n",
        "        self.conv3_up = nn.Sequential(nn.ConvTranspose2d(60, 40, 3, stride=2),# формула size+(size-1) + (pad)*2 - (kernel-1), где pad = 0, если padding=2, 1, если 1, 2, если 0 и еще padding зависит от kernel (pad = 2 для 3, pad=3 для 4)\n",
        "                                      nn.LeakyReLU(0.2),\n",
        "                                      nn.Conv2d(40, 40, 3, padding=1),\n",
        "                                      nn.BatchNorm2d(40),\n",
        "                                      nn.LeakyReLU(0.2)\n",
        "\n",
        "        )\n",
        "        self.conv2_up = nn.Sequential(nn.ConvTranspose2d(40, 20, 3, stride = 1),\n",
        "                                      nn.BatchNorm2d(20),\n",
        "                                      nn.LeakyReLU(0.2),\n",
        "                                      nn.Conv2d(20, 20, 3, padding=1),\n",
        "                                      nn.BatchNorm2d(20),\n",
        "                                      nn.LeakyReLU(0.2)\n",
        "        )\n",
        "        self.conv1_up = nn.Sequential(nn.ConvTranspose2d(20, 3, 3, stride=2),\n",
        "                                      nn.BatchNorm2d(3),#batchnorm после relu попробовать\n",
        "                                      nn.LeakyReLU(0.2),\n",
        "                                      nn.Conv2d(3, 3, 3, padding=2),\n",
        "                                      nn.BatchNorm2d(3),\n",
        "                                      nn.LeakyReLU(0.2)\n",
        "        )\n",
        "\n",
        "\n",
        "    def encoder_(self, x):\n",
        "        self.conv1 = self.conv1_down(x)\n",
        "        self.conv2 = self.conv2_down(self.conv1)\n",
        "        self.conv3 = self.conv3_down(self.conv2)\n",
        "        latent_code = self.fc1(self.pool(self.conv3).view(x.size(0), -1))\n",
        "        return latent_code\n",
        "\n",
        "\n",
        "    def decoder_(self, z):\n",
        "        z = self.fc2(z).view(-1, 60, 9, 9)\n",
        "        z = self.conv3_up(z)\n",
        "        z = self.conv2_up(z)\n",
        "        z = self.conv1_up(z)\n",
        "        reconstruct = torch.sigmoid(z) \n",
        "        return reconstruct   \n",
        "\n",
        "    def forward(self, x):\n",
        "        encoder = self.encoder_(x)\n",
        "        decoder = self.decoder_(encoder)\n",
        "        return decoder, encoder"
      ],
      "execution_count": 16,
      "outputs": []
    },
    {
      "cell_type": "code",
      "metadata": {
        "id": "NpmS-1i0MRCI",
        "colab_type": "code",
        "colab": {}
      },
      "source": [
        "def init_weights(m):\n",
        "    if type(m) == nn.Conv2d or type(m) == nn.ConvTranspose2d:\n",
        "      nn.init.xavier_uniform_(m.weight)\n",
        "\n",
        "class Autoencoder_2(nn.Module):\n",
        "    def __init__(self, latent=250):\n",
        "        super().__init__()\n",
        "        #на вход (3, 45, 45) выход (6, 45, 45)\n",
        "        self.conv1_down = nn.Sequential(nn.Conv2d(3, 20, 3, padding=1),\n",
        "                                        nn.BatchNorm2d(20),\n",
        "                                        nn.LeakyReLU(0.2),\n",
        "                                        nn.Conv2d(20, 40, 3, padding = 1),\n",
        "                                        nn.BatchNorm2d(40),\n",
        "                                        nn.LeakyReLU(0.2)\n",
        "        )\n",
        "        self.conv2_down = nn.Sequential(nn.Conv2d(40, 80, 3),\n",
        "                                        nn.BatchNorm2d(80),\n",
        "                                        nn.LeakyReLU(0.2),\n",
        "                                        nn.Conv2d(80, 100, 3, padding = 1),\n",
        "                                        nn.BatchNorm2d(100),\n",
        "                                        nn.LeakyReLU(0.2),\n",
        "                                        nn.MaxPool2d(2)\n",
        "        ) \n",
        "        self.conv3_down = nn.Sequential(nn.Conv2d(100, 150, 3),\n",
        "                                        nn.BatchNorm2d(150),\n",
        "                                        nn.LeakyReLU(0.2),\n",
        "                                        nn.Conv2d(150, 150, 3, padding=1),\n",
        "                                        nn.BatchNorm2d(150),\n",
        "                                        nn.LeakyReLU(0.2)\n",
        "        )\n",
        "        self.pool = nn.MaxPool2d(2)\n",
        "        self.fc1 = nn.Linear(150*9*9, latent)\n",
        "        #выход 250\n",
        "        self.fc2 = nn.Sequential(nn.Linear(latent, 150*9*9),\n",
        "                                 nn.LeakyReLU(0.2)\n",
        "        )\n",
        "        self.conv3_up = nn.Sequential(nn.ConvTranspose2d(150, 100, 3, stride=2),\n",
        "                                      nn.BatchNorm2d(100),# формула size+(size-1) + (pad)*2 - (kernel-1), где pad = 0, если padding=2, 1, если 1, 2, если 0 и еще padding зависит от kernel (pad = 2 для 3, pad=3 для 4)\n",
        "                                      nn.LeakyReLU(0.2),\n",
        "                                      nn.Conv2d(100, 100, 3, padding=1),\n",
        "                                      nn.BatchNorm2d(100),\n",
        "                                      nn.LeakyReLU(0.2)\n",
        "\n",
        "        )\n",
        "        self.conv2_up = nn.Sequential(nn.ConvTranspose2d(100, 60, 3, stride = 1),\n",
        "                                      nn.BatchNorm2d(60),\n",
        "                                      nn.LeakyReLU(0.2),\n",
        "                                      nn.Conv2d(60, 60, 3, padding=1),\n",
        "                                      nn.BatchNorm2d(60),\n",
        "                                      nn.LeakyReLU(0.2)\n",
        "        )\n",
        "        self.conv1_up = nn.Sequential(nn.ConvTranspose2d(60, 30, 3, stride=1),\n",
        "                                      nn.BatchNorm2d(30),\n",
        "                                      nn.LeakyReLU(0.2),\n",
        "                                      nn.Conv2d(30, 30, 3, padding=1),\n",
        "                                      nn.BatchNorm2d(30),\n",
        "                                      nn.LeakyReLU(0.2),\n",
        "                                      nn.ConvTranspose2d(30, 15, 3, stride=2, padding = 1),\n",
        "                                      nn.BatchNorm2d(15),\n",
        "                                      nn.LeakyReLU(0.2),\n",
        "                                      nn.Conv2d(15, 9, 3, padding=1),\n",
        "                                      nn.BatchNorm2d(9),\n",
        "                                      nn.LeakyReLU(0.2)\n",
        "        )\n",
        "        self.out = nn.Conv2d(9, 3, 3, padding = 1)\n",
        "\n",
        "\n",
        "    def encoder_(self, x):\n",
        "        self.conv1 = self.conv1_down(x)\n",
        "        self.conv2 = self.conv2_down(self.conv1)\n",
        "        self.conv3 = self.conv3_down(self.conv2)\n",
        "        latent_code = torch.tanh(self.fc1(self.pool(self.conv3).view(x.size(0), -1)))\n",
        "        return latent_code\n",
        "\n",
        "\n",
        "    def decoder_(self, z):\n",
        "        z = self.fc2(z).view(-1, 150, 9, 9)\n",
        "        z = self.conv3_up(z)\n",
        "        z = self.conv2_up(z)\n",
        "        z = self.conv1_up(z)\n",
        "        reconstruct = torch.sigmoid(self.out(z)) \n",
        "        return reconstruct   \n",
        "\n",
        "    def forward(self, x):\n",
        "        encoder = self.encoder_(x)\n",
        "        decoder = self.decoder_(encoder)\n",
        "        return decoder, encoder"
      ],
      "execution_count": 17,
      "outputs": []
    },
    {
      "cell_type": "code",
      "metadata": {
        "id": "73lg3bI2YY7m",
        "colab_type": "code",
        "colab": {
          "base_uri": "https://localhost:8080/",
          "height": 1000
        },
        "outputId": "42180fc2-510a-4db2-9762-a4fe3bb71c3f"
      },
      "source": [
        "\n",
        "DEVICE = torch.device('cuda')\n",
        "autoencoder = Autoencoder_2().to(DEVICE)\n",
        "autoencoder.apply(init_weights)\n",
        "optimizer = optim.Adam(autoencoder.parameters())\n",
        "criterion = nn.MSELoss()\n",
        "summary(autoencoder, (3,45, 45))"
      ],
      "execution_count": 18,
      "outputs": [
        {
          "output_type": "stream",
          "text": [
            "----------------------------------------------------------------\n",
            "        Layer (type)               Output Shape         Param #\n",
            "================================================================\n",
            "            Conv2d-1           [-1, 20, 45, 45]             560\n",
            "       BatchNorm2d-2           [-1, 20, 45, 45]              40\n",
            "         LeakyReLU-3           [-1, 20, 45, 45]               0\n",
            "            Conv2d-4           [-1, 40, 45, 45]           7,240\n",
            "       BatchNorm2d-5           [-1, 40, 45, 45]              80\n",
            "         LeakyReLU-6           [-1, 40, 45, 45]               0\n",
            "            Conv2d-7           [-1, 80, 43, 43]          28,880\n",
            "       BatchNorm2d-8           [-1, 80, 43, 43]             160\n",
            "         LeakyReLU-9           [-1, 80, 43, 43]               0\n",
            "           Conv2d-10          [-1, 100, 43, 43]          72,100\n",
            "      BatchNorm2d-11          [-1, 100, 43, 43]             200\n",
            "        LeakyReLU-12          [-1, 100, 43, 43]               0\n",
            "        MaxPool2d-13          [-1, 100, 21, 21]               0\n",
            "           Conv2d-14          [-1, 150, 19, 19]         135,150\n",
            "      BatchNorm2d-15          [-1, 150, 19, 19]             300\n",
            "        LeakyReLU-16          [-1, 150, 19, 19]               0\n",
            "           Conv2d-17          [-1, 150, 19, 19]         202,650\n",
            "      BatchNorm2d-18          [-1, 150, 19, 19]             300\n",
            "        LeakyReLU-19          [-1, 150, 19, 19]               0\n",
            "        MaxPool2d-20            [-1, 150, 9, 9]               0\n",
            "           Linear-21                  [-1, 250]       3,037,750\n",
            "           Linear-22                [-1, 12150]       3,049,650\n",
            "        LeakyReLU-23                [-1, 12150]               0\n",
            "  ConvTranspose2d-24          [-1, 100, 19, 19]         135,100\n",
            "      BatchNorm2d-25          [-1, 100, 19, 19]             200\n",
            "        LeakyReLU-26          [-1, 100, 19, 19]               0\n",
            "           Conv2d-27          [-1, 100, 19, 19]          90,100\n",
            "      BatchNorm2d-28          [-1, 100, 19, 19]             200\n",
            "        LeakyReLU-29          [-1, 100, 19, 19]               0\n",
            "  ConvTranspose2d-30           [-1, 60, 21, 21]          54,060\n",
            "      BatchNorm2d-31           [-1, 60, 21, 21]             120\n",
            "        LeakyReLU-32           [-1, 60, 21, 21]               0\n",
            "           Conv2d-33           [-1, 60, 21, 21]          32,460\n",
            "      BatchNorm2d-34           [-1, 60, 21, 21]             120\n",
            "        LeakyReLU-35           [-1, 60, 21, 21]               0\n",
            "  ConvTranspose2d-36           [-1, 30, 23, 23]          16,230\n",
            "      BatchNorm2d-37           [-1, 30, 23, 23]              60\n",
            "        LeakyReLU-38           [-1, 30, 23, 23]               0\n",
            "           Conv2d-39           [-1, 30, 23, 23]           8,130\n",
            "      BatchNorm2d-40           [-1, 30, 23, 23]              60\n",
            "        LeakyReLU-41           [-1, 30, 23, 23]               0\n",
            "  ConvTranspose2d-42           [-1, 15, 45, 45]           4,065\n",
            "      BatchNorm2d-43           [-1, 15, 45, 45]              30\n",
            "        LeakyReLU-44           [-1, 15, 45, 45]               0\n",
            "           Conv2d-45            [-1, 9, 45, 45]           1,224\n",
            "      BatchNorm2d-46            [-1, 9, 45, 45]              18\n",
            "        LeakyReLU-47            [-1, 9, 45, 45]               0\n",
            "           Conv2d-48            [-1, 3, 45, 45]             246\n",
            "================================================================\n",
            "Total params: 6,877,483\n",
            "Trainable params: 6,877,483\n",
            "Non-trainable params: 0\n",
            "----------------------------------------------------------------\n",
            "Input size (MB): 0.02\n",
            "Forward/backward pass size (MB): 18.24\n",
            "Params size (MB): 26.24\n",
            "Estimated Total Size (MB): 44.50\n",
            "----------------------------------------------------------------\n"
          ],
          "name": "stdout"
        }
      ]
    },
    {
      "cell_type": "markdown",
      "metadata": {
        "id": "Bdxg_3WJYY7o",
        "colab_type": "text"
      },
      "source": [
        "Осталось написать код обучения автоэнкодера. При этом было бы неплохо в процессе иногда смотреть, как автоэнкодер реконструирует изображения на данном этапе обучения. Наример, после каждой эпохи (прогона train выборки через автоэекодер) можно смотреть, какие реконструкции получились для каких-то изображений val выборки.\n",
        "\n",
        "Подсказка: если x_val -- каринка, а reconstruction -- ее реконструкция автоэнкодером, то красиво вывести эту каритинку и ее реконструкцию можно с помощью функции plot_gallery вот так:\n",
        "\n",
        "*plot_gallery([x_val, reconstruction], image_h, image_w, n_row=1, n_col=2)*\n",
        "\n",
        "А, ну еще было бы неплохо выводить графики train и val лоссов в процессе тренировки =)"
      ]
    },
    {
      "cell_type": "code",
      "metadata": {
        "scrolled": true,
        "id": "3H3DOojrYY7o",
        "colab_type": "code",
        "colab": {}
      },
      "source": [
        "from tqdm import tqdm, tqdm_notebook\n",
        "from IPython.display import clear_output\n",
        "\n",
        "\n",
        "def train(val, train, epochs):\n",
        "  train_losses = []\n",
        "  val_losses = []\n",
        "  best_model_wts = autoencoder.state_dict()\n",
        "  best_loss = np.inf\n",
        "  for epoch in range(epochs):\n",
        "    loss_train_running = 0\n",
        "    total_train_data = 0\n",
        "    loss_val_running = 0\n",
        "    total_val_data = 0\n",
        "    autoencoder.train()\n",
        "    for X in train_loader:\n",
        "      X = X.to(DEVICE)\n",
        "      optimizer.zero_grad()\n",
        "      output = autoencoder(X)[0]\n",
        "      loss = criterion(output, X)\n",
        "      loss.backward()\n",
        "      optimizer.step()\n",
        "      loss_train_running += loss.item()*X.size(0)\n",
        "      total_train_data += X.size(0)\n",
        "    train_losses.append(loss_train_running/total_train_data)\n",
        "    autoencoder.eval()\n",
        "    for X_ in val_loader:\n",
        "      X_ = X_.to(DEVICE)\n",
        "      with torch.no_grad():\n",
        "        output_ = autoencoder(X_)[0]\n",
        "        loss_ = criterion(output_, X_)\n",
        "      loss_val_running += loss_.item()*X_.size(0)\n",
        "      total_val_data += X_.size(0)\n",
        "    val_losses.append(loss_val_running/total_val_data)\n",
        "    if val_losses[-1]< best_loss:\n",
        "      best_loss = val_losses[-1]\n",
        "      best_model_wts = autoencoder.state_dict()\n",
        "    clear_output(True)\n",
        "    plot_gallery(output_[:10].cpu().numpy().transpose(0, 2, 3, 1), IMAGE_H, IMAGE_W, n_row=2, n_col=3)\n",
        "    plot_gallery(X_[:10].cpu().numpy().transpose(0, 2, 3, 1), IMAGE_H, IMAGE_W, n_row=2, n_col=3)\n",
        "    plt.show()\n",
        "    print(\"epoch: {} out of {}\".format(epoch+1, epochs))\n",
        "    print(\"train_loss: {}\\t val_loss:{}\".format(train_losses[-1], val_losses[-1]))\n",
        "  autoencoder.load_state_dict(best_model_wts)\n",
        "  return autoencoder, train_losses, val_losses"
      ],
      "execution_count": 19,
      "outputs": []
    },
    {
      "cell_type": "code",
      "metadata": {
        "id": "DFiAE78zdz1a",
        "colab_type": "code",
        "colab": {
          "base_uri": "https://localhost:8080/",
          "height": 526
        },
        "outputId": "b4b28850-89c8-482b-bfee-5bc61cd3b415"
      },
      "source": [
        "best_param, train_losses, val_losses = train(val_loader, train_loader, 50)"
      ],
      "execution_count": null,
      "outputs": [
        {
          "output_type": "display_data",
          "data": {
            "image/png": "[encoded data removed]",
            "text/plain": [
              "<Figure size 324x244.8 with 6 Axes>"
            ]
          },
          "metadata": {
            "tags": []
          }
        },
        {
          "output_type": "display_data",
          "data": {
            "image/png": "[encoded data removed]",
            "text/plain": [
              "<Figure size 324x244.8 with 6 Axes>"
            ]
          },
          "metadata": {
            "tags": []
          }
        },
        {
          "output_type": "stream",
          "text": [
            "epoch: 50 out of 50\n",
            "train_loss: 0.0010638454301282764\t val_loss:0.001519981747372547\n"
          ],
          "name": "stdout"
        }
      ]
    },
    {
      "cell_type": "code",
      "metadata": {
        "id": "JDXqryqDIMiw",
        "colab_type": "code",
        "colab": {
          "base_uri": "https://localhost:8080/",
          "height": 283
        },
        "outputId": "2d6a695e-0033-4146-9d48-fe94288e954f"
      },
      "source": [
        "plt.plot(train_losses, label = 'train')\n",
        "plt.plot(val_losses, label = 'val')"
      ],
      "execution_count": null,
      "outputs": [
        {
          "output_type": "execute_result",
          "data": {
            "text/plain": [
              "[<matplotlib.lines.Line2D at 0x7f24c0d6ac88>]"
            ]
          },
          "metadata": {
            "tags": []
          },
          "execution_count": 40
        },
        {
          "output_type": "display_data",
          "data": {
            "image/png": "[encoded data removed]",
            "text/plain": [
              "<Figure size 432x288 with 1 Axes>"
            ]
          },
          "metadata": {
            "tags": [],
            "needs_background": "light"
          }
        }
      ]
    },
    {
      "cell_type": "code",
      "metadata": {
        "id": "MMmQcEQg5xbw",
        "colab_type": "code",
        "colab": {}
      },
      "source": [
        "torch.save(best_param.state_dict(), '/content/Autoencoder_50.pth')"
      ],
      "execution_count": null,
      "outputs": []
    },
    {
      "cell_type": "code",
      "metadata": {
        "id": "4nLas7GDC0dS",
        "colab_type": "code",
        "colab": {
          "base_uri": "https://localhost:8080/",
          "height": 35
        },
        "outputId": "4b769254-10bd-46df-8c95-04db10b5a9ce"
      },
      "source": [
        "autoencoder.load_state_dict(torch.load('/content/Autoencoder_50.pth'))"
      ],
      "execution_count": 20,
      "outputs": [
        {
          "output_type": "execute_result",
          "data": {
            "text/plain": [
              "<All keys matched successfully>"
            ]
          },
          "metadata": {
            "tags": []
          },
          "execution_count": 20
        }
      ]
    },
    {
      "cell_type": "markdown",
      "metadata": {
        "id": "FAztAMA4YY7q",
        "colab_type": "text"
      },
      "source": [
        "Давайте посмотрим, как наш тренированный автоэекодер кодирует и восстанавливает картинки:"
      ]
    },
    {
      "cell_type": "code",
      "metadata": {
        "id": "I1J__yvxYY7r",
        "colab_type": "code",
        "colab": {}
      },
      "source": [
        "with torch.no_grad():\n",
        "  real = next(iter(val_loader))\n",
        "  output1 = autoencoder.encoder_(real.to(DEVICE))\n",
        "  output = autoencoder.decoder_(output1.to(DEVICE))"
      ],
      "execution_count": 21,
      "outputs": []
    },
    {
      "cell_type": "code",
      "metadata": {
        "id": "nMEOJ7oHsDpn",
        "colab_type": "code",
        "colab": {
          "base_uri": "https://localhost:8080/",
          "height": 131
        },
        "outputId": "7b15e883-f593-4d10-fcff-bda0cf004b18"
      },
      "source": [
        "plot_gallery([output[3].cpu().numpy().transpose(1, 2, 0), real[3].cpu().numpy().transpose(1, 2, 0)], IMAGE_H, IMAGE_W, 1, 2)"
      ],
      "execution_count": 22,
      "outputs": [
        {
          "output_type": "display_data",
          "data": {
            "image/png": "[encoded data removed]",
            "text/plain": [
              "<Figure size 216x122.4 with 2 Axes>"
            ]
          },
          "metadata": {
            "tags": []
          }
        }
      ]
    },
    {
      "cell_type": "markdown",
      "metadata": {
        "id": "1OPh9O6UYY7s",
        "colab_type": "text"
      },
      "source": [
        "Not bad, right? "
      ]
    },
    {
      "cell_type": "markdown",
      "metadata": {
        "id": "dFi96giuYY7t",
        "colab_type": "text"
      },
      "source": [
        "## Sampling"
      ]
    },
    {
      "cell_type": "markdown",
      "metadata": {
        "id": "AOtUaPNYYY7t",
        "colab_type": "text"
      },
      "source": [
        "Давайте теперь будем не просто брать картинку, прогонять ее через автоэекодер и получать реконструкцию, а попробуем создать что-то НОВОЕ\n",
        "\n",
        "Давайте возьмем и подсунем декодеру какие-нибудь сгенерированные нами векторы (например, из нормального распределения) и посмотрим на результат реконструкции декодера:\n",
        "\n",
        "#### If that doesn't work\n",
        "Если вместо лиц у вас выводится непонятно что, попробуйте посмотреть, как выглядят латентные векторы картинок из датасета. Так как в обучении нейронных сетей есть определенная доля рандома, векторы латентного слоя могут быть распределены НЕ как np.random.randn(25, <latent_space_dim>). А чтобы у нас получались лица при запихивании вектора декодеру, вектор должен быть распределен так же, как лаьентные векторы реальных фоток. Так что ридется рандом подогнать."
      ]
    },
    {
      "cell_type": "code",
      "metadata": {
        "scrolled": true,
        "id": "8IZykARRYY7u",
        "colab_type": "code",
        "colab": {
          "base_uri": "https://localhost:8080/",
          "height": 585
        },
        "outputId": "514720a4-9705-4b57-b39c-5dc396804b11"
      },
      "source": [
        "# сгенерируем 25 рандомных векторов размера latent_space\n",
        "z = torch.randn(25, 250)\n",
        "with torch.no_grad():\n",
        "  autoencoder.eval()\n",
        "  output = autoencoder.decoder_(z.to(DEVICE))\n",
        "  plot_gallery(output.cpu().numpy().transpose(0, 2, 3, 1), IMAGE_H, IMAGE_W, n_row=5, n_col=5)"
      ],
      "execution_count": 43,
      "outputs": [
        {
          "output_type": "display_data",
          "data": {
            "image/png": "[encoded data removed]",
            "text/plain": [
              "<Figure size 540x612 with 25 Axes>"
            ]
          },
          "metadata": {
            "tags": []
          }
        }
      ]
    },
    {
      "cell_type": "markdown",
      "metadata": {
        "collapsed": true,
        "id": "Ey8dD9s0YY7w",
        "colab_type": "text"
      },
      "source": [
        "## Congrats!\n",
        "\n",
        "Time to make fun!\n",
        "\n",
        "Давайте научимся пририсовывать людям улыбки =)"
      ]
    },
    {
      "cell_type": "markdown",
      "metadata": {
        "id": "i1v-8WwuYY7w",
        "colab_type": "text"
      },
      "source": [
        "<img src=\"https://i.imgur.com/tOE9rDK.png\" alt=\"linear\">"
      ]
    },
    {
      "cell_type": "markdown",
      "metadata": {
        "id": "eGE0M2GDYY7x",
        "colab_type": "text"
      },
      "source": [
        "План такой:\n",
        "\n",
        "1) Нужно выделить \"вектор улыбки\": для этого нужно из выборки изображений найти несколько (~15 сойдет) людей с улыбками и столько же без.\n",
        "\n",
        "Найти людей с улыбками вам поможет файл с описанием датасета, скачанный вместе с датасетом. В нем указаны имена картинок и присутствубщие атрибуты (улыбки, очки...)\n",
        "\n",
        "2) Вычислить латентный вектор для всех улыбающихся людей (прогнать их через encoder) и то же для всех грустненьких\n",
        "\n",
        "3) Вычислить, собственно, вектор улыбки -- посчитать разность между средним латентным вектором улыбающихся людей и средним латентным вектором грустных людей\n",
        "\n",
        "3) А теперь приделаем улыбку грустному человеку: добавим полученный в пункте 3 вектор к латентному вектору грустного чувака и прогоним полученный вектор через decoder. Получим того же человека, но уже не грустненького!"
      ]
    },
    {
      "cell_type": "code",
      "metadata": {
        "id": "cxqhLxE6PFnl",
        "colab_type": "code",
        "colab": {
          "base_uri": "https://localhost:8080/",
          "height": 470
        },
        "outputId": "cfe6439f-3a76-42bb-def9-ec3ead6b113c"
      },
      "source": [
        "attrs"
      ],
      "execution_count": 24,
      "outputs": [
        {
          "output_type": "execute_result",
          "data": {
            "text/html": [
              "<div>\n",
              "<style scoped>\n",
              "    .dataframe tbody tr th:only-of-type {\n",
              "        vertical-align: middle;\n",
              "    }\n",
              "\n",
              "    .dataframe tbody tr th {\n",
              "        vertical-align: top;\n",
              "    }\n",
              "\n",
              "    .dataframe thead th {\n",
              "        text-align: right;\n",
              "    }\n",
              "</style>\n",
              "<table border=\"1\" class=\"dataframe\">\n",
              "  <thead>\n",
              "    <tr style=\"text-align: right;\">\n",
              "      <th></th>\n",
              "      <th>Male</th>\n",
              "      <th>Asian</th>\n",
              "      <th>White</th>\n",
              "      <th>Black</th>\n",
              "      <th>Baby</th>\n",
              "      <th>Child</th>\n",
              "      <th>Youth</th>\n",
              "      <th>Middle Aged</th>\n",
              "      <th>Senior</th>\n",
              "      <th>Black Hair</th>\n",
              "      <th>Blond Hair</th>\n",
              "      <th>Brown Hair</th>\n",
              "      <th>Bald</th>\n",
              "      <th>No Eyewear</th>\n",
              "      <th>Eyeglasses</th>\n",
              "      <th>Sunglasses</th>\n",
              "      <th>Mustache</th>\n",
              "      <th>Smiling</th>\n",
              "      <th>Frowning</th>\n",
              "      <th>Chubby</th>\n",
              "      <th>Blurry</th>\n",
              "      <th>Harsh Lighting</th>\n",
              "      <th>Flash</th>\n",
              "      <th>Soft Lighting</th>\n",
              "      <th>Outdoor</th>\n",
              "      <th>Curly Hair</th>\n",
              "      <th>Wavy Hair</th>\n",
              "      <th>Straight Hair</th>\n",
              "      <th>Receding Hairline</th>\n",
              "      <th>Bangs</th>\n",
              "      <th>Sideburns</th>\n",
              "      <th>Fully Visible Forehead</th>\n",
              "      <th>Partially Visible Forehead</th>\n",
              "      <th>Obstructed Forehead</th>\n",
              "      <th>Bushy Eyebrows</th>\n",
              "      <th>Arched Eyebrows</th>\n",
              "      <th>Narrow Eyes</th>\n",
              "      <th>Eyes Open</th>\n",
              "      <th>Big Nose</th>\n",
              "      <th>Pointy Nose</th>\n",
              "      <th>Big Lips</th>\n",
              "      <th>Mouth Closed</th>\n",
              "      <th>Mouth Slightly Open</th>\n",
              "      <th>Mouth Wide Open</th>\n",
              "      <th>Teeth Not Visible</th>\n",
              "      <th>No Beard</th>\n",
              "      <th>Goatee</th>\n",
              "      <th>Round Jaw</th>\n",
              "      <th>Double Chin</th>\n",
              "      <th>Wearing Hat</th>\n",
              "      <th>Oval Face</th>\n",
              "      <th>Square Face</th>\n",
              "      <th>Round Face</th>\n",
              "      <th>Color Photo</th>\n",
              "      <th>Posed Photo</th>\n",
              "      <th>Attractive Man</th>\n",
              "      <th>Attractive Woman</th>\n",
              "      <th>Indian</th>\n",
              "      <th>Gray Hair</th>\n",
              "      <th>Bags Under Eyes</th>\n",
              "      <th>Heavy Makeup</th>\n",
              "      <th>Rosy Cheeks</th>\n",
              "      <th>Shiny Skin</th>\n",
              "      <th>Pale Skin</th>\n",
              "      <th>5 o' Clock Shadow</th>\n",
              "      <th>Strong Nose-Mouth Lines</th>\n",
              "      <th>Wearing Lipstick</th>\n",
              "      <th>Flushed Face</th>\n",
              "      <th>High Cheekbones</th>\n",
              "      <th>Brown Eyes</th>\n",
              "      <th>Wearing Earrings</th>\n",
              "      <th>Wearing Necktie</th>\n",
              "      <th>Wearing Necklace</th>\n",
              "    </tr>\n",
              "  </thead>\n",
              "  <tbody>\n",
              "    <tr>\n",
              "      <th>0</th>\n",
              "      <td>1.56835</td>\n",
              "      <td>-1.88904</td>\n",
              "      <td>1.7372</td>\n",
              "      <td>-0.929729</td>\n",
              "      <td>-1.4718</td>\n",
              "      <td>-0.19558</td>\n",
              "      <td>-0.835609</td>\n",
              "      <td>-0.351468</td>\n",
              "      <td>-1.01253</td>\n",
              "      <td>-0.719593</td>\n",
              "      <td>-0.632401</td>\n",
              "      <td>0.464839</td>\n",
              "      <td>-0.973528</td>\n",
              "      <td>1.56519</td>\n",
              "      <td>-1.2967</td>\n",
              "      <td>-1.54272</td>\n",
              "      <td>-0.684671</td>\n",
              "      <td>-0.86499</td>\n",
              "      <td>0.766886</td>\n",
              "      <td>-0.218952</td>\n",
              "      <td>-1.65567</td>\n",
              "      <td>-0.787044</td>\n",
              "      <td>-0.599665</td>\n",
              "      <td>0.458519</td>\n",
              "      <td>0.18976</td>\n",
              "      <td>0.851555</td>\n",
              "      <td>-0.38572</td>\n",
              "      <td>-0.497719</td>\n",
              "      <td>-0.161149</td>\n",
              "      <td>-0.257514</td>\n",
              "      <td>-0.0888388</td>\n",
              "      <td>0.455469</td>\n",
              "      <td>-0.839211</td>\n",
              "      <td>-0.0229481</td>\n",
              "      <td>-0.922568</td>\n",
              "      <td>-0.114539</td>\n",
              "      <td>1.46122</td>\n",
              "      <td>1.75848</td>\n",
              "      <td>0.0688935</td>\n",
              "      <td>1.26786</td>\n",
              "      <td>-1.12024</td>\n",
              "      <td>0.917617</td>\n",
              "      <td>-1.30796</td>\n",
              "      <td>-1.50041</td>\n",
              "      <td>1.02922</td>\n",
              "      <td>0.832363</td>\n",
              "      <td>-0.498657</td>\n",
              "      <td>0.251365</td>\n",
              "      <td>-0.705281</td>\n",
              "      <td>-0.515715</td>\n",
              "      <td>0.374239</td>\n",
              "      <td>-0.168675</td>\n",
              "      <td>-0.614143</td>\n",
              "      <td>3.0977</td>\n",
              "      <td>1.52386</td>\n",
              "      <td>0.779278</td>\n",
              "      <td>-0.0714539</td>\n",
              "      <td>-1.24648</td>\n",
              "      <td>-0.769283</td>\n",
              "      <td>-0.725597</td>\n",
              "      <td>-1.82061</td>\n",
              "      <td>-2.07298</td>\n",
              "      <td>-0.960759</td>\n",
              "      <td>0.361738</td>\n",
              "      <td>1.16612</td>\n",
              "      <td>-1.16492</td>\n",
              "      <td>-1.13999</td>\n",
              "      <td>-2.37175</td>\n",
              "      <td>-1.29993</td>\n",
              "      <td>-0.414682</td>\n",
              "      <td>-1.1449</td>\n",
              "      <td>0.694007</td>\n",
              "      <td>-0.826609</td>\n",
              "    </tr>\n",
              "    <tr>\n",
              "      <th>1</th>\n",
              "      <td>0.169851</td>\n",
              "      <td>-0.982408</td>\n",
              "      <td>0.422709</td>\n",
              "      <td>-1.28218</td>\n",
              "      <td>-1.36006</td>\n",
              "      <td>-0.867002</td>\n",
              "      <td>-0.452293</td>\n",
              "      <td>-0.197521</td>\n",
              "      <td>-0.956073</td>\n",
              "      <td>-0.802107</td>\n",
              "      <td>-0.736883</td>\n",
              "      <td>0.294554</td>\n",
              "      <td>-1.27765</td>\n",
              "      <td>0.954771</td>\n",
              "      <td>-0.990992</td>\n",
              "      <td>-1.16736</td>\n",
              "      <td>-0.835146</td>\n",
              "      <td>0.798544</td>\n",
              "      <td>-0.971679</td>\n",
              "      <td>0.342826</td>\n",
              "      <td>-1.32256</td>\n",
              "      <td>0.962937</td>\n",
              "      <td>-1.19936</td>\n",
              "      <td>-0.157307</td>\n",
              "      <td>0.443224</td>\n",
              "      <td>-0.00288156</td>\n",
              "      <td>-0.0211584</td>\n",
              "      <td>-0.226563</td>\n",
              "      <td>-0.0810386</td>\n",
              "      <td>-0.827202</td>\n",
              "      <td>-0.106624</td>\n",
              "      <td>1.22759</td>\n",
              "      <td>-0.812223</td>\n",
              "      <td>-1.24126</td>\n",
              "      <td>0.0962725</td>\n",
              "      <td>-0.404544</td>\n",
              "      <td>0.325919</td>\n",
              "      <td>0.474452</td>\n",
              "      <td>1.13536</td>\n",
              "      <td>0.0587247</td>\n",
              "      <td>0.611176</td>\n",
              "      <td>-1.17251</td>\n",
              "      <td>0.428512</td>\n",
              "      <td>-0.874235</td>\n",
              "      <td>-1.19156</td>\n",
              "      <td>0.192359</td>\n",
              "      <td>-0.204166</td>\n",
              "      <td>0.342347</td>\n",
              "      <td>0.239512</td>\n",
              "      <td>-1.47469</td>\n",
              "      <td>0.236057</td>\n",
              "      <td>-0.565208</td>\n",
              "      <td>-0.712542</td>\n",
              "      <td>2.99708</td>\n",
              "      <td>-0.273306</td>\n",
              "      <td>-0.187722</td>\n",
              "      <td>-0.604608</td>\n",
              "      <td>-1.3217</td>\n",
              "      <td>-0.938559</td>\n",
              "      <td>0.494294</td>\n",
              "      <td>-0.659043</td>\n",
              "      <td>-1.14375</td>\n",
              "      <td>-0.775722</td>\n",
              "      <td>-0.832036</td>\n",
              "      <td>-0.39768</td>\n",
              "      <td>0.87416</td>\n",
              "      <td>-0.945431</td>\n",
              "      <td>-0.268649</td>\n",
              "      <td>-0.00624408</td>\n",
              "      <td>-0.0304057</td>\n",
              "      <td>-0.480128</td>\n",
              "      <td>0.66676</td>\n",
              "      <td>-0.496559</td>\n",
              "    </tr>\n",
              "    <tr>\n",
              "      <th>2</th>\n",
              "      <td>0.997749</td>\n",
              "      <td>-1.36419</td>\n",
              "      <td>-0.157377</td>\n",
              "      <td>-0.756447</td>\n",
              "      <td>-1.89183</td>\n",
              "      <td>-0.871526</td>\n",
              "      <td>-0.862893</td>\n",
              "      <td>0.0314447</td>\n",
              "      <td>-1.34152</td>\n",
              "      <td>-0.0900375</td>\n",
              "      <td>-1.20073</td>\n",
              "      <td>-0.33246</td>\n",
              "      <td>-0.537006</td>\n",
              "      <td>1.29836</td>\n",
              "      <td>-1.49847</td>\n",
              "      <td>-1.28582</td>\n",
              "      <td>1.14174</td>\n",
              "      <td>0.172817</td>\n",
              "      <td>0.106412</td>\n",
              "      <td>-0.788843</td>\n",
              "      <td>0.349295</td>\n",
              "      <td>-1.64372</td>\n",
              "      <td>0.454287</td>\n",
              "      <td>1.18946</td>\n",
              "      <td>-0.688414</td>\n",
              "      <td>-0.590574</td>\n",
              "      <td>-0.266673</td>\n",
              "      <td>0.467224</td>\n",
              "      <td>0.567348</td>\n",
              "      <td>-1.7191</td>\n",
              "      <td>0.124667</td>\n",
              "      <td>1.60274</td>\n",
              "      <td>-0.659399</td>\n",
              "      <td>-1.75376</td>\n",
              "      <td>1.20447</td>\n",
              "      <td>0.0221884</td>\n",
              "      <td>-1.13544</td>\n",
              "      <td>1.70286</td>\n",
              "      <td>-0.422144</td>\n",
              "      <td>0.587859</td>\n",
              "      <td>0.414363</td>\n",
              "      <td>0.344447</td>\n",
              "      <td>-1.26045</td>\n",
              "      <td>-0.577746</td>\n",
              "      <td>0.405567</td>\n",
              "      <td>-1.91655</td>\n",
              "      <td>0.92126</td>\n",
              "      <td>0.247437</td>\n",
              "      <td>-0.428451</td>\n",
              "      <td>-0.772273</td>\n",
              "      <td>0.370673</td>\n",
              "      <td>-0.509596</td>\n",
              "      <td>-0.768482</td>\n",
              "      <td>1.7069</td>\n",
              "      <td>0.126524</td>\n",
              "      <td>-0.497001</td>\n",
              "      <td>-0.393042</td>\n",
              "      <td>-0.178307</td>\n",
              "      <td>-1.18023</td>\n",
              "      <td>-0.596914</td>\n",
              "      <td>-1.80538</td>\n",
              "      <td>-0.951643</td>\n",
              "      <td>-0.838087</td>\n",
              "      <td>1.54974</td>\n",
              "      <td>1.88475</td>\n",
              "      <td>-0.999765</td>\n",
              "      <td>-1.35986</td>\n",
              "      <td>-1.91211</td>\n",
              "      <td>-1.09563</td>\n",
              "      <td>0.915126</td>\n",
              "      <td>-0.572332</td>\n",
              "      <td>0.144262</td>\n",
              "      <td>-0.841231</td>\n",
              "    </tr>\n",
              "    <tr>\n",
              "      <th>3</th>\n",
              "      <td>1.12272</td>\n",
              "      <td>-1.9978</td>\n",
              "      <td>1.91614</td>\n",
              "      <td>-2.51421</td>\n",
              "      <td>-2.58007</td>\n",
              "      <td>-1.40424</td>\n",
              "      <td>0.0575511</td>\n",
              "      <td>0.000195882</td>\n",
              "      <td>-1.27351</td>\n",
              "      <td>-1.43146</td>\n",
              "      <td>-0.0705188</td>\n",
              "      <td>-0.339239</td>\n",
              "      <td>-2.00415</td>\n",
              "      <td>0.665695</td>\n",
              "      <td>-0.77594</td>\n",
              "      <td>-1.47163</td>\n",
              "      <td>-1.17908</td>\n",
              "      <td>0.563327</td>\n",
              "      <td>-0.664429</td>\n",
              "      <td>-1.40793</td>\n",
              "      <td>0.435594</td>\n",
              "      <td>-0.589988</td>\n",
              "      <td>-1.6035</td>\n",
              "      <td>1.17074</td>\n",
              "      <td>0.760103</td>\n",
              "      <td>0.211498</td>\n",
              "      <td>-0.51618</td>\n",
              "      <td>-1.33115</td>\n",
              "      <td>0.20284</td>\n",
              "      <td>0.149645</td>\n",
              "      <td>-0.0464296</td>\n",
              "      <td>0.640885</td>\n",
              "      <td>-0.107616</td>\n",
              "      <td>-0.831271</td>\n",
              "      <td>-0.827005</td>\n",
              "      <td>-0.588725</td>\n",
              "      <td>0.429255</td>\n",
              "      <td>1.58766</td>\n",
              "      <td>0.499086</td>\n",
              "      <td>-0.0568692</td>\n",
              "      <td>-0.866643</td>\n",
              "      <td>-0.959689</td>\n",
              "      <td>0.35073</td>\n",
              "      <td>-1.33535</td>\n",
              "      <td>-0.42789</td>\n",
              "      <td>0.826817</td>\n",
              "      <td>-0.256779</td>\n",
              "      <td>0.149751</td>\n",
              "      <td>-1.20153</td>\n",
              "      <td>-1.08392</td>\n",
              "      <td>0.255363</td>\n",
              "      <td>-0.650423</td>\n",
              "      <td>-0.506293</td>\n",
              "      <td>1.10159</td>\n",
              "      <td>0.640783</td>\n",
              "      <td>1.57503</td>\n",
              "      <td>-0.484397</td>\n",
              "      <td>-1.55968</td>\n",
              "      <td>-1.43712</td>\n",
              "      <td>0.379363</td>\n",
              "      <td>-0.648233</td>\n",
              "      <td>-2.25735</td>\n",
              "      <td>-1.07561</td>\n",
              "      <td>0.567822</td>\n",
              "      <td>-0.176089</td>\n",
              "      <td>1.10812</td>\n",
              "      <td>-1.60094</td>\n",
              "      <td>-3.26461</td>\n",
              "      <td>0.813418</td>\n",
              "      <td>0.308631</td>\n",
              "      <td>-0.848693</td>\n",
              "      <td>0.475941</td>\n",
              "      <td>-0.447025</td>\n",
              "    </tr>\n",
              "    <tr>\n",
              "      <th>4</th>\n",
              "      <td>1.07821</td>\n",
              "      <td>-2.0081</td>\n",
              "      <td>1.67621</td>\n",
              "      <td>-2.27806</td>\n",
              "      <td>-2.65185</td>\n",
              "      <td>-1.34841</td>\n",
              "      <td>0.649089</td>\n",
              "      <td>0.0176564</td>\n",
              "      <td>-1.88911</td>\n",
              "      <td>-1.85721</td>\n",
              "      <td>-0.568057</td>\n",
              "      <td>0.840375</td>\n",
              "      <td>-1.98127</td>\n",
              "      <td>1.66671</td>\n",
              "      <td>-0.910723</td>\n",
              "      <td>-1.99351</td>\n",
              "      <td>-0.871335</td>\n",
              "      <td>0.507786</td>\n",
              "      <td>-0.488947</td>\n",
              "      <td>-0.88649</td>\n",
              "      <td>-0.990132</td>\n",
              "      <td>-0.750813</td>\n",
              "      <td>-0.378479</td>\n",
              "      <td>0.583086</td>\n",
              "      <td>-1.4796</td>\n",
              "      <td>0.250185</td>\n",
              "      <td>-0.381123</td>\n",
              "      <td>-0.611991</td>\n",
              "      <td>-0.143091</td>\n",
              "      <td>-1.07276</td>\n",
              "      <td>0.432094</td>\n",
              "      <td>1.08919</td>\n",
              "      <td>-0.470929</td>\n",
              "      <td>-1.17712</td>\n",
              "      <td>-0.111313</td>\n",
              "      <td>-0.154603</td>\n",
              "      <td>-1.03151</td>\n",
              "      <td>2.39246</td>\n",
              "      <td>-0.191576</td>\n",
              "      <td>1.2279</td>\n",
              "      <td>-1.3818</td>\n",
              "      <td>-1.52885</td>\n",
              "      <td>0.907964</td>\n",
              "      <td>-1.32429</td>\n",
              "      <td>-0.934644</td>\n",
              "      <td>0.686995</td>\n",
              "      <td>-0.149301</td>\n",
              "      <td>0.0336263</td>\n",
              "      <td>-0.911138</td>\n",
              "      <td>-1.24109</td>\n",
              "      <td>0.904177</td>\n",
              "      <td>-0.309967</td>\n",
              "      <td>-1.03889</td>\n",
              "      <td>3.75812</td>\n",
              "      <td>1.05837</td>\n",
              "      <td>1.50215</td>\n",
              "      <td>-0.649715</td>\n",
              "      <td>-1.07294</td>\n",
              "      <td>-1.77832</td>\n",
              "      <td>-0.0771244</td>\n",
              "      <td>-0.743271</td>\n",
              "      <td>-3.30071</td>\n",
              "      <td>-0.779219</td>\n",
              "      <td>-1.46147</td>\n",
              "      <td>-0.955283</td>\n",
              "      <td>0.119113</td>\n",
              "      <td>-1.12818</td>\n",
              "      <td>-3.16105</td>\n",
              "      <td>0.0826804</td>\n",
              "      <td>-0.439614</td>\n",
              "      <td>-0.359859</td>\n",
              "      <td>-0.760774</td>\n",
              "      <td>-0.410152</td>\n",
              "    </tr>\n",
              "    <tr>\n",
              "      <th>...</th>\n",
              "      <td>...</td>\n",
              "      <td>...</td>\n",
              "      <td>...</td>\n",
              "      <td>...</td>\n",
              "      <td>...</td>\n",
              "      <td>...</td>\n",
              "      <td>...</td>\n",
              "      <td>...</td>\n",
              "      <td>...</td>\n",
              "      <td>...</td>\n",
              "      <td>...</td>\n",
              "      <td>...</td>\n",
              "      <td>...</td>\n",
              "      <td>...</td>\n",
              "      <td>...</td>\n",
              "      <td>...</td>\n",
              "      <td>...</td>\n",
              "      <td>...</td>\n",
              "      <td>...</td>\n",
              "      <td>...</td>\n",
              "      <td>...</td>\n",
              "      <td>...</td>\n",
              "      <td>...</td>\n",
              "      <td>...</td>\n",
              "      <td>...</td>\n",
              "      <td>...</td>\n",
              "      <td>...</td>\n",
              "      <td>...</td>\n",
              "      <td>...</td>\n",
              "      <td>...</td>\n",
              "      <td>...</td>\n",
              "      <td>...</td>\n",
              "      <td>...</td>\n",
              "      <td>...</td>\n",
              "      <td>...</td>\n",
              "      <td>...</td>\n",
              "      <td>...</td>\n",
              "      <td>...</td>\n",
              "      <td>...</td>\n",
              "      <td>...</td>\n",
              "      <td>...</td>\n",
              "      <td>...</td>\n",
              "      <td>...</td>\n",
              "      <td>...</td>\n",
              "      <td>...</td>\n",
              "      <td>...</td>\n",
              "      <td>...</td>\n",
              "      <td>...</td>\n",
              "      <td>...</td>\n",
              "      <td>...</td>\n",
              "      <td>...</td>\n",
              "      <td>...</td>\n",
              "      <td>...</td>\n",
              "      <td>...</td>\n",
              "      <td>...</td>\n",
              "      <td>...</td>\n",
              "      <td>...</td>\n",
              "      <td>...</td>\n",
              "      <td>...</td>\n",
              "      <td>...</td>\n",
              "      <td>...</td>\n",
              "      <td>...</td>\n",
              "      <td>...</td>\n",
              "      <td>...</td>\n",
              "      <td>...</td>\n",
              "      <td>...</td>\n",
              "      <td>...</td>\n",
              "      <td>...</td>\n",
              "      <td>...</td>\n",
              "      <td>...</td>\n",
              "      <td>...</td>\n",
              "      <td>...</td>\n",
              "      <td>...</td>\n",
              "    </tr>\n",
              "    <tr>\n",
              "      <th>13138</th>\n",
              "      <td>-0.205363</td>\n",
              "      <td>-0.202842</td>\n",
              "      <td>-1.23274</td>\n",
              "      <td>-1.40913</td>\n",
              "      <td>-1.80486</td>\n",
              "      <td>0.287268</td>\n",
              "      <td>-0.521815</td>\n",
              "      <td>-0.789165</td>\n",
              "      <td>-1.00812</td>\n",
              "      <td>0.531813</td>\n",
              "      <td>-1.09891</td>\n",
              "      <td>-1.22299</td>\n",
              "      <td>-1.10121</td>\n",
              "      <td>0.333529</td>\n",
              "      <td>-1.66176</td>\n",
              "      <td>-0.615137</td>\n",
              "      <td>-0.955105</td>\n",
              "      <td>-1.00143</td>\n",
              "      <td>1.15118</td>\n",
              "      <td>-0.72538</td>\n",
              "      <td>-0.613303</td>\n",
              "      <td>0.0138675</td>\n",
              "      <td>-1.44909</td>\n",
              "      <td>0.358975</td>\n",
              "      <td>0.453012</td>\n",
              "      <td>-0.408078</td>\n",
              "      <td>-1.16897</td>\n",
              "      <td>0.517069</td>\n",
              "      <td>-2.37788</td>\n",
              "      <td>0.865058</td>\n",
              "      <td>-0.509311</td>\n",
              "      <td>-2.31646</td>\n",
              "      <td>-0.391076</td>\n",
              "      <td>0.362223</td>\n",
              "      <td>-0.0462791</td>\n",
              "      <td>2.61463</td>\n",
              "      <td>0.173369</td>\n",
              "      <td>0.732807</td>\n",
              "      <td>-0.255544</td>\n",
              "      <td>0.165985</td>\n",
              "      <td>0.100935</td>\n",
              "      <td>1.85121</td>\n",
              "      <td>-0.729254</td>\n",
              "      <td>-1.48945</td>\n",
              "      <td>1.50647</td>\n",
              "      <td>1.15794</td>\n",
              "      <td>-1.15707</td>\n",
              "      <td>0.40582</td>\n",
              "      <td>-0.730833</td>\n",
              "      <td>-0.545101</td>\n",
              "      <td>0.257814</td>\n",
              "      <td>-0.855756</td>\n",
              "      <td>-0.468355</td>\n",
              "      <td>3.34798</td>\n",
              "      <td>0.155652</td>\n",
              "      <td>0.0623753</td>\n",
              "      <td>-0.15821</td>\n",
              "      <td>-0.37909</td>\n",
              "      <td>-0.958333</td>\n",
              "      <td>0.262992</td>\n",
              "      <td>-0.565337</td>\n",
              "      <td>-2.47255</td>\n",
              "      <td>-0.809748</td>\n",
              "      <td>-0.867156</td>\n",
              "      <td>-0.879554</td>\n",
              "      <td>-0.179497</td>\n",
              "      <td>0.323676</td>\n",
              "      <td>-2.18885</td>\n",
              "      <td>-1.16937</td>\n",
              "      <td>0.924397</td>\n",
              "      <td>-0.217415</td>\n",
              "      <td>-0.414024</td>\n",
              "      <td>-0.495178</td>\n",
              "    </tr>\n",
              "    <tr>\n",
              "      <th>13139</th>\n",
              "      <td>1.95747</td>\n",
              "      <td>-2.47247</td>\n",
              "      <td>-1.30799</td>\n",
              "      <td>-0.671636</td>\n",
              "      <td>-1.96012</td>\n",
              "      <td>-0.838803</td>\n",
              "      <td>-1.36596</td>\n",
              "      <td>0.510448</td>\n",
              "      <td>-1.26219</td>\n",
              "      <td>0.418947</td>\n",
              "      <td>-1.15818</td>\n",
              "      <td>0.404213</td>\n",
              "      <td>-0.754658</td>\n",
              "      <td>0.803589</td>\n",
              "      <td>-1.55515</td>\n",
              "      <td>-0.860096</td>\n",
              "      <td>2.19387</td>\n",
              "      <td>-0.64957</td>\n",
              "      <td>0.652186</td>\n",
              "      <td>-0.578955</td>\n",
              "      <td>-0.255723</td>\n",
              "      <td>-0.099989</td>\n",
              "      <td>0.0409146</td>\n",
              "      <td>-0.596765</td>\n",
              "      <td>-0.555903</td>\n",
              "      <td>-0.718252</td>\n",
              "      <td>-0.981299</td>\n",
              "      <td>1.63861</td>\n",
              "      <td>0.140998</td>\n",
              "      <td>-1.59845</td>\n",
              "      <td>0.541661</td>\n",
              "      <td>1.59624</td>\n",
              "      <td>-1.11378</td>\n",
              "      <td>-1.46952</td>\n",
              "      <td>1.04329</td>\n",
              "      <td>-0.723379</td>\n",
              "      <td>1.32622</td>\n",
              "      <td>-0.625304</td>\n",
              "      <td>0.441308</td>\n",
              "      <td>0.489116</td>\n",
              "      <td>0.303926</td>\n",
              "      <td>1.45809</td>\n",
              "      <td>-1.09585</td>\n",
              "      <td>-0.687068</td>\n",
              "      <td>0.693567</td>\n",
              "      <td>-2.66692</td>\n",
              "      <td>1.1056</td>\n",
              "      <td>0.139018</td>\n",
              "      <td>-0.598206</td>\n",
              "      <td>-1.26116</td>\n",
              "      <td>0.561531</td>\n",
              "      <td>-0.509703</td>\n",
              "      <td>-0.876744</td>\n",
              "      <td>3.25145</td>\n",
              "      <td>0.0439032</td>\n",
              "      <td>-0.317326</td>\n",
              "      <td>-0.700758</td>\n",
              "      <td>0.992693</td>\n",
              "      <td>-0.881803</td>\n",
              "      <td>-0.0394141</td>\n",
              "      <td>-0.975488</td>\n",
              "      <td>-0.515647</td>\n",
              "      <td>0.0677959</td>\n",
              "      <td>-2.48729</td>\n",
              "      <td>2.60886</td>\n",
              "      <td>-0.95419</td>\n",
              "      <td>-1.59946</td>\n",
              "      <td>-1.23822</td>\n",
              "      <td>-1.18703</td>\n",
              "      <td>1.87413</td>\n",
              "      <td>-0.832614</td>\n",
              "      <td>0.152785</td>\n",
              "      <td>-0.554331</td>\n",
              "    </tr>\n",
              "    <tr>\n",
              "      <th>13140</th>\n",
              "      <td>-0.0370013</td>\n",
              "      <td>-1.16415</td>\n",
              "      <td>0.228494</td>\n",
              "      <td>0.187503</td>\n",
              "      <td>-1.83647</td>\n",
              "      <td>-0.958412</td>\n",
              "      <td>-0.669697</td>\n",
              "      <td>-0.48033</td>\n",
              "      <td>0.493433</td>\n",
              "      <td>-1.89315</td>\n",
              "      <td>-0.834652</td>\n",
              "      <td>-0.102431</td>\n",
              "      <td>-0.699261</td>\n",
              "      <td>-1.4053</td>\n",
              "      <td>0.844077</td>\n",
              "      <td>-0.116514</td>\n",
              "      <td>-0.214757</td>\n",
              "      <td>0.475018</td>\n",
              "      <td>-0.725584</td>\n",
              "      <td>0.992295</td>\n",
              "      <td>0.408178</td>\n",
              "      <td>1.5037</td>\n",
              "      <td>0.224821</td>\n",
              "      <td>-1.65147</td>\n",
              "      <td>-0.696158</td>\n",
              "      <td>-0.310649</td>\n",
              "      <td>0.24556</td>\n",
              "      <td>-0.4702</td>\n",
              "      <td>0.701684</td>\n",
              "      <td>0.232114</td>\n",
              "      <td>-0.301231</td>\n",
              "      <td>-0.332474</td>\n",
              "      <td>-0.526344</td>\n",
              "      <td>-0.167074</td>\n",
              "      <td>0.505181</td>\n",
              "      <td>0.797412</td>\n",
              "      <td>-0.0211577</td>\n",
              "      <td>-0.398478</td>\n",
              "      <td>0.558351</td>\n",
              "      <td>0.324081</td>\n",
              "      <td>-0.152209</td>\n",
              "      <td>0.942711</td>\n",
              "      <td>-0.488052</td>\n",
              "      <td>-1.12841</td>\n",
              "      <td>-0.58119</td>\n",
              "      <td>0.193692</td>\n",
              "      <td>-0.786337</td>\n",
              "      <td>0.249549</td>\n",
              "      <td>0.326143</td>\n",
              "      <td>-0.282758</td>\n",
              "      <td>-0.233144</td>\n",
              "      <td>-0.591594</td>\n",
              "      <td>-0.507537</td>\n",
              "      <td>3.93787</td>\n",
              "      <td>-0.776063</td>\n",
              "      <td>-0.706599</td>\n",
              "      <td>-0.756855</td>\n",
              "      <td>-1.24076</td>\n",
              "      <td>0.203719</td>\n",
              "      <td>-0.297385</td>\n",
              "      <td>-0.404331</td>\n",
              "      <td>0.409007</td>\n",
              "      <td>0.365549</td>\n",
              "      <td>-1.93864</td>\n",
              "      <td>-0.49108</td>\n",
              "      <td>0.495067</td>\n",
              "      <td>-0.524767</td>\n",
              "      <td>-1.07373</td>\n",
              "      <td>0.11101</td>\n",
              "      <td>0.976262</td>\n",
              "      <td>-0.453027</td>\n",
              "      <td>-0.399981</td>\n",
              "      <td>-1.07866</td>\n",
              "    </tr>\n",
              "    <tr>\n",
              "      <th>13141</th>\n",
              "      <td>0.282219</td>\n",
              "      <td>-0.396198</td>\n",
              "      <td>1.27047</td>\n",
              "      <td>-1.98121</td>\n",
              "      <td>-1.70294</td>\n",
              "      <td>-1.5072</td>\n",
              "      <td>-2.33072</td>\n",
              "      <td>-0.295928</td>\n",
              "      <td>1.05662</td>\n",
              "      <td>-1.6137</td>\n",
              "      <td>-1.28563</td>\n",
              "      <td>-0.485386</td>\n",
              "      <td>-0.205323</td>\n",
              "      <td>1.93411</td>\n",
              "      <td>-1.21809</td>\n",
              "      <td>-1.70788</td>\n",
              "      <td>-0.752663</td>\n",
              "      <td>0.741653</td>\n",
              "      <td>-0.769613</td>\n",
              "      <td>1.38968</td>\n",
              "      <td>-1.36903</td>\n",
              "      <td>-0.506228</td>\n",
              "      <td>0.224905</td>\n",
              "      <td>-0.345608</td>\n",
              "      <td>-0.931425</td>\n",
              "      <td>-0.110922</td>\n",
              "      <td>0.312601</td>\n",
              "      <td>-0.266563</td>\n",
              "      <td>1.60378</td>\n",
              "      <td>-0.617495</td>\n",
              "      <td>-0.648989</td>\n",
              "      <td>2.19231</td>\n",
              "      <td>-1.0637</td>\n",
              "      <td>-0.90386</td>\n",
              "      <td>-0.413422</td>\n",
              "      <td>-0.565632</td>\n",
              "      <td>2.35769</td>\n",
              "      <td>0.108151</td>\n",
              "      <td>1.14054</td>\n",
              "      <td>-0.401063</td>\n",
              "      <td>-1.18196</td>\n",
              "      <td>-0.226927</td>\n",
              "      <td>-0.439579</td>\n",
              "      <td>-0.944363</td>\n",
              "      <td>0.390102</td>\n",
              "      <td>0.255136</td>\n",
              "      <td>-0.403347</td>\n",
              "      <td>0.0848635</td>\n",
              "      <td>1.25515</td>\n",
              "      <td>-1.32416</td>\n",
              "      <td>-1.16894</td>\n",
              "      <td>-0.192449</td>\n",
              "      <td>-0.352072</td>\n",
              "      <td>5.77901</td>\n",
              "      <td>0.119552</td>\n",
              "      <td>-1.67052</td>\n",
              "      <td>-1.59147</td>\n",
              "      <td>-1.8953</td>\n",
              "      <td>0.594803</td>\n",
              "      <td>0.724919</td>\n",
              "      <td>-0.802374</td>\n",
              "      <td>-0.400945</td>\n",
              "      <td>0.138485</td>\n",
              "      <td>-0.662101</td>\n",
              "      <td>-1.69213</td>\n",
              "      <td>1.28477</td>\n",
              "      <td>-0.80818</td>\n",
              "      <td>-0.710051</td>\n",
              "      <td>0.694621</td>\n",
              "      <td>0.936065</td>\n",
              "      <td>-0.7675</td>\n",
              "      <td>1.14693</td>\n",
              "      <td>-0.26094</td>\n",
              "    </tr>\n",
              "    <tr>\n",
              "      <th>13142</th>\n",
              "      <td>0.0711971</td>\n",
              "      <td>-1.92884</td>\n",
              "      <td>2.12234</td>\n",
              "      <td>-1.89286</td>\n",
              "      <td>-2.04424</td>\n",
              "      <td>-0.313663</td>\n",
              "      <td>-0.0813693</td>\n",
              "      <td>-0.140593</td>\n",
              "      <td>-1.27778</td>\n",
              "      <td>-0.982043</td>\n",
              "      <td>-0.821169</td>\n",
              "      <td>-0.0228277</td>\n",
              "      <td>-0.298351</td>\n",
              "      <td>0.43519</td>\n",
              "      <td>-1.21081</td>\n",
              "      <td>-0.697044</td>\n",
              "      <td>-0.464536</td>\n",
              "      <td>-1.66798</td>\n",
              "      <td>1.52931</td>\n",
              "      <td>-0.226598</td>\n",
              "      <td>-0.282927</td>\n",
              "      <td>-0.116822</td>\n",
              "      <td>-1.62465</td>\n",
              "      <td>1.06873</td>\n",
              "      <td>0.377217</td>\n",
              "      <td>0.122125</td>\n",
              "      <td>0.123483</td>\n",
              "      <td>-1.22589</td>\n",
              "      <td>1.00534</td>\n",
              "      <td>-1.54662</td>\n",
              "      <td>-0.0423697</td>\n",
              "      <td>1.20556</td>\n",
              "      <td>-0.720206</td>\n",
              "      <td>-0.984173</td>\n",
              "      <td>0.152836</td>\n",
              "      <td>-1.0935</td>\n",
              "      <td>0.356432</td>\n",
              "      <td>0.372232</td>\n",
              "      <td>-0.622362</td>\n",
              "      <td>0.639559</td>\n",
              "      <td>0.89009</td>\n",
              "      <td>0.268939</td>\n",
              "      <td>-0.327339</td>\n",
              "      <td>-0.646106</td>\n",
              "      <td>1.4273</td>\n",
              "      <td>0.713796</td>\n",
              "      <td>-0.0225629</td>\n",
              "      <td>0.319223</td>\n",
              "      <td>-0.701545</td>\n",
              "      <td>-1.12957</td>\n",
              "      <td>0.193108</td>\n",
              "      <td>-0.102382</td>\n",
              "      <td>-0.702965</td>\n",
              "      <td>1.60392</td>\n",
              "      <td>-0.356743</td>\n",
              "      <td>0.112698</td>\n",
              "      <td>-0.506052</td>\n",
              "      <td>-1.54471</td>\n",
              "      <td>-0.801094</td>\n",
              "      <td>-0.382729</td>\n",
              "      <td>-0.717301</td>\n",
              "      <td>-1.3665</td>\n",
              "      <td>-1.28103</td>\n",
              "      <td>0.773205</td>\n",
              "      <td>-0.404315</td>\n",
              "      <td>-1.10077</td>\n",
              "      <td>-0.872605</td>\n",
              "      <td>-3.49063</td>\n",
              "      <td>-0.840752</td>\n",
              "      <td>0.532488</td>\n",
              "      <td>-0.946166</td>\n",
              "      <td>-0.232008</td>\n",
              "      <td>-1.25721</td>\n",
              "    </tr>\n",
              "  </tbody>\n",
              "</table>\n",
              "<p>13143 rows × 73 columns</p>\n",
              "</div>"
            ],
            "text/plain": [
              "            Male     Asian  ... Wearing Necktie Wearing Necklace\n",
              "0        1.56835  -1.88904  ...        0.694007        -0.826609\n",
              "1       0.169851 -0.982408  ...         0.66676        -0.496559\n",
              "2       0.997749  -1.36419  ...        0.144262        -0.841231\n",
              "3        1.12272   -1.9978  ...        0.475941        -0.447025\n",
              "4        1.07821   -2.0081  ...       -0.760774        -0.410152\n",
              "...          ...       ...  ...             ...              ...\n",
              "13138  -0.205363 -0.202842  ...       -0.414024        -0.495178\n",
              "13139    1.95747  -2.47247  ...        0.152785        -0.554331\n",
              "13140 -0.0370013  -1.16415  ...       -0.399981         -1.07866\n",
              "13141   0.282219 -0.396198  ...         1.14693         -0.26094\n",
              "13142  0.0711971  -1.92884  ...       -0.232008         -1.25721\n",
              "\n",
              "[13143 rows x 73 columns]"
            ]
          },
          "metadata": {
            "tags": []
          },
          "execution_count": 24
        }
      ]
    },
    {
      "cell_type": "code",
      "metadata": {
        "id": "91kkEFEQGdBL",
        "colab_type": "code",
        "colab": {}
      },
      "source": [
        "def plot_new_face(image):\n",
        "  id_new_positive_woman = attrs[(attrs['Male'] < 0)&(attrs['Smiling'] > 0)].sort_values(by='Smiling',ascending = False).head(15).index.values\n",
        "  id_new_positive_man = attrs[(attrs['Male'] > 0)&(attrs['Smiling'] > 0)].sort_values(by='Smiling',ascending = False).head(15).index.values\n",
        "  id_new_positive = np.concatenate(( id_new_positive_woman, id_new_positive_man), 0)\n",
        "  id_negative_woman = attrs[(attrs['Male'] < 0)&(attrs['Smiling'] < 0)].sort_values(by='Smiling',ascending = True).head(15).index.values\n",
        "  id_negative_man =  attrs[(attrs['Male'] > 0)&(attrs['Smiling'] < 0)].sort_values(by='Smiling',ascending = True).head(15).index.values\n",
        "  id_new_negative = np.concatenate((id_negative_woman, id_negative_man), 0)\n",
        "\n",
        "  autoencoder.eval()\n",
        "  human = torch.FloatTensor(image.transpose(0, 2, 1)/255.).unsqueeze_(0)\n",
        "\n",
        "  with torch.no_grad():\n",
        "    positive_latent = autoencoder.encoder_(torch.FloatTensor(next(iter(data[id_new_positive]))).unsqueeze_(0).to(DEVICE))\n",
        "    negative_latent = autoencoder.encoder_(torch.FloatTensor(next(iter(data[id_new_negative]))).unsqueeze_(0).to(DEVICE))\n",
        "    latent_mean = (torch.mean(positive_latent, axis=0)-torch.mean(negative_latent, axis=0)).unsqueeze_(0)\n",
        "    human_latent = autoencoder.encoder_(human.to(DEVICE))\n",
        "    new_human = autoencoder.decoder_(latent_mean + human_latent)\n",
        "  plot_gallery([new_human.cpu().numpy().transpose(0, 2, 3, 1), human.cpu().numpy().transpose(0, 3, 2, 1)], IMAGE_H, IMAGE_W, 1, 2)"
      ],
      "execution_count": 26,
      "outputs": []
    },
    {
      "cell_type": "code",
      "metadata": {
        "id": "uznwLRIEZdJI",
        "colab_type": "code",
        "colab": {
          "base_uri": "https://localhost:8080/",
          "height": 131
        },
        "outputId": "54ef9688-bf81-4989-c7e8-697eab788a85"
      },
      "source": [
        "plot_new_face(data[6])"
      ],
      "execution_count": 42,
      "outputs": [
        {
          "output_type": "display_data",
          "data": {
            "image/png": "[encoded data removed]",
            "text/plain": [
              "<Figure size 216x122.4 with 2 Axes>"
            ]
          },
          "metadata": {
            "tags": []
          }
        }
      ]
    },
    {
      "cell_type": "markdown",
      "metadata": {
        "id": "bXI6jprOYY7z",
        "colab_type": "text"
      },
      "source": [
        "Вуаля! Вы восхитительны!"
      ]
    },
    {
      "cell_type": "markdown",
      "metadata": {
        "id": "E2UAf0bpYY70",
        "colab_type": "text"
      },
      "source": [
        "Теперь вы можете пририсовывать людям не только улыбки, но и много чего другого -- закрывать/открывать глаза, пририсовывать очки... в общем, все, на что хватит фантазии)"
      ]
    },
    {
      "cell_type": "markdown",
      "metadata": {
        "id": "yIYuKFwijN2U",
        "colab_type": "text"
      },
      "source": [
        "# Conditional Autoencoder (3 балла)\n"
      ]
    },
    {
      "cell_type": "markdown",
      "metadata": {
        "id": "s4ABYDnLMe1e",
        "colab_type": "text"
      },
      "source": [
        "Мы уже научились обучать обычный AE на датасете картинок и получать новые картинки, используя генерацию шума и декодер. \n",
        "Давайте теперь допустим, что мы обучили AE на датасете MNIST и теперь хотим генерировать новые картинки с числами с помощью декодера (как выше мы генерили рандомные лица). \n",
        "И вот мне понадобилось сгенерировать цифру 8. И я подставляю разные варианты шума, и все никак не генерится восьмерка -- у меня получаются то пятерки, то тройки, то четверки. Гадость(\n",
        "\n",
        "  Хотелось бы добавить к нашему AE функцию \"выдай мне пожалуйста рандомное число из вот этого вот класса\", где классов десять (цифры от 0 до 9 образуют десять классов).\n",
        "  Типа я такая говорю \"выдай мне случайную восьмерку\" и оно генерит случайную восьмерку!\n",
        "\n",
        "Conditional AE -- так называется вид автоэнкодера, который предоставляет такую возможность. Ну, название \"conditional\" уже говорит само за себя.\n",
        "\n",
        "И в этой части проекта мы научимся такие обучать."
      ]
    },
    {
      "cell_type": "markdown",
      "metadata": {
        "id": "sSp3u2vmuMiQ",
        "colab_type": "text"
      },
      "source": [
        "## Архитектура\n",
        "\n",
        "На картинке ниже представлена архитектура простого Conditional AE.\n",
        "\n",
        "По сути, единственное отличие от обычного -- это то, что мы вместе с картинкой в первом слое энкодера и декодера передаем еще информацию о классе картинки. \n",
        "\n",
        "То есть, в первый (входной) слой энкодера есть конкатенация картинки и информации о классе (например, вектора из девяти нулей и одной единицы). Первый слой декодера есть конкатенация латентного вектора и информации о классе."
      ]
    },
    {
      "cell_type": "markdown",
      "metadata": {
        "id": "A5Xu3YuUrjGX",
        "colab_type": "text"
      },
      "source": [
        "\n",
        "![alt text](https://i.ibb.co/2tsWknB/Screen-Shot-2020-01-15-at-9-02-15-PM.png)\n",
        "\n"
      ]
    },
    {
      "cell_type": "markdown",
      "metadata": {
        "id": "g1gA28KVvT5Z",
        "colab_type": "text"
      },
      "source": [
        "Таким образом, при генерации новой рандомной картинки мы должны будем передать декодеру сконкатенированные латентный вектор и класс картинки."
      ]
    },
    {
      "cell_type": "markdown",
      "metadata": {
        "id": "YJa6QD87vqm8",
        "colab_type": "text"
      },
      "source": [
        "### P.S.\n",
        "Можно ередавать класс картинки не только в первый слой, но и в каждый слой сети. То есть на каждом слое конкатенировать выход из предыдущего слоя и информацию о классе."
      ]
    },
    {
      "cell_type": "markdown",
      "metadata": {
        "id": "4ICnlbsAt6Vt",
        "colab_type": "text"
      },
      "source": [
        "### Датасет\n",
        "\n",
        "Как вы уже догадались, здесь мы будем использовать датасет MNIST (http://yann.lecun.com/exdb/mnist/)\n",
        "\n",
        "Если он вам очень не нравится, можете загуглить любой другой, в котором будет четкое разделение картинок по классам."
      ]
    },
    {
      "cell_type": "code",
      "metadata": {
        "id": "zvn50Lf_v2j9",
        "colab_type": "code",
        "colab": {
          "base_uri": "https://localhost:8080/",
          "height": 414,
          "referenced_widgets": [
            "b1f8dd772e7543fe9da659afc5dc8be0",
            "eac41a5fb30343189783e28c9c311f96",
            "349b7d046cca40f98fe4720929ed6e91",
            "f1f5cddcf1fa4424bf4d51e654f23c89",
            "1a9214aa800b4506b9532d13ac0a6f96",
            "a859699912d04027b4ab8fd75c26e1bb",
            "fec382fb73514b20a0ce4629f453028b",
            "44552c4bb21b43d2919119f39ac03e7e",
            "ed16f8d3aa6d46d1812f288e5f20ee95",
            "46d05db3d6c249b6a9c2b8b04576eb6a",
            "82d489c9f6164d188bfd394342e89f08",
            "5487bfa44d7c48528d3ed4e74fec1516",
            "21c9e17a7496465fa40dafe65e6bd2bf",
            "d378a6c6570a4a68842d76651ea4b286",
            "6b6102585a614049ae9f35475e8c29ee",
            "beec10697cf545a2b2a57e2d2a0d749d",
            "c4f57b4ea26f4e00abfebca6df5853b7",
            "74a1ca6946f94b9c853ea77cd8c7bb29",
            "638d2534caef4a64b8a5ab37645a1a34",
            "6186f51335434212aaa317db25494e74",
            "6c2111f7507a4ba8b0f84fcc6d685591",
            "0cabfb47b20c432c833f1efaa5f404aa",
            "33a4821cddbd461aafc202a6702c3b25",
            "1919cb9eca5b4fc6a8c70f8feccff09e",
            "8dd7868c82664b4197ab615d7cfca3fe",
            "3228a710843c4123986623868bfa3b63",
            "62801cb34b5047baba15ffed3e72c316",
            "e2a5e71649ca4c69951d30c88fe5fae3",
            "e3b9e32fa7f34731ad62b1d7aff6a756",
            "bc4db64cc326402d916fa96c1f6130c0",
            "1283957241854dc3a30f6d8e824048b3",
            "aea41cf4576d4f809f20307fbfd2b2b4"
          ]
        },
        "outputId": "2aca9fe7-9703-4570-fee9-faf63c94325e"
      },
      "source": [
        "transform = transforms.Compose(\n",
        "    [transforms.ToTensor()])\n",
        "\n",
        "trainset = datasets.MNIST(root='./data', train=True, \n",
        "                                      download=True, transform=transform)\n",
        "trainloader = DataLoader(trainset, batch_size=64,\n",
        "                                          shuffle=True)\n",
        "\n",
        "valset = datasets.MNIST(root='./data', train=False,\n",
        "                                     download=True, transform=transform)\n",
        "valloader = DataLoader(valset, batch_size=64,\n",
        "                        shuffle=False)\n",
        "classes = tuple(str(i) for i in range(10))"
      ],
      "execution_count": null,
      "outputs": [
        {
          "output_type": "stream",
          "text": [
            "Downloading http://yann.lecun.com/exdb/mnist/train-images-idx3-ubyte.gz to ./data/MNIST/raw/train-images-idx3-ubyte.gz\n"
          ],
          "name": "stdout"
        },
        {
          "output_type": "display_data",
          "data": {
            "application/vnd.jupyter.widget-view+json": {
              "model_id": "b1f8dd772e7543fe9da659afc5dc8be0",
              "version_minor": 0,
              "version_major": 2
            },
            "text/plain": [
              "HBox(children=(FloatProgress(value=1.0, bar_style='info', max=1.0), HTML(value='')))"
            ]
          },
          "metadata": {
            "tags": []
          }
        },
        {
          "output_type": "stream",
          "text": [
            "Extracting ./data/MNIST/raw/train-images-idx3-ubyte.gz to ./data/MNIST/raw\n",
            "Downloading http://yann.lecun.com/exdb/mnist/train-labels-idx1-ubyte.gz to ./data/MNIST/raw/train-labels-idx1-ubyte.gz\n"
          ],
          "name": "stdout"
        },
        {
          "output_type": "display_data",
          "data": {
            "application/vnd.jupyter.widget-view+json": {
              "model_id": "ed16f8d3aa6d46d1812f288e5f20ee95",
              "version_minor": 0,
              "version_major": 2
            },
            "text/plain": [
              "HBox(children=(FloatProgress(value=1.0, bar_style='info', max=1.0), HTML(value='')))"
            ]
          },
          "metadata": {
            "tags": []
          }
        },
        {
          "output_type": "stream",
          "text": [
            "Extracting ./data/MNIST/raw/train-labels-idx1-ubyte.gz to ./data/MNIST/raw\n",
            "Downloading http://yann.lecun.com/exdb/mnist/t10k-images-idx3-ubyte.gz to ./data/MNIST/raw/t10k-images-idx3-ubyte.gz\n"
          ],
          "name": "stdout"
        },
        {
          "output_type": "display_data",
          "data": {
            "application/vnd.jupyter.widget-view+json": {
              "model_id": "c4f57b4ea26f4e00abfebca6df5853b7",
              "version_minor": 0,
              "version_major": 2
            },
            "text/plain": [
              "HBox(children=(FloatProgress(value=1.0, bar_style='info', max=1.0), HTML(value='')))"
            ]
          },
          "metadata": {
            "tags": []
          }
        },
        {
          "output_type": "stream",
          "text": [
            "Extracting ./data/MNIST/raw/t10k-images-idx3-ubyte.gz to ./data/MNIST/raw\n",
            "Downloading http://yann.lecun.com/exdb/mnist/t10k-labels-idx1-ubyte.gz to ./data/MNIST/raw/t10k-labels-idx1-ubyte.gz\n"
          ],
          "name": "stdout"
        },
        {
          "output_type": "display_data",
          "data": {
            "application/vnd.jupyter.widget-view+json": {
              "model_id": "8dd7868c82664b4197ab615d7cfca3fe",
              "version_minor": 0,
              "version_major": 2
            },
            "text/plain": [
              "HBox(children=(FloatProgress(value=1.0, bar_style='info', max=1.0), HTML(value='')))"
            ]
          },
          "metadata": {
            "tags": []
          }
        },
        {
          "output_type": "stream",
          "text": [
            "Extracting ./data/MNIST/raw/t10k-labels-idx1-ubyte.gz to ./data/MNIST/raw\n",
            "Processing...\n",
            "Done!\n",
            "\n",
            "\n",
            "\n"
          ],
          "name": "stdout"
        },
        {
          "output_type": "stream",
          "text": [
            "/pytorch/torch/csrc/utils/tensor_numpy.cpp:141: UserWarning: The given NumPy array is not writeable, and PyTorch does not support non-writeable tensors. This means you can write to the underlying (supposedly non-writeable) NumPy array using the tensor. You may want to copy the array to protect its data or make it writeable before converting it to a tensor. This type of warning will be suppressed for the rest of this program.\n"
          ],
          "name": "stderr"
        }
      ]
    },
    {
      "cell_type": "code",
      "metadata": {
        "id": "CBv1-9CMiaPS",
        "colab_type": "code",
        "colab": {
          "base_uri": "https://localhost:8080/",
          "height": 1000
        },
        "outputId": "9c0f7840-2377-4a7a-f524-591d498dce35"
      },
      "source": [
        "next(iter(trainloader))[0][10]"
      ],
      "execution_count": null,
      "outputs": [
        {
          "output_type": "execute_result",
          "data": {
            "text/plain": [
              "tensor([[[0.0000, 0.0000, 0.0000, 0.0000, 0.0000, 0.0000, 0.0000, 0.0000,\n",
              "          0.0000, 0.0000, 0.0000, 0.0000, 0.0000, 0.0000, 0.0000, 0.0000,\n",
              "          0.0000, 0.0000, 0.0000, 0.0000, 0.0000, 0.0000, 0.0000, 0.0000,\n",
              "          0.0000, 0.0000, 0.0000, 0.0000],\n",
              "         [0.0000, 0.0000, 0.0000, 0.0000, 0.0000, 0.0000, 0.0000, 0.0000,\n",
              "          0.0000, 0.0000, 0.0000, 0.0000, 0.0000, 0.0000, 0.0000, 0.0000,\n",
              "          0.0000, 0.0000, 0.0000, 0.0000, 0.0000, 0.0000, 0.0000, 0.0000,\n",
              "          0.0000, 0.0000, 0.0000, 0.0000],\n",
              "         [0.0000, 0.0000, 0.0000, 0.0000, 0.0000, 0.0000, 0.0000, 0.0000,\n",
              "          0.0000, 0.0000, 0.0000, 0.0000, 0.0000, 0.0000, 0.0000, 0.0000,\n",
              "          0.0000, 0.0000, 0.0000, 0.0000, 0.0000, 0.0000, 0.0000, 0.0000,\n",
              "          0.0000, 0.0000, 0.0000, 0.0000],\n",
              "         [0.0000, 0.0000, 0.0000, 0.0000, 0.0000, 0.0000, 0.0000, 0.0000,\n",
              "          0.0000, 0.0000, 0.0000, 0.0000, 0.0000, 0.0000, 0.0235, 0.0078,\n",
              "          0.4118, 0.9922, 0.6549, 0.3725, 0.0000, 0.0000, 0.0000, 0.0000,\n",
              "          0.0000, 0.0000, 0.0000, 0.0000],\n",
              "         [0.0000, 0.0000, 0.0000, 0.0000, 0.0000, 0.0000, 0.0000, 0.0000,\n",
              "          0.0000, 0.0000, 0.0000, 0.0000, 0.0000, 0.0000, 0.7255, 0.3843,\n",
              "          0.9882, 0.9882, 0.9882, 0.8667, 0.1843, 0.0157, 0.0000, 0.0000,\n",
              "          0.0000, 0.0000, 0.0000, 0.0000],\n",
              "         [0.0000, 0.0000, 0.0000, 0.0000, 0.0000, 0.0000, 0.0000, 0.0000,\n",
              "          0.0000, 0.0000, 0.0000, 0.0000, 0.0000, 0.3647, 0.8157, 0.9882,\n",
              "          0.9882, 0.9882, 0.9882, 0.9882, 0.9882, 0.1412, 0.0000, 0.0000,\n",
              "          0.0000, 0.0000, 0.0000, 0.0000],\n",
              "         [0.0000, 0.0000, 0.0000, 0.0000, 0.0000, 0.0000, 0.0000, 0.0000,\n",
              "          0.0000, 0.0000, 0.0000, 0.0000, 0.0824, 0.9529, 0.9922, 0.9686,\n",
              "          0.7294, 0.3294, 0.4863, 0.9882, 0.9882, 0.4549, 0.0000, 0.0000,\n",
              "          0.0000, 0.0000, 0.0000, 0.0000],\n",
              "         [0.0000, 0.0000, 0.0000, 0.0000, 0.0000, 0.0000, 0.0000, 0.0000,\n",
              "          0.0000, 0.0000, 0.0000, 0.0000, 0.5373, 0.9882, 0.9804, 0.6784,\n",
              "          0.0000, 0.0000, 0.0706, 0.3490, 0.9020, 0.8824, 0.0667, 0.0000,\n",
              "          0.0000, 0.0000, 0.0000, 0.0000],\n",
              "         [0.0000, 0.0000, 0.0000, 0.0000, 0.0000, 0.0000, 0.0000, 0.0000,\n",
              "          0.0000, 0.0000, 0.0000, 0.0000, 0.7608, 0.9882, 0.5843, 0.0000,\n",
              "          0.0000, 0.0000, 0.0000, 0.2863, 0.9882, 0.9882, 0.2275, 0.0000,\n",
              "          0.0000, 0.0000, 0.0000, 0.0000],\n",
              "         [0.0000, 0.0000, 0.0000, 0.0000, 0.0000, 0.0000, 0.0000, 0.0000,\n",
              "          0.0000, 0.0000, 0.0000, 0.0000, 0.0824, 0.6353, 0.3176, 0.0000,\n",
              "          0.0000, 0.0000, 0.0000, 0.0549, 0.6784, 0.9882, 0.7059, 0.0157,\n",
              "          0.0000, 0.0000, 0.0000, 0.0000],\n",
              "         [0.0000, 0.0000, 0.0000, 0.0000, 0.0000, 0.0000, 0.0000, 0.0000,\n",
              "          0.0000, 0.0000, 0.0000, 0.0000, 0.0000, 0.0000, 0.0000, 0.0000,\n",
              "          0.0000, 0.0000, 0.0000, 0.0000, 0.7373, 0.9882, 0.6196, 0.0078,\n",
              "          0.0000, 0.0000, 0.0000, 0.0000],\n",
              "         [0.0000, 0.0000, 0.0000, 0.0000, 0.0000, 0.0000, 0.0000, 0.0000,\n",
              "          0.0000, 0.0000, 0.0000, 0.0000, 0.0000, 0.0000, 0.0000, 0.0000,\n",
              "          0.0000, 0.0000, 0.0000, 0.1255, 0.6549, 0.9882, 0.7647, 0.0235,\n",
              "          0.0000, 0.0000, 0.0000, 0.0000],\n",
              "         [0.0000, 0.0000, 0.0000, 0.0000, 0.0000, 0.0000, 0.0000, 0.0000,\n",
              "          0.0000, 0.0000, 0.0000, 0.0000, 0.0000, 0.2275, 0.4784, 0.4745,\n",
              "          0.1804, 0.0000, 0.1137, 0.4863, 0.9020, 0.9882, 0.7647, 0.0235,\n",
              "          0.0000, 0.0000, 0.0000, 0.0000],\n",
              "         [0.0000, 0.0000, 0.0000, 0.0000, 0.0000, 0.0000, 0.0000, 0.0000,\n",
              "          0.0000, 0.4000, 0.5176, 0.9294, 0.9922, 0.9922, 1.0000, 0.9922,\n",
              "          0.9922, 0.6745, 0.6314, 0.9922, 0.9922, 0.9922, 0.5412, 0.0000,\n",
              "          0.0000, 0.0000, 0.0000, 0.0000],\n",
              "         [0.0000, 0.0000, 0.0000, 0.0000, 0.0000, 0.0000, 0.0000, 0.0000,\n",
              "          0.4118, 0.8902, 0.9882, 0.9882, 0.9882, 0.9882, 0.9922, 0.9882,\n",
              "          0.9882, 0.9882, 0.9882, 0.9882, 0.9882, 0.8078, 0.0471, 0.0000,\n",
              "          0.0000, 0.0000, 0.0000, 0.0000],\n",
              "         [0.0000, 0.0000, 0.0000, 0.0000, 0.0000, 0.0000, 0.0902, 0.4627,\n",
              "          0.8824, 0.9882, 0.9882, 0.9882, 0.9882, 0.8510, 0.6000, 0.6588,\n",
              "          0.9882, 0.9882, 0.9882, 0.9882, 0.9882, 0.5255, 0.0353, 0.0000,\n",
              "          0.0000, 0.0000, 0.0000, 0.0000],\n",
              "         [0.0000, 0.0000, 0.0000, 0.0000, 0.0000, 0.0196, 0.6863, 0.9882,\n",
              "          0.9882, 0.9882, 0.8353, 0.3961, 0.3294, 0.0157, 0.2157, 0.6941,\n",
              "          0.9882, 0.9882, 0.9882, 0.9882, 0.9882, 0.7922, 0.0431, 0.0000,\n",
              "          0.0000, 0.0000, 0.0000, 0.0000],\n",
              "         [0.0000, 0.0000, 0.0000, 0.0000, 0.0000, 0.0980, 0.9882, 0.9882,\n",
              "          0.9882, 0.4471, 0.0549, 0.0000, 0.0000, 0.5647, 0.9922, 0.9882,\n",
              "          0.9882, 0.9882, 0.9882, 0.8078, 0.7529, 0.4667, 0.0000, 0.0000,\n",
              "          0.0000, 0.0000, 0.0000, 0.0000],\n",
              "         [0.0000, 0.0000, 0.0000, 0.0000, 0.0000, 0.4588, 0.9882, 0.8431,\n",
              "          0.2353, 0.0549, 0.0980, 0.4667, 0.7569, 0.8667, 0.9922, 0.9882,\n",
              "          0.9882, 0.8431, 0.2353, 0.0549, 0.0000, 0.0000, 0.0000, 0.0000,\n",
              "          0.0000, 0.0000, 0.0000, 0.0000],\n",
              "         [0.0000, 0.0000, 0.0000, 0.0000, 0.0392, 0.9098, 0.9882, 0.5725,\n",
              "          0.3529, 0.8039, 0.8667, 0.9882, 0.9882, 0.9882, 0.9922, 0.9569,\n",
              "          0.3647, 0.1529, 0.0000, 0.0000, 0.0000, 0.0000, 0.0000, 0.0000,\n",
              "          0.0000, 0.0000, 0.0000, 0.0000],\n",
              "         [0.0000, 0.0000, 0.0000, 0.0000, 0.0275, 0.7882, 0.9882, 0.9608,\n",
              "          0.9490, 0.9882, 0.9882, 0.9882, 0.9882, 0.9882, 0.7922, 0.3294,\n",
              "          0.0000, 0.0000, 0.0000, 0.0000, 0.0000, 0.0000, 0.0000, 0.0000,\n",
              "          0.0000, 0.0000, 0.0000, 0.0000],\n",
              "         [0.0000, 0.0000, 0.0000, 0.0000, 0.0275, 0.8078, 0.9882, 0.9882,\n",
              "          0.9882, 0.9882, 0.9882, 0.9882, 0.6000, 0.1137, 0.0431, 0.0000,\n",
              "          0.0000, 0.0000, 0.0000, 0.0000, 0.0000, 0.0000, 0.0000, 0.0000,\n",
              "          0.0000, 0.0000, 0.0000, 0.0000],\n",
              "         [0.0000, 0.0000, 0.0000, 0.0000, 0.0000, 0.0706, 0.8078, 0.9882,\n",
              "          0.9882, 0.9882, 0.8314, 0.3373, 0.0039, 0.0000, 0.0000, 0.0000,\n",
              "          0.0000, 0.0000, 0.0000, 0.0000, 0.0000, 0.0000, 0.0000, 0.0000,\n",
              "          0.0000, 0.0000, 0.0000, 0.0000],\n",
              "         [0.0000, 0.0000, 0.0000, 0.0000, 0.0000, 0.0000, 0.0000, 0.0000,\n",
              "          0.0000, 0.0000, 0.0000, 0.0000, 0.0000, 0.0000, 0.0000, 0.0000,\n",
              "          0.0000, 0.0000, 0.0000, 0.0000, 0.0000, 0.0000, 0.0000, 0.0000,\n",
              "          0.0000, 0.0000, 0.0000, 0.0000],\n",
              "         [0.0000, 0.0000, 0.0000, 0.0000, 0.0000, 0.0000, 0.0000, 0.0000,\n",
              "          0.0000, 0.0000, 0.0000, 0.0000, 0.0000, 0.0000, 0.0000, 0.0000,\n",
              "          0.0000, 0.0000, 0.0000, 0.0000, 0.0000, 0.0000, 0.0000, 0.0000,\n",
              "          0.0000, 0.0000, 0.0000, 0.0000],\n",
              "         [0.0000, 0.0000, 0.0000, 0.0000, 0.0000, 0.0000, 0.0000, 0.0000,\n",
              "          0.0000, 0.0000, 0.0000, 0.0000, 0.0000, 0.0000, 0.0000, 0.0000,\n",
              "          0.0000, 0.0000, 0.0000, 0.0000, 0.0000, 0.0000, 0.0000, 0.0000,\n",
              "          0.0000, 0.0000, 0.0000, 0.0000],\n",
              "         [0.0000, 0.0000, 0.0000, 0.0000, 0.0000, 0.0000, 0.0000, 0.0000,\n",
              "          0.0000, 0.0000, 0.0000, 0.0000, 0.0000, 0.0000, 0.0000, 0.0000,\n",
              "          0.0000, 0.0000, 0.0000, 0.0000, 0.0000, 0.0000, 0.0000, 0.0000,\n",
              "          0.0000, 0.0000, 0.0000, 0.0000],\n",
              "         [0.0000, 0.0000, 0.0000, 0.0000, 0.0000, 0.0000, 0.0000, 0.0000,\n",
              "          0.0000, 0.0000, 0.0000, 0.0000, 0.0000, 0.0000, 0.0000, 0.0000,\n",
              "          0.0000, 0.0000, 0.0000, 0.0000, 0.0000, 0.0000, 0.0000, 0.0000,\n",
              "          0.0000, 0.0000, 0.0000, 0.0000]]])"
            ]
          },
          "metadata": {
            "tags": []
          },
          "execution_count": 10
        }
      ]
    },
    {
      "cell_type": "code",
      "metadata": {
        "id": "uXIhtWmj98hl",
        "colab_type": "code",
        "colab": {}
      },
      "source": [
        "def init_weights(m):\n",
        "    if type(m) == nn.Conv2d or type(m) == nn.ConvTranspose2d:\n",
        "      nn.init.xavier_uniform_(m.weight)\n",
        "\n",
        "class Autoencoder_MNIST(nn.Module):\n",
        "    def __init__(self, latent=250):\n",
        "        super().__init__()\n",
        "        self.latent = latent\n",
        "        #на вход (28, 28)+ one_hot\n",
        "        self.fc_encode = nn.Sequential(nn.Linear(28*28, 28*28),\n",
        "                                 nn.LeakyReLU(0.2))#попробовать поменять на sigmoid\n",
        "        #выход (28,28)\n",
        "        self.conv1_down = nn.Sequential(nn.Conv2d(1, 20, 3, padding=1),\n",
        "                                        nn.BatchNorm2d(20),\n",
        "                                        nn.LeakyReLU(0.2),\n",
        "        )\n",
        "        self.conv2_down = nn.Sequential(nn.Conv2d(20, 40, 3),\n",
        "                                        nn.BatchNorm2d(40),\n",
        "                                        nn.LeakyReLU(0.2),\n",
        "                                        nn.MaxPool2d(2)\n",
        "        ) \n",
        "        self.conv3_down = nn.Sequential(nn.Conv2d(40, 60, 3),\n",
        "                                        nn.BatchNorm2d(60),\n",
        "                                        nn.LeakyReLU(0.2),\n",
        "        )\n",
        "        self.pool = nn.MaxPool2d(2)\n",
        "        self.fc1 = nn.Linear(60*5*5, latent)\n",
        "        #выход 250\n",
        "        self.fc2 = nn.Sequential(nn.Linear(latent, 60*5*5),\n",
        "                                 nn.LeakyReLU(0.2)\n",
        "        )\n",
        "        self.conv3_up = nn.Sequential(nn.ConvTranspose2d(60, 40, 3, stride=2),\n",
        "                                      nn.BatchNorm2d(40),# формула size+(size-1) + (pad)*2 - (kernel-1), где pad = 0, если padding=2, 1, если 1, 2, если 0 и еще padding зависит от kernel (pad = 2 для 3, pad=3 для 4)\n",
        "                                      nn.LeakyReLU(0.2)\n",
        "\n",
        "        )\n",
        "        self.conv2_up = nn.Sequential(nn.ConvTranspose2d(40, 20, 3, stride = 1),\n",
        "                                      nn.BatchNorm2d(20),\n",
        "                                      nn.LeakyReLU(0.2)\n",
        "        )\n",
        "        self.conv1_up = nn.Sequential(nn.ConvTranspose2d(20, 10, 3, stride=1),\n",
        "                                      nn.BatchNorm2d(10),\n",
        "                                      nn.LeakyReLU(0.2),\n",
        "                                      nn.ConvTranspose2d(10, 5, 3, stride=2, padding = 1),\n",
        "                                      nn.BatchNorm2d(5),\n",
        "                                      nn.LeakyReLU(0.2),\n",
        "                                      nn.Conv2d(5, 1, 4, padding=1)\n",
        "        )\n",
        "\n",
        "\n",
        "    def encoder_(self, x, y):\n",
        "        x = self.fc_encode(x + y).view(-1, 1, 28, 28) # попробовать конкатенировать, а не прибавлять\n",
        "        self.conv1 = self.conv1_down(x)\n",
        "        self.conv2 = self.conv2_down(self.conv1)\n",
        "        self.conv3 = self.conv3_down(self.conv2)\n",
        "        latent_code = torch.tanh(self.fc1(self.pool(self.conv3).view(x.size(0), -1)))\n",
        "        return latent_code\n",
        "\n",
        "\n",
        "    def decoder_(self, z, y):\n",
        "        z = self.fc2(z + y).view(-1, 60, 5, 5) # попробовать конкатенировать, а не прибавлять\n",
        "        z = self.conv3_up(z)\n",
        "        z = self.conv2_up(z)\n",
        "        z = self.conv1_up(z)\n",
        "        reconstruct = torch.sigmoid(z) \n",
        "        return reconstruct   \n",
        "\n",
        "    def forward(self, x, y1, y2):\n",
        "        encoder = self.encoder_(x, y1)\n",
        "        decoder = self.decoder_(encoder, y2)\n",
        "        return decoder, encoder"
      ],
      "execution_count": null,
      "outputs": []
    },
    {
      "cell_type": "code",
      "metadata": {
        "id": "YtZX7AuuVf5K",
        "colab_type": "code",
        "colab": {}
      },
      "source": [
        "Latent = 10\n",
        "DEVICE = torch.device('cuda')\n",
        "autoencoder_mnist = Autoencoder_MNIST(Latent).to(DEVICE)\n",
        "autoencoder_mnist.apply(init_weights)\n",
        "optimizer = optim.Adam(autoencoder_mnist.parameters())\n",
        "criterion = nn.MSELoss()\n",
        "#summary(autoencoder, (30, 28*28))"
      ],
      "execution_count": null,
      "outputs": []
    },
    {
      "cell_type": "code",
      "metadata": {
        "id": "RVd22kRTa009",
        "colab_type": "code",
        "colab": {}
      },
      "source": [
        "\n",
        "def OneHot(batch, data, dim):\n",
        "  massive = np.zeros((batch, dim))\n",
        "  data = pd.Series(np.array(data.cpu()), index = np.arange(len(data)))\n",
        "  massive[np.array(data.index), np.array(data)] = 1\n",
        "  return torch.IntTensor(massive)"
      ],
      "execution_count": null,
      "outputs": []
    },
    {
      "cell_type": "code",
      "metadata": {
        "id": "zBmTZReSZRkL",
        "colab_type": "code",
        "colab": {}
      },
      "source": [
        "def train(val, train, epochs):\n",
        "  train_losses = []\n",
        "  val_losses = []\n",
        "  best_model_wts = autoencoder_mnist.state_dict()\n",
        "  best_loss = np.inf\n",
        "  for epoch in range(epochs):\n",
        "    loss_train_running = 0\n",
        "    total_train_data = 0\n",
        "    loss_val_running = 0\n",
        "    total_val_data = 0\n",
        "    autoencoder_mnist.train()\n",
        "    for X, y in trainloader:\n",
        "      X = X.to(DEVICE)\n",
        "      optimizer.zero_grad()\n",
        "      output = autoencoder_mnist(X.view(-1, 28*28).to(DEVICE), OneHot(len(X), y, 28*28).to(DEVICE), OneHot(len(X), y, Latent).to(DEVICE))[0]\n",
        "      loss = criterion(output, X)\n",
        "      loss.backward()\n",
        "      optimizer.step()\n",
        "      loss_train_running += loss.item()*X.size(0)\n",
        "      total_train_data += X.size(0)\n",
        "    train_losses.append(loss_train_running/total_train_data)\n",
        "    autoencoder_mnist.eval()\n",
        "    for X_, y_ in valloader:\n",
        "      X_ = X_.to(DEVICE)\n",
        "      with torch.no_grad():\n",
        "        output_ = autoencoder_mnist(X_.view(-1, 28*28).to(DEVICE), OneHot(len(X_), y_, 28*28).to(DEVICE), OneHot(len(X_), y_, Latent).to(DEVICE))[0]\n",
        "        loss_ = criterion(output_, X_)\n",
        "      loss_val_running += loss_.item()*X_.size(0)\n",
        "      total_val_data += X_.size(0)\n",
        "    val_losses.append(loss_val_running/total_val_data)\n",
        "    if val_losses[-1]< best_loss:\n",
        "      best_loss = val_losses[-1]\n",
        "      best_model_wts = autoencoder_mnist.state_dict()\n",
        "    clear_output(True)\n",
        "    plt.imshow(output_[-1].squeeze_(0).cpu().numpy(), cmap='gray')\n",
        "    plt.show()\n",
        "    plt.imshow(X_[-1].squeeze_(0).cpu().numpy(), cmap='gray')\n",
        "    plt.show()\n",
        "    print(\"epoch: {} out of {}\".format(epoch+1, epochs))\n",
        "    print(\"train_loss: {}\\t val_loss:{}\".format(train_losses[-1], val_losses[-1]))\n",
        "  autoencoder_mnist.load_state_dict(best_model_wts)\n",
        "  return autoencoder_mnist, train_losses, val_losses"
      ],
      "execution_count": null,
      "outputs": []
    },
    {
      "cell_type": "code",
      "metadata": {
        "id": "b4fNwP5bhmj1",
        "colab_type": "code",
        "colab": {
          "base_uri": "https://localhost:8080/",
          "height": 548
        },
        "outputId": "d03a0a8e-5a68-4863-c33c-72d9515b65e0"
      },
      "source": [
        "best, train_losses, val_losses = train(valloader, trainloader, 30)"
      ],
      "execution_count": null,
      "outputs": [
        {
          "output_type": "display_data",
          "data": {
            "image/png": "[encoded data removed]",
            "text/plain": [
              "<Figure size 432x288 with 1 Axes>"
            ]
          },
          "metadata": {
            "tags": [],
            "needs_background": "light"
          }
        },
        {
          "output_type": "display_data",
          "data": {
            "image/png": "[encoded data removed]",
            "text/plain": [
              "<Figure size 432x288 with 1 Axes>"
            ]
          },
          "metadata": {
            "tags": [],
            "needs_background": "light"
          }
        },
        {
          "output_type": "stream",
          "text": [
            "epoch: 30 out of 30\n",
            "train_loss: 0.009392704131205876\t val_loss:0.010407747726142407\n"
          ],
          "name": "stdout"
        }
      ]
    },
    {
      "cell_type": "code",
      "metadata": {
        "id": "Gnx_M4_F2LGJ",
        "colab_type": "code",
        "colab": {
          "base_uri": "https://localhost:8080/",
          "height": 35
        },
        "outputId": "ceb1de79-d429-47bb-a6dd-072b32baddf6"
      },
      "source": [
        "torch.save(best.state_dict(), '/content/Autoencoder_50_mnist.pth')\n",
        "autoencoder_mnist.load_state_dict(torch.load('/content/Autoencoder_50_mnist.pth'))"
      ],
      "execution_count": null,
      "outputs": [
        {
          "output_type": "execute_result",
          "data": {
            "text/plain": [
              "<All keys matched successfully>"
            ]
          },
          "metadata": {
            "tags": []
          },
          "execution_count": 53
        }
      ]
    },
    {
      "cell_type": "markdown",
      "metadata": {
        "id": "mxVAEW0ywF6W",
        "colab_type": "text"
      },
      "source": [
        "## Sampling\n"
      ]
    },
    {
      "cell_type": "code",
      "metadata": {
        "id": "yyV0vcFiwTDO",
        "colab_type": "code",
        "colab": {
          "base_uri": "https://localhost:8080/",
          "height": 1000
        },
        "outputId": "ad019ce5-54df-449c-a821-211ed93a8876"
      },
      "source": [
        "def sampling(number):\n",
        "  z = torch.randn(1, Latent)*0.1\n",
        "  condition = OneHot(1, torch.IntTensor([number]), Latent)\n",
        "  with torch.no_grad():\n",
        "    autoencoder_mnist.eval()\n",
        "    output = autoencoder_mnist.decoder_(z.to(DEVICE), condition.to(DEVICE))\n",
        "    plt.imshow(output.squeeze_(0)[0].cpu().numpy(), cmap='gray')\n",
        "    plt.show()\n",
        "for i in range(10):\n",
        "  sampling(i)"
      ],
      "execution_count": null,
      "outputs": [
        {
          "output_type": "display_data",
          "data": {
            "image/png": "[encoded data removed]",
            "text/plain": [
              "<Figure size 432x288 with 1 Axes>"
            ]
          },
          "metadata": {
            "tags": [],
            "needs_background": "light"
          }
        },
        {
          "output_type": "display_data",
          "data": {
            "image/png": "[encoded data removed]",
            "text/plain": [
              "<Figure size 432x288 with 1 Axes>"
            ]
          },
          "metadata": {
            "tags": [],
            "needs_background": "light"
          }
        },
        {
          "output_type": "display_data",
          "data": {
            "image/png": "[encoded data removed]",
            "text/plain": [
              "<Figure size 432x288 with 1 Axes>"
            ]
          },
          "metadata": {
            "tags": [],
            "needs_background": "light"
          }
        },
        {
          "output_type": "display_data",
          "data": {
            "image/png": "[encoded data removed]",
            "text/plain": [
              "<Figure size 432x288 with 1 Axes>"
            ]
          },
          "metadata": {
            "tags": [],
            "needs_background": "light"
          }
        },
        {
          "output_type": "display_data",
          "data": {
            "image/png": "[encoded data removed]",
            "text/plain": [
              "<Figure size 432x288 with 1 Axes>"
            ]
          },
          "metadata": {
            "tags": [],
            "needs_background": "light"
          }
        },
        {
          "output_type": "display_data",
          "data": {
            "image/png": "[encoded data removed]",
            "text/plain": [
              "<Figure size 432x288 with 1 Axes>"
            ]
          },
          "metadata": {
            "tags": [],
            "needs_background": "light"
          }
        },
        {
          "output_type": "display_data",
          "data": {
            "image/png": "[encoded data removed]",
            "text/plain": [
              "<Figure size 432x288 with 1 Axes>"
            ]
          },
          "metadata": {
            "tags": [],
            "needs_background": "light"
          }
        },
        {
          "output_type": "display_data",
          "data": {
            "image/png": "[encoded data removed]",
            "text/plain": [
              "<Figure size 432x288 with 1 Axes>"
            ]
          },
          "metadata": {
            "tags": [],
            "needs_background": "light"
          }
        },
        {
          "output_type": "display_data",
          "data": {
            "image/png": "[encoded data removed]",
            "text/plain": [
              "<Figure size 432x288 with 1 Axes>"
            ]
          },
          "metadata": {
            "tags": [],
            "needs_background": "light"
          }
        },
        {
          "output_type": "display_data",
          "data": {
            "image/png": "[encoded data removed]",
            "text/plain": [
              "<Figure size 432x288 with 1 Axes>"
            ]
          },
          "metadata": {
            "tags": [],
            "needs_background": "light"
          }
        }
      ]
    },
    {
      "cell_type": "markdown",
      "metadata": {
        "id": "JnxBdgmE0lMG",
        "colab_type": "text"
      },
      "source": [
        "Splendid! Вы великолепны!\n",
        "\n",
        "Теперь давайте сделаем следующее: посмотрим на то, как выглядит латентное пространство векторов, соответствующих нашим картинкам. \n",
        "Для этого вам нужно:\n",
        "1.  прогнать картинки из датасета через encoder, получить латентные векторы\n",
        "2. Прогнать векторы через TSNE, получить их двумерную проекцию\n",
        "3. Изобразить полученные после TSNE двумерные векторы на плоскости с помощью plt.scatter, покрасив точки в цвета в зависимости от класса картинки, которой она соответствует. (как красить точки, см. в документации к plt.scatter). \n",
        "4. Подумать, что вы видите и записать свои мысли"
      ]
    },
    {
      "cell_type": "code",
      "metadata": {
        "id": "VYHggDEZMuUU",
        "colab_type": "code",
        "colab": {
          "base_uri": "https://localhost:8080/",
          "height": 1000
        },
        "outputId": "3c1a1a13-b82b-4c71-89a8-8c1022818816"
      },
      "source": [
        "!wget https://anaconda.org/CannyLab/tsnecuda/2.1.0/download/linux-64/tsnecuda-2.1.0-cuda100.tar.bz2\n",
        "!tar xvjf tsnecuda-2.1.0-cuda100.tar.bz2\n",
        "!cp -r site-packages/* /usr/local/lib/python3.6/dist-packages/"
      ],
      "execution_count": null,
      "outputs": [
        {
          "output_type": "stream",
          "text": [
            "--2020-06-24 11:32:51--  https://anaconda.org/CannyLab/tsnecuda/2.1.0/download/linux-64/tsnecuda-2.1.0-cuda100.tar.bz2\n",
            "Resolving anaconda.org (anaconda.org)... 104.17.93.24, 104.17.92.24, 2606:4700::6811:5d18, ...\n",
            "Connecting to anaconda.org (anaconda.org)|104.17.93.24|:443... connected.\n",
            "HTTP request sent, awaiting response... 200 OK\n",
            "Length: unspecified [application/x-tar]\n",
            "Saving to: ‘tsnecuda-2.1.0-cuda100.tar.bz2’\n",
            "\n",
            "tsnecuda-2.1.0-cuda     [   <=>              ]  35.75M  83.7MB/s    in 0.4s    \n",
            "\n",
            "2020-06-24 11:32:52 (83.7 MB/s) - ‘tsnecuda-2.1.0-cuda100.tar.bz2’ saved [37484309]\n",
            "\n",
            "info/hash_input.json\n",
            "info/index.json\n",
            "info/files\n",
            "info/git\n",
            "info/about.json\n",
            "info/recipe/docker/Dockerfile\n",
            "info/recipe/docs/results/speedup.png\n",
            "info/recipe/docs/results/multi-threaded.png\n",
            "info/recipe/docs/cifar_speedup.png\n",
            "info/recipe/docs/results/single-threaded.png\n",
            "info/recipe/docs/mnist_speedup.png\n",
            "info/recipe/docs/simulated_speedup.png\n",
            "info/recipe/build/.gitkeep\n",
            "info/recipe/conda_build_config.yaml\n",
            "info/recipe/meta.yaml\n",
            "site-packages/tsnecuda-2.1.0-py3.7.egg-info/dependency_links.txt\n",
            "site-packages/tsnecuda-2.1.0-py3.7.egg-info/top_level.txt\n",
            "site-packages/tsnecuda-2.1.0-py3.7.egg-info/requires.txt\n",
            "info/recipe/src/python/CHANGES.txt\n",
            "info/recipe/src/python/LICENSE.txt\n",
            "info/recipe/src/python/docs/FAQ.txt\n",
            "site-packages/tsnecuda-2.1.0-py3.7.egg-info/SOURCES.txt\n",
            "info/recipe/src/python/README.txt\n",
            "info/recipe/src/style_guide.txt\n",
            "info/recipe/CMakeLists.txt\n",
            "info/recipe/src/util/thrust_utils.cu\n",
            "info/recipe/src/util/debug_utils.cu\n",
            "info/recipe/src/util/random_utils.cu\n",
            "info/recipe/src/util/reduce_utils.cu\n",
            "info/recipe/src/kernels/attr_forces.cu\n",
            "info/recipe/src/test/test.cu\n",
            "info/recipe/src/kernels/rep_forces.cu\n",
            "info/recipe/src/kernels/apply_forces.cu\n",
            "info/recipe/src/ext/pymodule_ext.cu\n",
            "info/recipe/src/util/matrix_broadcast_utils.cu\n",
            "info/recipe/src/kernels/perplexity_search.cu\n",
            "info/recipe/src/util/cuda_utils.cu\n",
            "info/recipe/src/util/data_utils.cu\n",
            "info/recipe/src/exe/main.cu\n",
            "info/recipe/src/util/math_utils.cu\n",
            "info/recipe/src/util/distance_utils.cu\n",
            "info/recipe/src/kernels/nbodyfft.cu\n",
            "info/recipe/src/fit_tsne.cu\n",
            "info/recipe/docs/.gitignore\n",
            "info/recipe/visualization/animation.gif\n",
            "info/recipe/docs/mnist_comparison.jpg\n",
            "info/recipe/.travis.yml\n",
            "site-packages/tsnecuda-2.1.0-py3.7.egg-info/PKG-INFO\n",
            "bin/.tsnecuda-pre-link.sh\n",
            "info/recipe/docker/clone_and_build.sh\n",
            "info/recipe/docker/conda_build.sh\n",
            "info/recipe/build.sh\n",
            "lib/libgtest_main.a\n",
            "lib/libgmock_main.a\n",
            "lib/libgmock.a\n",
            "lib/libgtest.a\n",
            "info/recipe/README.md\n",
            "info/recipe/meta.yaml.template\n",
            "info/recipe/cmake/write_python_version_string.cmake\n",
            "info/recipe/cross-linux.cmake\n",
            "info/recipe/cmake/Modules/FindOpenBLAS.cmake\n",
            "info/recipe/cmake/Modules/FindFFTW.cmake\n",
            "info/recipe/cmake/Modules/FindMKL.cmake\n",
            "info/recipe/src/python/tsnecuda/__init__.py\n",
            "site-packages/tsnecuda/__init__.py\n",
            "info/recipe/src/python/setup.py\n",
            "info/recipe/visualization/vis_rt.py\n",
            "info/recipe/visualization/visualize_mnist.py\n",
            "info/recipe/visualization/visualize.py\n",
            "info/recipe/docs/test_dist_cont.py\n",
            "link.py\n",
            "info/recipe/.ycm_extra_conf.py\n",
            "info/recipe/src/python/tsnecuda/TSNE.py\n",
            "site-packages/tsnecuda/TSNE.py\n",
            "site-packages/tsnecuda/test/__init__.py\n",
            "info/recipe/src/python/tsnecuda/test/__init__.py\n",
            "info/recipe/src/python/MANIFEST.in\n",
            "info/recipe/docs/Doxyfile.in\n",
            "info/recipe/src/include/kernels/rep_forces.h\n",
            "info/recipe/src/include/util/debug_utils.h\n",
            "info/recipe/src/include/fit_tsne.h\n",
            "info/recipe/src/include/kernels/apply_forces.h\n",
            "info/recipe/src/include/kernels/attr_forces.h\n",
            "info/recipe/src/include/util/random_utils.h\n",
            "info/recipe/src/include/common.h\n",
            "info/recipe/src/include/util/cuda_utils.h\n",
            "info/recipe/src/include/util/thrust_transform_functions.h\n",
            "info/recipe/src/include/kernels/perplexity_search.h\n",
            "info/recipe/src/include/util/thrust_utils.h\n",
            "info/recipe/src/include/ext/pymodule_ext.h\n",
            "info/recipe/src/include/kernels/nbodyfft.h\n",
            "info/recipe/src/include/util/matrix_broadcast_utils.h\n",
            "info/recipe/src/include/util/data_utils.h\n",
            "info/recipe/src/include/test/test_distance.h\n",
            "info/recipe/src/include/util/reduce_utils.h\n",
            "info/recipe/src/include/test/test_math.h\n",
            "info/recipe/src/include/util/math_utils.h\n",
            "info/recipe/src/include/util/distance_utils.h\n",
            "info/recipe/src/include/test/test_reduce.h\n",
            "info/recipe/src/include/options.h\n",
            "info/recipe/src/include/test/test_tsne.h\n",
            "info/recipe/docs/results/benchmark_results.pkl\n",
            "lib/libfaiss.so\n",
            "site-packages/tsnecuda/libtsnecuda.so\n",
            "info/recipe/.gitignore\n",
            "info/recipe/.gitmodules\n",
            "info/recipe/LICENSE\n",
            "info/recipe/src/python/MANIFEST\n",
            "Scripts/.tsnecuda-pre-link.bat\n"
          ],
          "name": "stdout"
        }
      ]
    },
    {
      "cell_type": "code",
      "metadata": {
        "id": "FAQbiJfvNSm_",
        "colab_type": "code",
        "colab": {
          "base_uri": "https://localhost:8080/",
          "height": 35
        },
        "outputId": "9e70d3cd-1dce-4a52-f587-7351150ec08d"
      },
      "source": [
        "!echo $LD_LIBRARY_PATH \n",
        "# this is probably /usr/lib64-nvidia\n",
        "\n",
        "!ln -s /content/lib/libfaiss.so $LD_LIBRARY_PATH/libfaiss.so"
      ],
      "execution_count": null,
      "outputs": [
        {
          "output_type": "stream",
          "text": [
            "/usr/lib64-nvidia\n"
          ],
          "name": "stdout"
        }
      ]
    },
    {
      "cell_type": "code",
      "metadata": {
        "id": "aylvuymY2dwl",
        "colab_type": "code",
        "colab": {}
      },
      "source": [
        "autoencoder_mnist.eval()\n",
        "output = np.array((64*10)*[]).reshape(-1, 10)\n",
        "labels = np.array((64*[]))\n",
        "with torch.no_grad():\n",
        "  for X, y in trainloader:\n",
        "    output = np.concatenate((autoencoder_mnist.encoder_(X.view(-1, 28*28).to(DEVICE), OneHot(len(X), y, 28*28).to(DEVICE)).cpu().numpy(), output), axis = 0)\n",
        "    labels = np.concatenate((y.cpu().numpy(), labels))"
      ],
      "execution_count": null,
      "outputs": []
    },
    {
      "cell_type": "code",
      "metadata": {
        "id": "yae7R4QzNaNY",
        "colab_type": "code",
        "colab": {}
      },
      "source": [
        "import tsnecuda\n",
        "tsnecuda.test()"
      ],
      "execution_count": null,
      "outputs": []
    },
    {
      "cell_type": "code",
      "metadata": {
        "id": "xB55W0VrNp4H",
        "colab_type": "code",
        "colab": {}
      },
      "source": [
        "from tsnecuda import TSNE as TSNE_CUDA\n",
        "tsne_cuda = TSNE_CUDA(\n",
        "    n_components=2, \n",
        "    perplexity=30.0, \n",
        "    early_exaggeration=12.0, \n",
        "    learning_rate=200.0, \n",
        "    n_iter=1000, \n",
        "    n_iter_without_progress=300, \n",
        "    min_grad_norm=1e-07, \n",
        "    metric='euclidean', \n",
        "    init='random', \n",
        "    verbose=0,\n",
        "    random_seed=None, # different parameter name\n",
        "    theta=0.5 # different parameter name\n",
        ")"
      ],
      "execution_count": null,
      "outputs": []
    },
    {
      "cell_type": "code",
      "metadata": {
        "id": "rz4ludtcOEGW",
        "colab_type": "code",
        "colab": {}
      },
      "source": [
        "from sklearn.preprocessing import StandardScaler\n",
        "\n",
        "scale = StandardScaler()\n",
        "scaled = scale.fit_transform(output[:4000])\n",
        "result = tsne_cuda.fit_transform(scaled)"
      ],
      "execution_count": null,
      "outputs": []
    },
    {
      "cell_type": "code",
      "metadata": {
        "id": "7xSiBr5VSj5W",
        "colab_type": "code",
        "colab": {
          "base_uri": "https://localhost:8080/",
          "height": 194
        },
        "outputId": "cfb867a7-f0a7-4cca-9333-2f52645e60b3"
      },
      "source": [
        "data = pd.DataFrame(result, index = labels[:4000])\n",
        "data.head()"
      ],
      "execution_count": null,
      "outputs": [
        {
          "output_type": "execute_result",
          "data": {
            "text/html": [
              "<div>\n",
              "<style scoped>\n",
              "    .dataframe tbody tr th:only-of-type {\n",
              "        vertical-align: middle;\n",
              "    }\n",
              "\n",
              "    .dataframe tbody tr th {\n",
              "        vertical-align: top;\n",
              "    }\n",
              "\n",
              "    .dataframe thead th {\n",
              "        text-align: right;\n",
              "    }\n",
              "</style>\n",
              "<table border=\"1\" class=\"dataframe\">\n",
              "  <thead>\n",
              "    <tr style=\"text-align: right;\">\n",
              "      <th></th>\n",
              "      <th>0</th>\n",
              "      <th>1</th>\n",
              "    </tr>\n",
              "  </thead>\n",
              "  <tbody>\n",
              "    <tr>\n",
              "      <th>6.0</th>\n",
              "      <td>23.579527</td>\n",
              "      <td>-6.716123</td>\n",
              "    </tr>\n",
              "    <tr>\n",
              "      <th>2.0</th>\n",
              "      <td>15.313511</td>\n",
              "      <td>-0.040137</td>\n",
              "    </tr>\n",
              "    <tr>\n",
              "      <th>0.0</th>\n",
              "      <td>11.539943</td>\n",
              "      <td>2.372794</td>\n",
              "    </tr>\n",
              "    <tr>\n",
              "      <th>9.0</th>\n",
              "      <td>7.832614</td>\n",
              "      <td>-11.757270</td>\n",
              "    </tr>\n",
              "    <tr>\n",
              "      <th>9.0</th>\n",
              "      <td>-0.543250</td>\n",
              "      <td>-13.866114</td>\n",
              "    </tr>\n",
              "  </tbody>\n",
              "</table>\n",
              "</div>"
            ],
            "text/plain": [
              "             0          1\n",
              "6.0  23.579527  -6.716123\n",
              "2.0  15.313511  -0.040137\n",
              "0.0  11.539943   2.372794\n",
              "9.0   7.832614 -11.757270\n",
              "9.0  -0.543250 -13.866114"
            ]
          },
          "metadata": {
            "tags": []
          },
          "execution_count": 21
        }
      ]
    },
    {
      "cell_type": "code",
      "metadata": {
        "id": "Nl2W24xwCp_6",
        "colab_type": "code",
        "colab": {
          "base_uri": "https://localhost:8080/",
          "height": 283
        },
        "outputId": "35ea0a2e-90fe-43de-8c70-75801bead228"
      },
      "source": [
        "fig, ax = plt.subplots()\n",
        "\n",
        "colors = ['b', 'g', 'r', 'c', 'm', 'y', 'k', '0.6', '0.3', '0.5']\n",
        "for i in range(10):\n",
        "  ax.scatter(data.loc[i][0].values, data.loc[i][1].values, c=colors[i], label = i)\n",
        "plt.legend()"
      ],
      "execution_count": null,
      "outputs": [
        {
          "output_type": "execute_result",
          "data": {
            "text/plain": [
              "<matplotlib.legend.Legend at 0x7f24ca552a90>"
            ]
          },
          "metadata": {
            "tags": []
          },
          "execution_count": 63
        },
        {
          "output_type": "display_data",
          "data": {
            "image/png": "[encoded data removed]",
            "text/plain": [
              "<Figure size 432x288 with 1 Axes>"
            ]
          },
          "metadata": {
            "tags": [],
            "needs_background": "light"
          }
        }
      ]
    },
    {
      "cell_type": "markdown",
      "metadata": {
        "id": "W_Y5iVuu2kJ2",
        "colab_type": "text"
      },
      "source": [
        "<тут ваши мысли по поводу того, что вы видите на рисунке>"
      ]
    },
    {
      "cell_type": "markdown",
      "metadata": {
        "id": "QQnEGmknYY71",
        "colab_type": "text"
      },
      "source": [
        "# BONUS 1. (2 балла) \n",
        "### Variational Autoencoder"
      ]
    },
    {
      "cell_type": "markdown",
      "metadata": {
        "id": "bWQNRjJq2uTz",
        "colab_type": "text"
      },
      "source": [
        "Если вы (надеюсь) осознали, в каком месте у conditional AE выше могли бы быть проблемы, то -- тадам!!\n",
        "\n",
        "Представляю вам проапгрейдженную версию автоэнкодеров -- вариационные автоэнкодеры."
      ]
    },
    {
      "cell_type": "markdown",
      "metadata": {
        "id": "nb5AHMcxYY73",
        "colab_type": "text"
      },
      "source": [
        "https://towardsdatascience.com/intuitively-understanding-variational-autoencoders-1bfe67eb5daf"
      ]
    },
    {
      "cell_type": "code",
      "metadata": {
        "id": "IoNVT5tYYY74",
        "colab_type": "code",
        "colab": {}
      },
      "source": [
        "class VAE(nn.Module):\n",
        "    def __init__(self, latent = 10, dim = 28):\n",
        "        super().__init__()\n",
        "        self.latent = latent\n",
        "        self.hid = int((int((dim-2)/2)-2)/2)\n",
        "\n",
        "        self.conv1_down = nn.Sequential(nn.Conv2d(1, 10, 3, padding=1),\n",
        "                                        nn.BatchNorm2d(10, 1e-3),\n",
        "                                        nn.ReLU(),\n",
        "        )\n",
        "        self.conv2_down = nn.Sequential(nn.Conv2d(10, 20, 3),\n",
        "                                        nn.BatchNorm2d(20, 1e-3),\n",
        "                                        nn.ReLU(),\n",
        "                                        nn.MaxPool2d(2)\n",
        "        ) \n",
        "        self.conv3_down = nn.Sequential(nn.Conv2d(20, 40, 3),\n",
        "                                        nn.BatchNorm2d(40, 1e-3),\n",
        "                                        nn.ReLU(),\n",
        "        )\n",
        "        self.pool = nn.MaxPool2d(2)\n",
        "        self.fc_mu = nn.Linear(40*self.hid*self.hid, self.latent)\n",
        "        self.fc_logsigma = nn.Linear(40*self.hid*self.hid, self.latent)\n",
        "\n",
        "        #выход 250\n",
        "        self.fc2 = nn.Sequential(nn.Linear(self.latent, 40*self.hid*self.hid)\n",
        "        )\n",
        "        self.conv3_up = nn.Sequential(nn.ConvTranspose2d(40, 20, 3, stride=2),\n",
        "                                      nn.BatchNorm2d(20, 1e-3),# формула size+(size-1) + (pad)*2 - (kernel-1), где pad = 0, если padding=2, 1, если 1, 2, если 0 и еще padding зависит от kernel (pad = 2 для 3, pad=3 для 4)\n",
        "                                      nn.ReLU()\n",
        "\n",
        "        )\n",
        "        self.conv2_up = nn.Sequential(nn.ConvTranspose2d(20, 20, 3, stride = 1),\n",
        "                                      nn.BatchNorm2d(20, 1e-3),\n",
        "                                      nn.ReLU()\n",
        "        )\n",
        "        self.conv1_up = nn.Sequential(nn.ConvTranspose2d(20, 10, 3, stride=1),\n",
        "                                      nn.BatchNorm2d(10, 1e-3),\n",
        "                                      nn.ReLU(),\n",
        "                                      nn.ConvTranspose2d(10, 5, 3, stride=2, padding = 1),\n",
        "                                      nn.BatchNorm2d(5, 1e-3),\n",
        "                                      nn.ReLU(),\n",
        "                                      nn.Conv2d(5, 1, 4, padding=1)\n",
        "        )\n",
        "\n",
        "\n",
        "    def encode(self, x):\n",
        "        self.conv1 = self.conv1_down(x)\n",
        "        self.conv2 = self.conv2_down(self.conv1)\n",
        "        self.conv3 = self.conv3_down(self.conv2)\n",
        "        mu = self.fc_mu(self.pool(self.conv3).view(x.size(0), -1))\n",
        "        logsigma = self.fc_logsigma(self.pool(self.conv3).view(x.size(0), -1))\n",
        "        return mu, logsigma\n",
        "    \n",
        "\n",
        "    def gaussian_sampler(self, mu, logsigma):\n",
        "        \"\"\"\n",
        "        Функция сэмплирует латентные векторы из нормального распределения с параметрами mu и sigma\n",
        "        \"\"\"\n",
        "        std = torch.exp(logsigma*0.5)\n",
        "        esp = torch.randn(*mu.size()).to(DEVICE)\n",
        "        return mu + std * esp\n",
        "    \n",
        "\n",
        "    def decode(self, z):\n",
        "        z = self.fc2(z).view(-1, 40, self.hid, self.hid)\n",
        "        z = self.conv3_up(z)\n",
        "        z = self.conv2_up(z)\n",
        "        z = self.conv1_up(z)\n",
        "        reconstruct = torch.sigmoid(z) \n",
        "        return reconstruct\n",
        "        \n",
        "\n",
        "    def forward(self, x):\n",
        "        mu, logsigma = self.encode(x)\n",
        "        z = self.gaussian_sampler(mu, logsigma)\n",
        "        reconstruction = self.decode(z)\n",
        "        return mu, logsigma, reconstruction"
      ],
      "execution_count": null,
      "outputs": []
    },
    {
      "cell_type": "markdown",
      "metadata": {
        "id": "hAB77d-PYY76",
        "colab_type": "text"
      },
      "source": [
        "Определим лосс и его компоненты для VAE:"
      ]
    },
    {
      "cell_type": "code",
      "metadata": {
        "id": "ac5ey7uIYY77",
        "colab_type": "code",
        "colab": {}
      },
      "source": [
        "def KL_divergence(mu, logsigma):\n",
        "    \"\"\"\n",
        "    часть функции потерь, которая отвечает за \"близость\" латентных представлений разных людей\n",
        "    \"\"\"\n",
        "    return -(0.5) * torch.sum(1 + logsigma - mu**2 - torch.exp(logsigma))\n",
        "\n",
        "def log_likelihood(x, reconstruction):\n",
        "    \"\"\"\n",
        "    часть функции потерь, которая отвечает за качество реконструкции (как mse в обычном autoencoder)\n",
        "    \"\"\"\n",
        "    return F.binary_cross_entropy(reconstruction, x, reduction='sum')\n",
        "\n",
        "def loss_vae(x, mu, logsigma, reconstruction):\n",
        "    return KL_divergence(mu, logsigma) + log_likelihood(x, reconstruction)"
      ],
      "execution_count": null,
      "outputs": []
    },
    {
      "cell_type": "markdown",
      "metadata": {
        "id": "ZPJQu70eYY79",
        "colab_type": "text"
      },
      "source": [
        "И обучим модель:"
      ]
    },
    {
      "cell_type": "code",
      "metadata": {
        "id": "dtCjfqXdYY79",
        "colab_type": "code",
        "colab": {
          "base_uri": "https://localhost:8080/",
          "height": 746
        },
        "outputId": "6dd5ccb2-f369-4b27-bb00-24c170444011"
      },
      "source": [
        "DEVICE = torch.device('cuda')\n",
        "\n",
        "autoencoder_vae = VAE(10).to(DEVICE)\n",
        "#autoencoder_vae.apply(init_weights)\n",
        "\n",
        "optimizer = optim.Adam(autoencoder_vae.parameters(), lr = 1e-4)\n",
        "\n",
        "scheduler = optim.lr_scheduler.StepLR(optimizer, step_size=7, gamma=0.8)\n",
        "\n",
        "summary(autoencoder_vae, (1, 28, 28))"
      ],
      "execution_count": null,
      "outputs": [
        {
          "output_type": "stream",
          "text": [
            "----------------------------------------------------------------\n",
            "        Layer (type)               Output Shape         Param #\n",
            "================================================================\n",
            "            Conv2d-1           [-1, 10, 28, 28]             100\n",
            "       BatchNorm2d-2           [-1, 10, 28, 28]              20\n",
            "              ReLU-3           [-1, 10, 28, 28]               0\n",
            "            Conv2d-4           [-1, 20, 26, 26]           1,820\n",
            "       BatchNorm2d-5           [-1, 20, 26, 26]              40\n",
            "              ReLU-6           [-1, 20, 26, 26]               0\n",
            "         MaxPool2d-7           [-1, 20, 13, 13]               0\n",
            "            Conv2d-8           [-1, 40, 11, 11]           7,240\n",
            "       BatchNorm2d-9           [-1, 40, 11, 11]              80\n",
            "             ReLU-10           [-1, 40, 11, 11]               0\n",
            "        MaxPool2d-11             [-1, 40, 5, 5]               0\n",
            "           Linear-12                   [-1, 10]          10,010\n",
            "        MaxPool2d-13             [-1, 40, 5, 5]               0\n",
            "           Linear-14                   [-1, 10]          10,010\n",
            "           Linear-15                 [-1, 1000]          11,000\n",
            "  ConvTranspose2d-16           [-1, 20, 11, 11]           7,220\n",
            "      BatchNorm2d-17           [-1, 20, 11, 11]              40\n",
            "             ReLU-18           [-1, 20, 11, 11]               0\n",
            "  ConvTranspose2d-19           [-1, 20, 13, 13]           3,620\n",
            "      BatchNorm2d-20           [-1, 20, 13, 13]              40\n",
            "             ReLU-21           [-1, 20, 13, 13]               0\n",
            "  ConvTranspose2d-22           [-1, 10, 15, 15]           1,810\n",
            "      BatchNorm2d-23           [-1, 10, 15, 15]              20\n",
            "             ReLU-24           [-1, 10, 15, 15]               0\n",
            "  ConvTranspose2d-25            [-1, 5, 29, 29]             455\n",
            "      BatchNorm2d-26            [-1, 5, 29, 29]              10\n",
            "             ReLU-27            [-1, 5, 29, 29]               0\n",
            "           Conv2d-28            [-1, 1, 28, 28]              81\n",
            "================================================================\n",
            "Total params: 53,616\n",
            "Trainable params: 53,616\n",
            "Non-trainable params: 0\n",
            "----------------------------------------------------------------\n",
            "Input size (MB): 0.00\n",
            "Forward/backward pass size (MB): 0.93\n",
            "Params size (MB): 0.20\n",
            "Estimated Total Size (MB): 1.14\n",
            "----------------------------------------------------------------\n"
          ],
          "name": "stdout"
        }
      ]
    },
    {
      "cell_type": "code",
      "metadata": {
        "scrolled": true,
        "id": "rY1khca6YY7_",
        "colab_type": "code",
        "colab": {}
      },
      "source": [
        "torch.autograd.set_detect_anomaly(True)\n",
        "def train(val, train, epochs):\n",
        "  train_losses = []\n",
        "  val_losses = []\n",
        "  best_model_wts = autoencoder_vae.state_dict()\n",
        "  best_loss = np.inf\n",
        "  for epoch in range(epochs):\n",
        "    loss_train_running = 0\n",
        "    total_train_data = 0\n",
        "    loss_val_running = 0\n",
        "    total_val_data = 0\n",
        "    autoencoder_vae.train()\n",
        "    for X, _ in trainloader:\n",
        "      X = X.to(DEVICE)\n",
        "      optimizer.zero_grad()\n",
        "      mu, logsigma, output = autoencoder_vae(X)\n",
        "      loss = loss_vae(X,mu, logsigma, output)\n",
        "      loss.backward()\n",
        "      optimizer.step()\n",
        "      loss_train_running += loss.item()*X.size(0)\n",
        "      total_train_data += X.size(0)\n",
        "    train_losses.append(loss_train_running/total_train_data)\n",
        "    autoencoder_vae.eval()\n",
        "    for X_, _ in valloader:\n",
        "      X_ = X_.to(DEVICE)\n",
        "      with torch.no_grad():\n",
        "        mu_, logsigma_, output_ = autoencoder_vae(X_)\n",
        "        loss_ = loss_vae(X_, mu_, logsigma_, output_)\n",
        "      loss_val_running += loss_.item()*X_.size(0)\n",
        "      total_val_data += X_.size(0)\n",
        "    print(torch.mean(mu_), torch.mean(logsigma_))\n",
        "    val_losses.append(loss_val_running/total_val_data)\n",
        "    if val_losses[-1]< best_loss:\n",
        "      best_loss = val_losses[-1]\n",
        "      best_model_wts = autoencoder_vae.state_dict()\n",
        "    #scheduler.step()\n",
        "    clear_output(True)\n",
        "    plt.imshow(output_[-1].squeeze_(0).cpu().numpy(), cmap='gray')\n",
        "    plt.show()\n",
        "    plt.imshow(X_[-1].squeeze_(0).cpu().numpy(), cmap='gray')\n",
        "    plt.show()\n",
        "    print(\"epoch: {} out of {}\".format(epoch+1, epochs))\n",
        "    print(\"train_loss: {}\\t val_loss:{}\".format(train_losses[-1], val_losses[-1]))\n",
        "  autoencoder_vae.load_state_dict(best_model_wts)\n",
        "  return autoencoder_vae, train_losses, val_losses"
      ],
      "execution_count": null,
      "outputs": []
    },
    {
      "cell_type": "code",
      "metadata": {
        "id": "Xu0ZQIhbYad6",
        "colab_type": "code",
        "colab": {
          "base_uri": "https://localhost:8080/",
          "height": 548
        },
        "outputId": "cce5b9a7-595b-4bd7-b9f9-b30a675e94be"
      },
      "source": [
        "best_vae, train_losses, val_losses = train(valloader, trainloader, 50)"
      ],
      "execution_count": null,
      "outputs": [
        {
          "output_type": "display_data",
          "data": {
            "image/png": "[encoded data removed]",
            "text/plain": [
              "<Figure size 432x288 with 1 Axes>"
            ]
          },
          "metadata": {
            "tags": [],
            "needs_background": "light"
          }
        },
        {
          "output_type": "display_data",
          "data": {
            "image/png": "[encoded data removed]",
            "text/plain": [
              "<Figure size 432x288 with 1 Axes>"
            ]
          },
          "metadata": {
            "tags": [],
            "needs_background": "light"
          }
        },
        {
          "output_type": "stream",
          "text": [
            "epoch: 50 out of 50\n",
            "train_loss: 6705.22103203125\t val_loss:6685.955715039063\n"
          ],
          "name": "stdout"
        }
      ]
    },
    {
      "cell_type": "markdown",
      "metadata": {
        "scrolled": true,
        "id": "SkxW_8fkYY8B",
        "colab_type": "text"
      },
      "source": [
        "Давайте посмотрим, как наш тренированный VAE кодирует и восстанавливает картинки:"
      ]
    },
    {
      "cell_type": "code",
      "metadata": {
        "id": "RijP_UCfpMN1",
        "colab_type": "code",
        "colab": {
          "base_uri": "https://localhost:8080/",
          "height": 35
        },
        "outputId": "c343a744-e483-41ce-f0bd-bf2b1c6030d6"
      },
      "source": [
        "torch.save(best_vae.state_dict(), '/content/Autoencoder_vae_mnist.pth')\n",
        "autoencoder_vae.load_state_dict(torch.load('/content/Autoencoder_vae_mnist.pth'))"
      ],
      "execution_count": null,
      "outputs": [
        {
          "output_type": "execute_result",
          "data": {
            "text/plain": [
              "<All keys matched successfully>"
            ]
          },
          "metadata": {
            "tags": []
          },
          "execution_count": 69
        }
      ]
    },
    {
      "cell_type": "markdown",
      "metadata": {
        "id": "N0jI-FKEYY8E",
        "colab_type": "text"
      },
      "source": [
        "And finally sample from VAE."
      ]
    },
    {
      "cell_type": "markdown",
      "metadata": {
        "id": "Po-KV8E8YY8F",
        "colab_type": "text"
      },
      "source": [
        "## Sampling"
      ]
    },
    {
      "cell_type": "markdown",
      "metadata": {
        "id": "PQXYIXjoYY8F",
        "colab_type": "text"
      },
      "source": [
        "Давайте попробуем проделать для VAE то же, что и с обычным автоэнкодером -- подсунуть decoder'у из VAE случайные векторы из нормального распределения и посмотреть, какие лица получатся:"
      ]
    },
    {
      "cell_type": "code",
      "metadata": {
        "id": "bOhhH-osYY8G",
        "colab_type": "code",
        "colab": {
          "base_uri": "https://localhost:8080/",
          "height": 265
        },
        "outputId": "e85689cc-12aa-4748-85c7-6b24be8e1a89"
      },
      "source": [
        "# вспомните про замечание из этого же ункта обычного AE про распределение латентных переменных\n",
        "def sample():\n",
        "  z = torch.randn(1, 10)\n",
        "  autoencoder_vae.eval()\n",
        "  with torch.no_grad():\n",
        "    output = autoencoder_vae.decode(z.to(DEVICE))\n",
        "  plt.imshow(output.cpu()[0][0].numpy(), cmap='gray')\n",
        "  plt.show()\n",
        "sample()"
      ],
      "execution_count": null,
      "outputs": [
        {
          "output_type": "display_data",
          "data": {
            "image/png": "[encoded data removed]",
            "text/plain": [
              "<Figure size 432x288 with 1 Axes>"
            ]
          },
          "metadata": {
            "tags": [],
            "needs_background": "light"
          }
        }
      ]
    },
    {
      "cell_type": "markdown",
      "metadata": {
        "id": "ESPBHrL3YY8H",
        "colab_type": "text"
      },
      "source": [
        "## Congrats v2.0!\n",
        "\n",
        "Как вы уже догадались, здесь тоже можно попробовать пририсовывать разные атрибуты людям. Можно, например, так же пририсовать улыбки и сравнить с тем, как это получалось у обычного автоэнкодера"
      ]
    },
    {
      "cell_type": "code",
      "metadata": {
        "id": "tq-hgOk-YY8I",
        "colab_type": "code",
        "colab": {}
      },
      "source": [
        "<как вы уже догадались, тут Ваш код>"
      ],
      "execution_count": null,
      "outputs": []
    },
    {
      "cell_type": "markdown",
      "metadata": {
        "id": "x7jA3PRvhAv5",
        "colab_type": "text"
      },
      "source": [
        "# BONUS 2. (2 балла)"
      ]
    },
    {
      "cell_type": "markdown",
      "metadata": {
        "id": "woSjtsK63Lan",
        "colab_type": "text"
      },
      "source": [
        "А теперь пришло время сделать \n",
        "## Conditional Variational AE"
      ]
    },
    {
      "cell_type": "code",
      "metadata": {
        "id": "cZf-Dr9-hFAt",
        "colab_type": "code",
        "colab": {}
      },
      "source": [
        "#проверить код\n",
        "class CVAE(nn.Module):\n",
        "    def __init__(self, latent = 10, dim = 28):\n",
        "        super().__init__()\n",
        "        self.latent = latent\n",
        "        self.dim = dim\n",
        "        self.hid = int((int((dim-2)/2)-2)/2)\n",
        "\n",
        "        self.fc_encode = nn.Sequential(nn.Linear(self.dim**2+10, self.dim**2),\n",
        "                                 nn.LeakyReLU(0.2)\n",
        "        )\n",
        "        self.conv1_down = nn.Sequential(nn.Conv2d(1, 10, 3, padding=1),\n",
        "                                        nn.BatchNorm2d(10, 1e-3),\n",
        "                                        nn.LeakyReLU(0.2),\n",
        "        )\n",
        "        self.conv2_down = nn.Sequential(nn.Conv2d(10, 20, 3),\n",
        "                                        nn.BatchNorm2d(20, 1e-3),\n",
        "                                        nn.LeakyReLU(0.2),\n",
        "                                        nn.MaxPool2d(2)\n",
        "        ) \n",
        "        self.conv3_down = nn.Sequential(nn.Conv2d(20, 40, 3),\n",
        "                                        nn.BatchNorm2d(40, 1e-3),\n",
        "                                        nn.LeakyReLU(0.2),\n",
        "        )\n",
        "        self.pool = nn.MaxPool2d(2)\n",
        "        self.fc_mu = nn.Linear(40*self.hid*self.hid, self.latent)\n",
        "        self.fc_logsigma = nn.Linear(40*self.hid*self.hid, self.latent)\n",
        "\n",
        "        #выход 250\n",
        "        self.fc2 = nn.Sequential(nn.Linear(self.latent + 10 , 40*self.hid*self.hid)\n",
        "        )\n",
        "        self.conv3_up = nn.Sequential(nn.ConvTranspose2d(40, 20, 3, stride=2),\n",
        "                                      nn.BatchNorm2d(20, 1e-3),# формула size+(size-1) + (pad)*2 - (kernel-1), где pad = 0, если padding=2, 1, если 1, 2, если 0 и еще padding зависит от kernel (pad = 2 для 3, pad=3 для 4)\n",
        "                                      nn.LeakyReLU(0.2)\n",
        "\n",
        "        )\n",
        "        self.conv2_up = nn.Sequential(nn.ConvTranspose2d(20, 20, 3, stride = 1),\n",
        "                                      nn.BatchNorm2d(20, 1e-3),\n",
        "                                      nn.LeakyReLU(0.2)\n",
        "        )\n",
        "        self.conv1_up = nn.Sequential(nn.ConvTranspose2d(20, 10, 3, stride=1),\n",
        "                                      nn.BatchNorm2d(10, 1e-3),\n",
        "                                      nn.LeakyReLU(0.2),\n",
        "                                      nn.ConvTranspose2d(10, 5, 3, stride=2, padding = 1),\n",
        "                                      nn.BatchNorm2d(5, 1e-3),\n",
        "                                      nn.LeakyReLU(0.2),\n",
        "                                      nn.Conv2d(5, 1, 4, padding=1)\n",
        "        )\n",
        "\n",
        "\n",
        "    def encode(self, x):\n",
        "        x = self.fc_encode(x).view(-1, 1, self.dim, self.dim)\n",
        "        self.conv1 = self.conv1_down(x)\n",
        "        self.conv2 = self.conv2_down(self.conv1)\n",
        "        self.conv3 = self.conv3_down(self.conv2)\n",
        "        mu = self.fc_mu(self.pool(self.conv3).view(x.size(0), -1))\n",
        "        logsigma = self.fc_logsigma(self.pool(self.conv3).view(x.size(0), -1))\n",
        "        return mu, logsigma\n",
        "    \n",
        "\n",
        "    def gaussian_sampler(self, mu, logsigma):\n",
        "        \"\"\"\n",
        "        Функция сэмплирует латентные векторы из нормального распределения с параметрами mu и sigma\n",
        "        \"\"\"\n",
        "        std = torch.exp(logsigma*0.5)\n",
        "        esp = torch.randn(*mu.size()).to(DEVICE)\n",
        "        return mu + std * esp\n",
        "    \n",
        "\n",
        "    def decode(self, z, y):\n",
        "        z = torch.cat((z.view(-1, self.latent), OneHot(z.size(0), y, 10).to(DEVICE)), dim = 1)\n",
        "        z = self.fc2(z).view(-1, 40, self.hid, self.hid)\n",
        "        z = self.conv3_up(z)\n",
        "        z = self.conv2_up(z)\n",
        "        z = self.conv1_up(z)\n",
        "        reconstruct = torch.sigmoid(z) \n",
        "        return reconstruct\n",
        "        \n",
        "\n",
        "    def forward(self, x, y):\n",
        "        mu, logsigma = self.encode(x)\n",
        "        z = self.gaussian_sampler(mu, logsigma)\n",
        "        reconstruction = self.decode(z, y)\n",
        "        return mu, logsigma, reconstruction"
      ],
      "execution_count": null,
      "outputs": []
    },
    {
      "cell_type": "code",
      "metadata": {
        "id": "dyyN42Z3s6MP",
        "colab_type": "code",
        "colab": {}
      },
      "source": [
        "DEVICE = torch.device('cuda')\n",
        "Latent = 10\n",
        "\n",
        "autoencoder_cvae = CVAE(Latent).to(DEVICE)\n",
        "#autoencoder_cvae.apply(init_weights)\n",
        "\n",
        "optimizer = optim.Adam(autoencoder_cvae.parameters(), lr = 1e-4)\n",
        "\n",
        "scheduler = optim.lr_scheduler.StepLR(optimizer, step_size=7, gamma=0.7)\n",
        "\n",
        "#summary(autoencoder_cvae, (64, 28*28+10))"
      ],
      "execution_count": null,
      "outputs": []
    },
    {
      "cell_type": "code",
      "metadata": {
        "id": "HiupzZLIuS_T",
        "colab_type": "code",
        "colab": {}
      },
      "source": [
        "def OneHot(batch, data, dim):\n",
        "  massive = np.zeros((batch, dim))\n",
        "  data = pd.Series(np.array(data.cpu()), index = np.arange(len(data)))\n",
        "  massive[np.array(data.index), np.array(data)] = 1\n",
        "  return torch.FloatTensor(massive)"
      ],
      "execution_count": null,
      "outputs": []
    },
    {
      "cell_type": "code",
      "metadata": {
        "id": "3tXf6wwUuZOk",
        "colab_type": "code",
        "colab": {}
      },
      "source": [
        "torch.autograd.set_detect_anomaly(True)\n",
        "#проверить код\n",
        "def train(val, train, epochs):\n",
        "  train_losses = []\n",
        "  val_losses = []\n",
        "  best_model_wts = autoencoder_cvae.state_dict()\n",
        "  best_loss = np.inf\n",
        "  for epoch in range(epochs):\n",
        "    loss_train_running = 0\n",
        "    total_train_data = 0\n",
        "    loss_val_running = 0\n",
        "    total_val_data = 0\n",
        "    autoencoder_cvae.train()\n",
        "    for X, y in trainloader:\n",
        "      X = X.to(DEVICE)\n",
        "      optimizer.zero_grad()\n",
        "      input = torch.cat((X.view(-1, 28*28), OneHot(X.size(0), y, 10).to(DEVICE)), dim = 1)\n",
        "      mu, logsigma, output = autoencoder_cvae(input.to(DEVICE), y)\n",
        "      loss = loss_vae(X,mu, logsigma, output)\n",
        "      loss.backward()\n",
        "      optimizer.step()\n",
        "      loss_train_running += loss.item()*X.size(0)\n",
        "      total_train_data += X.size(0)\n",
        "    train_losses.append(loss_train_running/total_train_data)\n",
        "    autoencoder_cvae.eval()\n",
        "    for X_, y_ in valloader:\n",
        "      X_ = X_.to(DEVICE)\n",
        "      with torch.no_grad():\n",
        "        input_ = torch.cat((X_.view(-1, 28*28), OneHot(X_.size(0), y_, 10).to(DEVICE)), dim = 1)\n",
        "        mu_, logsigma_, output_ = autoencoder_cvae(input_.to(DEVICE), y_)\n",
        "        loss_ = loss_vae(X_, mu_, logsigma_, output_)\n",
        "      loss_val_running += loss_.item()*X_.size(0)\n",
        "      total_val_data += X_.size(0)\n",
        "    print(torch.mean(mu_), torch.mean(logsigma_))\n",
        "    val_losses.append(loss_val_running/total_val_data)\n",
        "    if val_losses[-1]< best_loss:\n",
        "      best_loss = val_losses[-1]\n",
        "      best_model_wts = autoencoder_cvae.state_dict()\n",
        "    #scheduler.step()\n",
        "    clear_output(True)\n",
        "    plt.imshow(output_[-1].squeeze_(0).cpu().numpy(), cmap='gray')\n",
        "    plt.show()\n",
        "    plt.imshow(X_[-1].squeeze_(0).cpu().numpy(), cmap='gray')\n",
        "    plt.show()\n",
        "    print(\"epoch: {} out of {}\".format(epoch+1, epochs))\n",
        "    print(\"train_loss: {}\\t val_loss:{}\".format(train_losses[-1], val_losses[-1]))\n",
        "  autoencoder_cvae.load_state_dict(best_model_wts)\n",
        "  return autoencoder_cvae, train_losses, val_losses"
      ],
      "execution_count": null,
      "outputs": []
    },
    {
      "cell_type": "code",
      "metadata": {
        "id": "_quSGnELclAC",
        "colab_type": "code",
        "colab": {
          "base_uri": "https://localhost:8080/",
          "height": 548
        },
        "outputId": "8d589d81-3c0b-4c40-e53f-733b0adcff8d"
      },
      "source": [
        "best_cvae, train_losses, val_losses = train(valloader, trainloader, 100)"
      ],
      "execution_count": null,
      "outputs": [
        {
          "output_type": "display_data",
          "data": {
            "image/png": "[encoded data removed]",
            "text/plain": [
              "<Figure size 432x288 with 1 Axes>"
            ]
          },
          "metadata": {
            "tags": [],
            "needs_background": "light"
          }
        },
        {
          "output_type": "display_data",
          "data": {
            "image/png": "[encoded data removed]",
            "text/plain": [
              "<Figure size 432x288 with 1 Axes>"
            ]
          },
          "metadata": {
            "tags": [],
            "needs_background": "light"
          }
        },
        {
          "output_type": "stream",
          "text": [
            "epoch: 100 out of 100\n",
            "train_loss: 5994.873741927084\t val_loss:6088.825118554688\n"
          ],
          "name": "stdout"
        }
      ]
    },
    {
      "cell_type": "code",
      "metadata": {
        "id": "um3OfA_kTlZ-",
        "colab_type": "code",
        "colab": {
          "base_uri": "https://localhost:8080/",
          "height": 35
        },
        "outputId": "dc3415b6-b246-48ae-b29a-688e7b4eba0d"
      },
      "source": [
        "torch.save(best_cvae.state_dict(), '/content/Autoencoder_cvae.pth')\n",
        "autoencoder_cvae.load_state_dict(torch.load('/content/Autoencoder_cvae.pth'))"
      ],
      "execution_count": null,
      "outputs": [
        {
          "output_type": "execute_result",
          "data": {
            "text/plain": [
              "<All keys matched successfully>"
            ]
          },
          "metadata": {
            "tags": []
          },
          "execution_count": 38
        }
      ]
    },
    {
      "cell_type": "code",
      "metadata": {
        "id": "cqi_fu69dG4E",
        "colab_type": "code",
        "colab": {
          "base_uri": "https://localhost:8080/",
          "height": 1000
        },
        "outputId": "275366a6-36f6-48d0-8d20-7bd4c100ba34"
      },
      "source": [
        "def sampling(number):\n",
        "  z = torch.randn(1, Latent)\n",
        "  #condition = OneHot(1, torch.IntTensor([number]), Latent) \n",
        "  with torch.no_grad():\n",
        "    autoencoder_cvae.eval()\n",
        "    output = autoencoder_cvae.decode(z.to(DEVICE), torch.IntTensor([number]))\n",
        "    plt.imshow(output.squeeze_(0)[0].cpu().numpy(), cmap='gray')\n",
        "    plt.show()\n",
        "for i in range(10):\n",
        "  sampling(i)"
      ],
      "execution_count": null,
      "outputs": [
        {
          "output_type": "display_data",
          "data": {
            "image/png": "[encoded data removed]",
            "text/plain": [
              "<Figure size 432x288 with 1 Axes>"
            ]
          },
          "metadata": {
            "tags": [],
            "needs_background": "light"
          }
        },
        {
          "output_type": "display_data",
          "data": {
            "image/png": "[encoded data removed]",
            "text/plain": [
              "<Figure size 432x288 with 1 Axes>"
            ]
          },
          "metadata": {
            "tags": [],
            "needs_background": "light"
          }
        },
        {
          "output_type": "display_data",
          "data": {
            "image/png": "[encoded data removed]",
            "text/plain": [
              "<Figure size 432x288 with 1 Axes>"
            ]
          },
          "metadata": {
            "tags": [],
            "needs_background": "light"
          }
        },
        {
          "output_type": "display_data",
          "data": {
            "image/png": "[encoded data removed]",
            "text/plain": [
              "<Figure size 432x288 with 1 Axes>"
            ]
          },
          "metadata": {
            "tags": [],
            "needs_background": "light"
          }
        },
        {
          "output_type": "display_data",
          "data": {
            "image/png": "[encoded data removed]",
            "text/plain": [
              "<Figure size 432x288 with 1 Axes>"
            ]
          },
          "metadata": {
            "tags": [],
            "needs_background": "light"
          }
        },
        {
          "output_type": "display_data",
          "data": {
            "image/png": "[encoded data removed]",
            "text/plain": [
              "<Figure size 432x288 with 1 Axes>"
            ]
          },
          "metadata": {
            "tags": [],
            "needs_background": "light"
          }
        },
        {
          "output_type": "display_data",
          "data": {
            "image/png": "[encoded data removed]",
            "text/plain": [
              "<Figure size 432x288 with 1 Axes>"
            ]
          },
          "metadata": {
            "tags": [],
            "needs_background": "light"
          }
        },
        {
          "output_type": "display_data",
          "data": {
            "image/png": "[encoded data removed]",
            "text/plain": [
              "<Figure size 432x288 with 1 Axes>"
            ]
          },
          "metadata": {
            "tags": [],
            "needs_background": "light"
          }
        },
        {
          "output_type": "display_data",
          "data": {
            "image/png": "[encoded data removed]",
            "text/plain": [
              "<Figure size 432x288 with 1 Axes>"
            ]
          },
          "metadata": {
            "tags": [],
            "needs_background": "light"
          }
        },
        {
          "output_type": "display_data",
          "data": {
            "image/png": "[encoded data removed]",
            "text/plain": [
              "<Figure size 432x288 with 1 Axes>"
            ]
          },
          "metadata": {
            "tags": [],
            "needs_background": "light"
          }
        }
      ]
    },
    {
      "cell_type": "markdown",
      "metadata": {
        "id": "Rt2S77cm3O1v",
        "colab_type": "text"
      },
      "source": [
        "... и так же посмотреть на латентное пространство векторов VAE, как мы делали это с обычным variational AE, понять, чем же оно отличается и сделать выводы:"
      ]
    },
    {
      "cell_type": "code",
      "metadata": {
        "id": "LSCYK7sH3KEc",
        "colab_type": "code",
        "colab": {}
      },
      "source": [
        "<тут код>"
      ],
      "execution_count": null,
      "outputs": []
    },
    {
      "cell_type": "markdown",
      "metadata": {
        "id": "ET8IELWu3Z2c",
        "colab_type": "text"
      },
      "source": [
        "<тут выводы>"
      ]
    },
    {
      "cell_type": "markdown",
      "metadata": {
        "id": "KN3D_k5W_WZz",
        "colab_type": "text"
      },
      "source": [
        "# BONUS 3. (2 балла)"
      ]
    },
    {
      "cell_type": "markdown",
      "metadata": {
        "id": "12a1jkpkCsIU",
        "colab_type": "text"
      },
      "source": [
        "У автоэнкодеров, кроме сжатия и генерации изображений, есть другие практические применения. Про одно из них это бонксное задание."
      ]
    },
    {
      "cell_type": "markdown",
      "metadata": {
        "id": "v8EN-8jlCtmd",
        "colab_type": "text"
      },
      "source": [
        "Автоэнкодеры могут быть использованы для избавления от шума на фотографиях (denoising). Для этого их нужно обучить специальным образом: input картинка будет зашумленной, а выдавать автоэнкодер должен будет картинку без шума. \n",
        "То есть, loss-функция AE останется той же (MSE между реальной картинкой и выданной), а на вход автоэнкодеру будет подаваться зашумленная картинка."
      ]
    },
    {
      "cell_type": "markdown",
      "metadata": {
        "id": "ysI0BCuRDbvm",
        "colab_type": "text"
      },
      "source": [
        "Для того, чтобы поставить эксперимент, нужно взять ваш любимый датасет (датасет лиц или MSE с прошлых заданий или любой другой) и сделать копию этого датасета с шумом. \n",
        "\n",
        "В питоне шум можно добавить так:"
      ]
    },
    {
      "cell_type": "code",
      "metadata": {
        "id": "X5e746iVDgSm",
        "colab_type": "code",
        "colab": {
          "base_uri": "https://localhost:8080/",
          "height": 1000
        },
        "outputId": "e6d97a72-f4f5-4612-d42a-fa8329108d61"
      },
      "source": [
        "DEVICE = torch.device('cuda')\n",
        "autoencoder = Autoencoder_2().to(DEVICE)\n",
        "autoencoder.apply(init_weights)\n",
        "optimizer = optim.Adam(autoencoder.parameters())\n",
        "criterion = nn.MSELoss()\n",
        "summary(autoencoder, (3,45, 45))"
      ],
      "execution_count": null,
      "outputs": [
        {
          "output_type": "stream",
          "text": [
            "----------------------------------------------------------------\n",
            "        Layer (type)               Output Shape         Param #\n",
            "================================================================\n",
            "            Conv2d-1           [-1, 20, 45, 45]             560\n",
            "       BatchNorm2d-2           [-1, 20, 45, 45]              40\n",
            "         LeakyReLU-3           [-1, 20, 45, 45]               0\n",
            "            Conv2d-4           [-1, 40, 45, 45]           7,240\n",
            "       BatchNorm2d-5           [-1, 40, 45, 45]              80\n",
            "         LeakyReLU-6           [-1, 40, 45, 45]               0\n",
            "            Conv2d-7           [-1, 80, 43, 43]          28,880\n",
            "       BatchNorm2d-8           [-1, 80, 43, 43]             160\n",
            "         LeakyReLU-9           [-1, 80, 43, 43]               0\n",
            "           Conv2d-10          [-1, 100, 43, 43]          72,100\n",
            "      BatchNorm2d-11          [-1, 100, 43, 43]             200\n",
            "        LeakyReLU-12          [-1, 100, 43, 43]               0\n",
            "        MaxPool2d-13          [-1, 100, 21, 21]               0\n",
            "           Conv2d-14          [-1, 150, 19, 19]         135,150\n",
            "      BatchNorm2d-15          [-1, 150, 19, 19]             300\n",
            "        LeakyReLU-16          [-1, 150, 19, 19]               0\n",
            "           Conv2d-17          [-1, 150, 19, 19]         202,650\n",
            "      BatchNorm2d-18          [-1, 150, 19, 19]             300\n",
            "        LeakyReLU-19          [-1, 150, 19, 19]               0\n",
            "        MaxPool2d-20            [-1, 150, 9, 9]               0\n",
            "           Linear-21                  [-1, 250]       3,037,750\n",
            "           Linear-22                [-1, 12150]       3,049,650\n",
            "        LeakyReLU-23                [-1, 12150]               0\n",
            "  ConvTranspose2d-24          [-1, 100, 19, 19]         135,100\n",
            "      BatchNorm2d-25          [-1, 100, 19, 19]             200\n",
            "        LeakyReLU-26          [-1, 100, 19, 19]               0\n",
            "           Conv2d-27          [-1, 100, 19, 19]          90,100\n",
            "      BatchNorm2d-28          [-1, 100, 19, 19]             200\n",
            "        LeakyReLU-29          [-1, 100, 19, 19]               0\n",
            "  ConvTranspose2d-30           [-1, 60, 21, 21]          54,060\n",
            "      BatchNorm2d-31           [-1, 60, 21, 21]             120\n",
            "        LeakyReLU-32           [-1, 60, 21, 21]               0\n",
            "           Conv2d-33           [-1, 60, 21, 21]          32,460\n",
            "      BatchNorm2d-34           [-1, 60, 21, 21]             120\n",
            "        LeakyReLU-35           [-1, 60, 21, 21]               0\n",
            "  ConvTranspose2d-36           [-1, 30, 23, 23]          16,230\n",
            "      BatchNorm2d-37           [-1, 30, 23, 23]              60\n",
            "        LeakyReLU-38           [-1, 30, 23, 23]               0\n",
            "           Conv2d-39           [-1, 30, 23, 23]           8,130\n",
            "      BatchNorm2d-40           [-1, 30, 23, 23]              60\n",
            "        LeakyReLU-41           [-1, 30, 23, 23]               0\n",
            "  ConvTranspose2d-42           [-1, 15, 45, 45]           4,065\n",
            "      BatchNorm2d-43           [-1, 15, 45, 45]              30\n",
            "        LeakyReLU-44           [-1, 15, 45, 45]               0\n",
            "           Conv2d-45            [-1, 9, 45, 45]           1,224\n",
            "      BatchNorm2d-46            [-1, 9, 45, 45]              18\n",
            "        LeakyReLU-47            [-1, 9, 45, 45]               0\n",
            "           Conv2d-48            [-1, 3, 45, 45]             246\n",
            "================================================================\n",
            "Total params: 6,877,483\n",
            "Trainable params: 6,877,483\n",
            "Non-trainable params: 0\n",
            "----------------------------------------------------------------\n",
            "Input size (MB): 0.02\n",
            "Forward/backward pass size (MB): 18.24\n",
            "Params size (MB): 26.24\n",
            "Estimated Total Size (MB): 44.50\n",
            "----------------------------------------------------------------\n"
          ],
          "name": "stdout"
        }
      ]
    },
    {
      "cell_type": "code",
      "metadata": {
        "id": "9fSPkXMtDpd5",
        "colab_type": "code",
        "colab": {}
      },
      "source": [
        "def train(val, train, epochs, noise_factor = 0.1):\n",
        "  train_losses = []\n",
        "  val_losses = []\n",
        "  best_model_wts = autoencoder.state_dict()\n",
        "  best_loss = np.inf\n",
        "  for epoch in range(epochs):\n",
        "    loss_train_running = 0\n",
        "    total_train_data = 0\n",
        "    loss_val_running = 0\n",
        "    total_val_data = 0\n",
        "    autoencoder.train()\n",
        "    for X in train_loader:\n",
        "      X = X.to(DEVICE)\n",
        "      X_noisy = X + noise_factor * torch.randn(*X.size()).to(DEVICE)\n",
        "      optimizer.zero_grad()\n",
        "      output = autoencoder(X_noisy)[0]\n",
        "      loss = criterion(output, X)\n",
        "      loss.backward()\n",
        "      optimizer.step()\n",
        "      loss_train_running += loss.item()*X.size(0)\n",
        "      total_train_data += X.size(0)\n",
        "    train_losses.append(loss_train_running/total_train_data)\n",
        "    autoencoder.eval()\n",
        "    for X_ in val_loader:\n",
        "      X_ = X_.to(DEVICE)\n",
        "      X_noisy_ = X_ + noise_factor * torch.randn(*X_.size()).to(DEVICE)\n",
        "      with torch.no_grad():\n",
        "        output_ = autoencoder(X_noisy_)[0]\n",
        "        loss_ = criterion(output_, X_)\n",
        "      loss_val_running += loss_.item()*X_.size(0)\n",
        "      total_val_data += X_.size(0)\n",
        "    val_losses.append(loss_val_running/total_val_data)\n",
        "    if val_losses[-1]< best_loss:\n",
        "      best_loss = val_losses[-1]\n",
        "      best_model_wts = autoencoder.state_dict()\n",
        "    clear_output(True)\n",
        "    plot_gallery(output_[:10].cpu().numpy().transpose(0, 2, 3, 1), IMAGE_H, IMAGE_W, n_row=2, n_col=3)\n",
        "    plot_gallery(np.clip(X_noisy_[:10].cpu().numpy().transpose(0, 2, 3, 1), 0, 1), IMAGE_H, IMAGE_W, n_row=2, n_col=3)\n",
        "    plt.show()\n",
        "    print(\"epoch: {} out of {}\".format(epoch+1, epochs))\n",
        "    print(\"train_loss: {}\\t val_loss:{}\".format(train_losses[-1], val_losses[-1]))\n",
        "  autoencoder.load_state_dict(best_model_wts)\n",
        "  return autoencoder, train_losses, val_losses"
      ],
      "execution_count": null,
      "outputs": []
    },
    {
      "cell_type": "code",
      "metadata": {
        "id": "B03NQ_sKDvg2",
        "colab_type": "code",
        "colab": {
          "base_uri": "https://localhost:8080/",
          "height": 526
        },
        "outputId": "da24a184-2d4d-4a9b-aed0-2f336f377655"
      },
      "source": [
        "best_param, train_losses, val_losses = train(val_loader, train_loader, 50)"
      ],
      "execution_count": null,
      "outputs": [
        {
          "output_type": "display_data",
          "data": {
            "image/png": "[encoded data removed]",
            "text/plain": [
              "<Figure size 324x244.8 with 6 Axes>"
            ]
          },
          "metadata": {
            "tags": []
          }
        },
        {
          "output_type": "display_data",
          "data": {
            "image/png": "[encoded data removed]",
            "text/plain": [
              "<Figure size 324x244.8 with 6 Axes>"
            ]
          },
          "metadata": {
            "tags": []
          }
        },
        {
          "output_type": "stream",
          "text": [
            "epoch: 50 out of 50\n",
            "train_loss: 0.0015166966760531068\t val_loss:0.001838659235008708\n"
          ],
          "name": "stdout"
        }
      ]
    },
    {
      "cell_type": "code",
      "metadata": {
        "id": "ATYG1UJ_anlJ",
        "colab_type": "code",
        "colab": {
          "base_uri": "https://localhost:8080/",
          "height": 35
        },
        "outputId": "3909237f-3151-4c3d-8dc6-13bbe86aa630"
      },
      "source": [
        "torch.save(best_param.state_dict(), '/content/Autoencoder_noise.pth')\n",
        "autoencoder.load_state_dict(torch.load('/content/Autoencoder_noise.pth'))"
      ],
      "execution_count": null,
      "outputs": [
        {
          "output_type": "execute_result",
          "data": {
            "text/plain": [
              "<All keys matched successfully>"
            ]
          },
          "metadata": {
            "tags": []
          },
          "execution_count": 79
        }
      ]
    },
    {
      "cell_type": "markdown",
      "metadata": {
        "id": "qA5xi_AvRjrU",
        "colab_type": "text"
      },
      "source": [
        "# Bonus 4. (2+ балла)"
      ]
    },
    {
      "cell_type": "markdown",
      "metadata": {
        "id": "dHEYlsVHRzIE",
        "colab_type": "text"
      },
      "source": [
        "Пишем телеграм-бота!\n",
        "\n",
        "Можно написать телеграм-бота, которому на вход вы подаете, например, картинку без улыбки, а он вам возвращает с улыбкой.\n",
        "\n",
        "Или еще много вариантов, чего может уметь делать бот. Придумайте сами)"
      ]
    },
    {
      "cell_type": "markdown",
      "metadata": {
        "id": "M-KAfd5pLCBS",
        "colab_type": "text"
      },
      "source": [
        "# Эпилог"
      ]
    },
    {
      "cell_type": "markdown",
      "metadata": {
        "id": "SDI06AONLYKG",
        "colab_type": "text"
      },
      "source": [
        "здесь мы рассмотрели не все применения автоэнкодеров. Еще есть, например:\n",
        "\n",
        "-- поиск аномалий\n",
        "-- дополнение отсутствующих частей картины\n",
        "-- работа с sequential данными (например, временными рядами)\n",
        "-- гибриды ГАН+АЕ, которые активно изучаются в последнее время\n",
        "-- использование латентных переменных АЕ в качестве фичей\n",
        "...\n",
        "\n",
        "Они не были частью этого проекта, потому что для их реализации пришлось бы больше возиться с датасетами. \n",
        "\n",
        "Но! Если вы хотите, вы, конечно, всегда можете реализовать еще что-то и получить за это еще допбаллы."
      ]
    },
    {
      "cell_type": "markdown",
      "metadata": {
        "id": "bBCiWOicLwLI",
        "colab_type": "text"
      },
      "source": [
        "Надеюсь, вам понравилось!"
      ]
    }
  ]
}